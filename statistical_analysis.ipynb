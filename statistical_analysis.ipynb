{
 "cells": [
  {
   "cell_type": "code",
   "execution_count": 1,
   "metadata": {},
   "outputs": [
    {
     "name": "stderr",
     "output_type": "stream",
     "text": [
      "E:\\installation\\Anaconda\\lib\\site-packages\\xarray\\core\\merge.py:10: FutureWarning: The Panel class is removed from pandas. Accessing it from the top-level namespace will also be removed in the next version\n",
      "  PANDAS_TYPES = (pd.Series, pd.DataFrame, pd.Panel)\n"
     ]
    }
   ],
   "source": [
    "import numpy as np\n",
    "import pandas as pd\n",
    "import matplotlib as mpl\n",
    "import matplotlib.pyplot as plt\n",
    "import seaborn as sns\n",
    "# import statsmodels.api as sm # Linear regression scenario\n",
    "from scipy import stats\n",
    "import scipy.stats as stats\n",
    "import statsmodels.formula.api as smf # OLS\n",
    "from scipy.stats import chi2_contingency \n",
    "import pingouin as pg"
   ]
  },
  {
   "cell_type": "code",
   "execution_count": 2,
   "metadata": {},
   "outputs": [],
   "source": [
    "#import data\n",
    "df = pd.read_excel(\"D:\\\\teaching\\\\New Media Analysis and User Experience\\\\survey\\\\inm.xlsx\")"
   ]
  },
  {
   "cell_type": "markdown",
   "metadata": {},
   "source": [
    "# 数据清洗"
   ]
  },
  {
   "cell_type": "code",
   "execution_count": 3,
   "metadata": {},
   "outputs": [],
   "source": [
    "def gender(series):\n",
    "    if series == 1:\n",
    "        return '男性'\n",
    "    else:\n",
    "        return '女性'\n",
    "\n",
    "def hukou(series):\n",
    "    if series == 1:\n",
    "        return '城镇'\n",
    "    else:\n",
    "        return '非城镇'\n",
    "\n",
    "def location (series):\n",
    "    if series == 1:\n",
    "        return \"非广东地区\"\n",
    "    elif series == 2:\n",
    "        return \"珠三角地区\"\n",
    "    elif series == 3:\n",
    "        return \"粤东\"\n",
    "    elif series == 4:\n",
    "        return \"粤西\"\n",
    "    else:\n",
    "        return \"粤北\"\n",
    "\n",
    "def like(series):\n",
    "    if series == 1:\n",
    "        return '喜欢'\n",
    "    else:\n",
    "        return '不喜欢'\n",
    "\n",
    "def impr(series):\n",
    "    if series == 1:\n",
    "        return '有提升空间'\n",
    "    else:\n",
    "        return '挺好的'\n"
   ]
  },
  {
   "cell_type": "code",
   "execution_count": 4,
   "metadata": {},
   "outputs": [],
   "source": [
    "df.gender = df.gender.apply(gender).astype('category')\n",
    "# df.gender.value_counts()\n",
    "\n",
    "df.hukou = df.hukou.apply(hukou).astype('category')\n",
    "# df.hukou.value_counts()\n",
    "\n",
    "df.location = df.location.apply(location).astype('category')\n",
    "# df.location.value_counts()"
   ]
  },
  {
   "cell_type": "code",
   "execution_count": 5,
   "metadata": {},
   "outputs": [
    {
     "name": "stdout",
     "output_type": "stream",
     "text": [
      "0 method\n",
      "1 l_code\n",
      "2 l_design\n",
      "3 l_operation\n",
      "4 l_production\n",
      "5 l_copywriter\n",
      "6 l_market\n",
      "7 l_other\n",
      "8 l_non\n",
      "9 maj_work\n",
      "10 maj_dir\n",
      "11 cap_code\n",
      "12 cap_design\n",
      "13 cap_operation\n",
      "14 cap_production\n",
      "15 cap_copywriter\n",
      "16 cap_market\n",
      "17 ranking\n",
      "18 effort_read\n",
      "19 effort_info\n",
      "20 effort_res\n",
      "21 effort_project\n",
      "22 effort_overall\n",
      "23 sati_code\n",
      "24 sati_design\n",
      "25 sati_operation\n",
      "26 sati_production\n",
      "27 sati_copywriter\n",
      "28 sati_market\n",
      "29 sati_other\n",
      "30 impr_code\n",
      "31 impr_design\n",
      "32 impr_operation\n",
      "33 impr_production\n",
      "34 impr_copywriter\n",
      "35 impr_market\n",
      "36 impr_other\n",
      "37 sati_overall\n",
      "38 grade\n",
      "39 gender\n",
      "40 spending\n",
      "41 high_school_major\n",
      "42 location\n",
      "43 hukou\n"
     ]
    }
   ],
   "source": [
    "for i in range(len(df.columns)):\n",
    "    print(i,df.columns[i])"
   ]
  },
  {
   "cell_type": "code",
   "execution_count": 6,
   "metadata": {},
   "outputs": [],
   "source": [
    "for i in range(1,9):\n",
    "    df.iloc[:,i] = df.iloc[:,i].apply(like).astype('category')"
   ]
  },
  {
   "cell_type": "code",
   "execution_count": 7,
   "metadata": {},
   "outputs": [
    {
     "data": {
      "text/html": [
       "<div>\n",
       "<style scoped>\n",
       "    .dataframe tbody tr th:only-of-type {\n",
       "        vertical-align: middle;\n",
       "    }\n",
       "\n",
       "    .dataframe tbody tr th {\n",
       "        vertical-align: top;\n",
       "    }\n",
       "\n",
       "    .dataframe thead th {\n",
       "        text-align: right;\n",
       "    }\n",
       "</style>\n",
       "<table border=\"1\" class=\"dataframe\">\n",
       "  <thead>\n",
       "    <tr style=\"text-align: right;\">\n",
       "      <th></th>\n",
       "      <th>l_code</th>\n",
       "      <th>l_design</th>\n",
       "      <th>l_operation</th>\n",
       "      <th>l_production</th>\n",
       "      <th>l_copywriter</th>\n",
       "      <th>l_market</th>\n",
       "      <th>l_other</th>\n",
       "      <th>l_non</th>\n",
       "    </tr>\n",
       "  </thead>\n",
       "  <tbody>\n",
       "    <tr>\n",
       "      <th>0</th>\n",
       "      <td>不喜欢</td>\n",
       "      <td>喜欢</td>\n",
       "      <td>喜欢</td>\n",
       "      <td>喜欢</td>\n",
       "      <td>喜欢</td>\n",
       "      <td>不喜欢</td>\n",
       "      <td>不喜欢</td>\n",
       "      <td>不喜欢</td>\n",
       "    </tr>\n",
       "    <tr>\n",
       "      <th>1</th>\n",
       "      <td>喜欢</td>\n",
       "      <td>不喜欢</td>\n",
       "      <td>喜欢</td>\n",
       "      <td>喜欢</td>\n",
       "      <td>不喜欢</td>\n",
       "      <td>不喜欢</td>\n",
       "      <td>不喜欢</td>\n",
       "      <td>不喜欢</td>\n",
       "    </tr>\n",
       "    <tr>\n",
       "      <th>2</th>\n",
       "      <td>不喜欢</td>\n",
       "      <td>喜欢</td>\n",
       "      <td>喜欢</td>\n",
       "      <td>喜欢</td>\n",
       "      <td>喜欢</td>\n",
       "      <td>不喜欢</td>\n",
       "      <td>不喜欢</td>\n",
       "      <td>不喜欢</td>\n",
       "    </tr>\n",
       "    <tr>\n",
       "      <th>3</th>\n",
       "      <td>不喜欢</td>\n",
       "      <td>不喜欢</td>\n",
       "      <td>喜欢</td>\n",
       "      <td>喜欢</td>\n",
       "      <td>喜欢</td>\n",
       "      <td>不喜欢</td>\n",
       "      <td>不喜欢</td>\n",
       "      <td>不喜欢</td>\n",
       "    </tr>\n",
       "    <tr>\n",
       "      <th>4</th>\n",
       "      <td>不喜欢</td>\n",
       "      <td>喜欢</td>\n",
       "      <td>不喜欢</td>\n",
       "      <td>不喜欢</td>\n",
       "      <td>不喜欢</td>\n",
       "      <td>不喜欢</td>\n",
       "      <td>不喜欢</td>\n",
       "      <td>不喜欢</td>\n",
       "    </tr>\n",
       "    <tr>\n",
       "      <th>...</th>\n",
       "      <td>...</td>\n",
       "      <td>...</td>\n",
       "      <td>...</td>\n",
       "      <td>...</td>\n",
       "      <td>...</td>\n",
       "      <td>...</td>\n",
       "      <td>...</td>\n",
       "      <td>...</td>\n",
       "    </tr>\n",
       "    <tr>\n",
       "      <th>75</th>\n",
       "      <td>喜欢</td>\n",
       "      <td>不喜欢</td>\n",
       "      <td>不喜欢</td>\n",
       "      <td>喜欢</td>\n",
       "      <td>不喜欢</td>\n",
       "      <td>不喜欢</td>\n",
       "      <td>不喜欢</td>\n",
       "      <td>不喜欢</td>\n",
       "    </tr>\n",
       "    <tr>\n",
       "      <th>76</th>\n",
       "      <td>不喜欢</td>\n",
       "      <td>不喜欢</td>\n",
       "      <td>喜欢</td>\n",
       "      <td>喜欢</td>\n",
       "      <td>不喜欢</td>\n",
       "      <td>不喜欢</td>\n",
       "      <td>不喜欢</td>\n",
       "      <td>不喜欢</td>\n",
       "    </tr>\n",
       "    <tr>\n",
       "      <th>77</th>\n",
       "      <td>喜欢</td>\n",
       "      <td>喜欢</td>\n",
       "      <td>喜欢</td>\n",
       "      <td>喜欢</td>\n",
       "      <td>不喜欢</td>\n",
       "      <td>不喜欢</td>\n",
       "      <td>不喜欢</td>\n",
       "      <td>不喜欢</td>\n",
       "    </tr>\n",
       "    <tr>\n",
       "      <th>78</th>\n",
       "      <td>不喜欢</td>\n",
       "      <td>喜欢</td>\n",
       "      <td>喜欢</td>\n",
       "      <td>喜欢</td>\n",
       "      <td>喜欢</td>\n",
       "      <td>喜欢</td>\n",
       "      <td>不喜欢</td>\n",
       "      <td>不喜欢</td>\n",
       "    </tr>\n",
       "    <tr>\n",
       "      <th>79</th>\n",
       "      <td>不喜欢</td>\n",
       "      <td>喜欢</td>\n",
       "      <td>喜欢</td>\n",
       "      <td>喜欢</td>\n",
       "      <td>喜欢</td>\n",
       "      <td>喜欢</td>\n",
       "      <td>不喜欢</td>\n",
       "      <td>不喜欢</td>\n",
       "    </tr>\n",
       "  </tbody>\n",
       "</table>\n",
       "<p>80 rows × 8 columns</p>\n",
       "</div>"
      ],
      "text/plain": [
       "   l_code l_design l_operation l_production l_copywriter l_market l_other  \\\n",
       "0     不喜欢       喜欢          喜欢           喜欢           喜欢      不喜欢     不喜欢   \n",
       "1      喜欢      不喜欢          喜欢           喜欢          不喜欢      不喜欢     不喜欢   \n",
       "2     不喜欢       喜欢          喜欢           喜欢           喜欢      不喜欢     不喜欢   \n",
       "3     不喜欢      不喜欢          喜欢           喜欢           喜欢      不喜欢     不喜欢   \n",
       "4     不喜欢       喜欢         不喜欢          不喜欢          不喜欢      不喜欢     不喜欢   \n",
       "..    ...      ...         ...          ...          ...      ...     ...   \n",
       "75     喜欢      不喜欢         不喜欢           喜欢          不喜欢      不喜欢     不喜欢   \n",
       "76    不喜欢      不喜欢          喜欢           喜欢          不喜欢      不喜欢     不喜欢   \n",
       "77     喜欢       喜欢          喜欢           喜欢          不喜欢      不喜欢     不喜欢   \n",
       "78    不喜欢       喜欢          喜欢           喜欢           喜欢       喜欢     不喜欢   \n",
       "79    不喜欢       喜欢          喜欢           喜欢           喜欢       喜欢     不喜欢   \n",
       "\n",
       "   l_non  \n",
       "0    不喜欢  \n",
       "1    不喜欢  \n",
       "2    不喜欢  \n",
       "3    不喜欢  \n",
       "4    不喜欢  \n",
       "..   ...  \n",
       "75   不喜欢  \n",
       "76   不喜欢  \n",
       "77   不喜欢  \n",
       "78   不喜欢  \n",
       "79   不喜欢  \n",
       "\n",
       "[80 rows x 8 columns]"
      ]
     },
     "execution_count": 7,
     "metadata": {},
     "output_type": "execute_result"
    }
   ],
   "source": [
    "df.filter(regex = \"^l_.*\")"
   ]
  },
  {
   "cell_type": "code",
   "execution_count": 8,
   "metadata": {},
   "outputs": [],
   "source": [
    "for i in range(30,37):\n",
    "    df.iloc[:,i] = df.iloc[:,i].apply(impr).astype('category')"
   ]
  },
  {
   "cell_type": "code",
   "execution_count": 9,
   "metadata": {},
   "outputs": [
    {
     "data": {
      "text/html": [
       "<div>\n",
       "<style scoped>\n",
       "    .dataframe tbody tr th:only-of-type {\n",
       "        vertical-align: middle;\n",
       "    }\n",
       "\n",
       "    .dataframe tbody tr th {\n",
       "        vertical-align: top;\n",
       "    }\n",
       "\n",
       "    .dataframe thead th {\n",
       "        text-align: right;\n",
       "    }\n",
       "</style>\n",
       "<table border=\"1\" class=\"dataframe\">\n",
       "  <thead>\n",
       "    <tr style=\"text-align: right;\">\n",
       "      <th></th>\n",
       "      <th>impr_code</th>\n",
       "      <th>impr_design</th>\n",
       "      <th>impr_operation</th>\n",
       "      <th>impr_production</th>\n",
       "      <th>impr_copywriter</th>\n",
       "      <th>impr_market</th>\n",
       "      <th>impr_other</th>\n",
       "    </tr>\n",
       "  </thead>\n",
       "  <tbody>\n",
       "    <tr>\n",
       "      <th>0</th>\n",
       "      <td>挺好的</td>\n",
       "      <td>有提升空间</td>\n",
       "      <td>有提升空间</td>\n",
       "      <td>有提升空间</td>\n",
       "      <td>有提升空间</td>\n",
       "      <td>有提升空间</td>\n",
       "      <td>挺好的</td>\n",
       "    </tr>\n",
       "    <tr>\n",
       "      <th>1</th>\n",
       "      <td>有提升空间</td>\n",
       "      <td>有提升空间</td>\n",
       "      <td>挺好的</td>\n",
       "      <td>挺好的</td>\n",
       "      <td>有提升空间</td>\n",
       "      <td>有提升空间</td>\n",
       "      <td>挺好的</td>\n",
       "    </tr>\n",
       "    <tr>\n",
       "      <th>2</th>\n",
       "      <td>挺好的</td>\n",
       "      <td>有提升空间</td>\n",
       "      <td>有提升空间</td>\n",
       "      <td>有提升空间</td>\n",
       "      <td>有提升空间</td>\n",
       "      <td>挺好的</td>\n",
       "      <td>挺好的</td>\n",
       "    </tr>\n",
       "    <tr>\n",
       "      <th>3</th>\n",
       "      <td>挺好的</td>\n",
       "      <td>挺好的</td>\n",
       "      <td>有提升空间</td>\n",
       "      <td>有提升空间</td>\n",
       "      <td>有提升空间</td>\n",
       "      <td>挺好的</td>\n",
       "      <td>挺好的</td>\n",
       "    </tr>\n",
       "    <tr>\n",
       "      <th>4</th>\n",
       "      <td>挺好的</td>\n",
       "      <td>有提升空间</td>\n",
       "      <td>挺好的</td>\n",
       "      <td>挺好的</td>\n",
       "      <td>有提升空间</td>\n",
       "      <td>挺好的</td>\n",
       "      <td>挺好的</td>\n",
       "    </tr>\n",
       "    <tr>\n",
       "      <th>...</th>\n",
       "      <td>...</td>\n",
       "      <td>...</td>\n",
       "      <td>...</td>\n",
       "      <td>...</td>\n",
       "      <td>...</td>\n",
       "      <td>...</td>\n",
       "      <td>...</td>\n",
       "    </tr>\n",
       "    <tr>\n",
       "      <th>75</th>\n",
       "      <td>有提升空间</td>\n",
       "      <td>挺好的</td>\n",
       "      <td>挺好的</td>\n",
       "      <td>有提升空间</td>\n",
       "      <td>挺好的</td>\n",
       "      <td>有提升空间</td>\n",
       "      <td>挺好的</td>\n",
       "    </tr>\n",
       "    <tr>\n",
       "      <th>76</th>\n",
       "      <td>挺好的</td>\n",
       "      <td>有提升空间</td>\n",
       "      <td>有提升空间</td>\n",
       "      <td>挺好的</td>\n",
       "      <td>挺好的</td>\n",
       "      <td>有提升空间</td>\n",
       "      <td>挺好的</td>\n",
       "    </tr>\n",
       "    <tr>\n",
       "      <th>77</th>\n",
       "      <td>有提升空间</td>\n",
       "      <td>挺好的</td>\n",
       "      <td>有提升空间</td>\n",
       "      <td>有提升空间</td>\n",
       "      <td>挺好的</td>\n",
       "      <td>有提升空间</td>\n",
       "      <td>挺好的</td>\n",
       "    </tr>\n",
       "    <tr>\n",
       "      <th>78</th>\n",
       "      <td>挺好的</td>\n",
       "      <td>有提升空间</td>\n",
       "      <td>挺好的</td>\n",
       "      <td>挺好的</td>\n",
       "      <td>挺好的</td>\n",
       "      <td>有提升空间</td>\n",
       "      <td>挺好的</td>\n",
       "    </tr>\n",
       "    <tr>\n",
       "      <th>79</th>\n",
       "      <td>有提升空间</td>\n",
       "      <td>挺好的</td>\n",
       "      <td>有提升空间</td>\n",
       "      <td>有提升空间</td>\n",
       "      <td>挺好的</td>\n",
       "      <td>有提升空间</td>\n",
       "      <td>挺好的</td>\n",
       "    </tr>\n",
       "  </tbody>\n",
       "</table>\n",
       "<p>80 rows × 7 columns</p>\n",
       "</div>"
      ],
      "text/plain": [
       "   impr_code impr_design impr_operation impr_production impr_copywriter  \\\n",
       "0        挺好的       有提升空间          有提升空间           有提升空间           有提升空间   \n",
       "1      有提升空间       有提升空间            挺好的             挺好的           有提升空间   \n",
       "2        挺好的       有提升空间          有提升空间           有提升空间           有提升空间   \n",
       "3        挺好的         挺好的          有提升空间           有提升空间           有提升空间   \n",
       "4        挺好的       有提升空间            挺好的             挺好的           有提升空间   \n",
       "..       ...         ...            ...             ...             ...   \n",
       "75     有提升空间         挺好的            挺好的           有提升空间             挺好的   \n",
       "76       挺好的       有提升空间          有提升空间             挺好的             挺好的   \n",
       "77     有提升空间         挺好的          有提升空间           有提升空间             挺好的   \n",
       "78       挺好的       有提升空间            挺好的             挺好的             挺好的   \n",
       "79     有提升空间         挺好的          有提升空间           有提升空间             挺好的   \n",
       "\n",
       "   impr_market impr_other  \n",
       "0        有提升空间        挺好的  \n",
       "1        有提升空间        挺好的  \n",
       "2          挺好的        挺好的  \n",
       "3          挺好的        挺好的  \n",
       "4          挺好的        挺好的  \n",
       "..         ...        ...  \n",
       "75       有提升空间        挺好的  \n",
       "76       有提升空间        挺好的  \n",
       "77       有提升空间        挺好的  \n",
       "78       有提升空间        挺好的  \n",
       "79       有提升空间        挺好的  \n",
       "\n",
       "[80 rows x 7 columns]"
      ]
     },
     "execution_count": 9,
     "metadata": {},
     "output_type": "execute_result"
    }
   ],
   "source": [
    "df.filter(regex = \"^impr_.*\")"
   ]
  },
  {
   "cell_type": "markdown",
   "metadata": {},
   "source": [
    "# 数据分析"
   ]
  },
  {
   "cell_type": "markdown",
   "metadata": {},
   "source": [
    "## ✨探索数据（描述性统计）"
   ]
  },
  {
   "cell_type": "code",
   "execution_count": 10,
   "metadata": {},
   "outputs": [
    {
     "data": {
      "text/plain": [
       "count    80.000000\n",
       "mean      3.175000\n",
       "std       0.707554\n",
       "min       1.000000\n",
       "25%       3.000000\n",
       "50%       3.000000\n",
       "75%       4.000000\n",
       "max       5.000000\n",
       "Name: effort_overall, dtype: float64"
      ]
     },
     "execution_count": 10,
     "metadata": {},
     "output_type": "execute_result"
    }
   ],
   "source": [
    "\n",
    "# dt.head(5)\n",
    "\n",
    "# dt.describe()\n",
    "\n",
    "df[\"effort_overall\"].describe()\n"
   ]
  },
  {
   "cell_type": "markdown",
   "metadata": {},
   "source": [
    "## 🎉推断性统计"
   ]
  },
  {
   "cell_type": "markdown",
   "metadata": {},
   "source": [
    "### t检验"
   ]
  },
  {
   "cell_type": "markdown",
   "metadata": {},
   "source": [
    "均值比较"
   ]
  },
  {
   "cell_type": "code",
   "execution_count": 55,
   "metadata": {},
   "outputs": [
    {
     "data": {
      "text/plain": [
       "hukou\n",
       "城镇     3.40\n",
       "非城镇    2.92\n",
       "Name: ranking, dtype: float64"
      ]
     },
     "execution_count": 55,
     "metadata": {},
     "output_type": "execute_result"
    }
   ],
   "source": [
    "df.groupby('hukou').ranking.mean()"
   ]
  },
  {
   "cell_type": "code",
   "execution_count": 58,
   "metadata": {},
   "outputs": [
    {
     "name": "stdout",
     "output_type": "stream",
     "text": [
      "t = -17.882773758679836\n",
      "p = 8.350312923730313e-40\n"
     ]
    }
   ],
   "source": [
    "t2, p2 = stats.ttest_ind(df.hukou,df.ranking)\n",
    "print(\"t = \" + str(t2))\n",
    "print(\"p = \" + str(p2))"
   ]
  },
  {
   "cell_type": "markdown",
   "metadata": {},
   "source": [
    "### 方差分析"
   ]
  },
  {
   "cell_type": "markdown",
   "metadata": {},
   "source": [
    "**不同生源地专业满意度关系分析**\n",
    "\n",
    "均值比较"
   ]
  },
  {
   "cell_type": "code",
   "execution_count": 19,
   "metadata": {},
   "outputs": [
    {
     "data": {
      "text/plain": [
       "location\n",
       "珠三角地区    3.450000\n",
       "粤东       3.529412\n",
       "粤北       3.166667\n",
       "粤西       3.300000\n",
       "非广东地区    3.285714\n",
       "Name: sati_overall, dtype: float64"
      ]
     },
     "execution_count": 19,
     "metadata": {},
     "output_type": "execute_result"
    }
   ],
   "source": [
    "df.groupby('location').sati_overall.mean()"
   ]
  },
  {
   "cell_type": "code",
   "execution_count": 22,
   "metadata": {},
   "outputs": [
    {
     "data": {
      "text/plain": [
       "F_onewayResult(statistic=0.2510353261441901, pvalue=0.9081728336202827)"
      ]
     },
     "execution_count": 22,
     "metadata": {},
     "output_type": "execute_result"
    }
   ],
   "source": [
    "# 方差分析\n",
    "stats.f_oneway(df['sati_overall'][df['location'] == \"非广东地区\"],\n",
    "               df['sati_overall'][df['location'] == \"珠三角地区\"],\n",
    "               df['sati_overall'][df['location'] == \"粤东\"],\n",
    "               df['sati_overall'][df['location'] == \"粤北\"],\n",
    "               df['sati_overall'][df['location'] == \"粤西\"])             "
   ]
  },
  {
   "cell_type": "markdown",
   "metadata": {},
   "source": [
    "**pingouin实现** 🐧 🐧 🐧 🐧 🐧 🐧 🐧 🐧 🐧 🐧 🐧 🐧 🐧 🐧 🐧 🐧 🐧 🐧 "
   ]
  },
  {
   "cell_type": "markdown",
   "metadata": {},
   "source": [
    "参考：\n",
    "- [One-way ANOVA using a pandas DataFrame](https://pingouin-stats.org/index.html#one-way-anova-using-a-pandas-dataframe)\n",
    "- [Post-hoc tests corrected for multiple-comparisons](https://pingouin-stats.org/index.html#post-hoc-tests-corrected-for-multiple-comparisons)"
   ]
  },
  {
   "cell_type": "code",
   "execution_count": 32,
   "metadata": {},
   "outputs": [
    {
     "name": "stdout",
     "output_type": "stream",
     "text": [
      "     Source         SS  DF        MS         F     p-unc       np2\n",
      "0  location   0.890301   4  0.222575  0.251035  0.908173  0.013212\n",
      "1    Within  66.497199  75  0.886629       NaN       NaN       NaN\n"
     ]
    }
   ],
   "source": [
    "aov = pg.anova(data=df, dv='sati_overall', between='location', detailed=True)\n",
    "print(aov)"
   ]
  },
  {
   "cell_type": "markdown",
   "metadata": {},
   "source": [
    "事后检验（可类比SPSS中的LSD）"
   ]
  },
  {
   "cell_type": "code",
   "execution_count": 36,
   "metadata": {},
   "outputs": [
    {
     "name": "stdout",
     "output_type": "stream",
     "text": [
      "\n",
      "==============\n",
      "POST HOC TESTS\n",
      "==============\n",
      "\n",
      "Contrast    A           B           Paired    Parametric         T     dof  Tail         p-unc    BF10    hedges\n",
      "----------  ----------  ----------  --------  ------------  ------  ------  ---------  -------  ------  --------\n",
      "location    粤西        珠三角地区  True      True          -0.372  13.030  two-sided    0.716   0.354    -0.137\n",
      "location    粤西        粤东        True      True          -0.592  11.122  two-sided    0.565   0.417    -0.275\n",
      "location    粤西        非广东地区  True      True           0.035  12.892  two-sided    0.973   0.424     0.014\n",
      "location    粤西        粤北        True      True           0.245  12.133  two-sided    0.810   0.445     0.115\n",
      "location    珠三角地区  粤东        True      True          -0.380  53.886  two-sided    0.706   0.305    -0.084\n",
      "location    珠三角地区  非广东地区  True      True           0.659  18.126  two-sided    0.518   0.437     0.161\n",
      "location    珠三角地区  粤北        True      True           0.651   6.872  two-sided    0.536   0.454     0.265\n",
      "location    粤东        非广东地区  True      True           1.094  11.822  two-sided    0.296   0.604     0.464\n",
      "location    粤东        粤北        True      True           0.863   5.996  two-sided    0.421   0.533     0.532\n",
      "location    非广东地区  粤北        True      True           0.270   7.071  two-sided    0.795   0.468     0.147\n",
      "\n"
     ]
    },
    {
     "name": "stderr",
     "output_type": "stream",
     "text": [
      "E:\\installation\\Anaconda\\lib\\site-packages\\pingouin\\parametric.py:198: UserWarning: x and y have unequal sizes. Switching to paired == False. Check your data.\n",
      "  warnings.warn(\"x and y have unequal sizes. Switching to \"\n",
      "E:\\installation\\Anaconda\\lib\\site-packages\\pingouin\\effsize.py:689: UserWarning: x and y have unequal sizes. Switching to paired == False.\n",
      "  warnings.warn(\"x and y have unequal sizes. Switching to \"\n"
     ]
    }
   ],
   "source": [
    "# FDR-corrected post hocs with Hedges'g effect size\n",
    "posthoc = pg.pairwise_ttests(data=df, dv='sati_overall', within='location')\n",
    "\n",
    "# Pretty printing of table\n",
    "pg.print_table(posthoc, floatfmt='.3f')"
   ]
  },
  {
   "cell_type": "markdown",
   "metadata": {},
   "source": [
    "### 卡方检验"
   ]
  },
  {
   "cell_type": "code",
   "execution_count": 43,
   "metadata": {},
   "outputs": [
    {
     "data": {
      "text/plain": [
       "0.14999215328710366"
      ]
     },
     "execution_count": 43,
     "metadata": {},
     "output_type": "execute_result"
    }
   ],
   "source": [
    "# # 显示频数\n",
    "# bygender = dt.groupby(\"gender\").l_code.value_counts()\n",
    "# bygender\n",
    "\n",
    "# # 显示比例\n",
    "# bygender_prop = dt.groupby(\"gender\").l_code.value_counts(normalize=True)\n",
    "# bygender_prop\n",
    "\n",
    "# 交叉表\n",
    "crosstab = pd.crosstab(df.gender,df.l_code)\n",
    "crosstab\n",
    "\n",
    "# 卡方检验\n",
    "stat, p, dof, expected = chi2_contingency(crosstab) \n",
    "p\n",
    "\n",
    "# 可视化\n",
    "# heatmap(\n",
    "#     x = crosstab.gender,\n",
    "#     y = crosstab.l_code\n",
    "# )"
   ]
  },
  {
   "cell_type": "markdown",
   "metadata": {},
   "source": [
    "**pingouin实现** 🐧 🐧 🐧 🐧 🐧 🐧 🐧 🐧 🐧 🐧 🐧 🐧 🐧 🐧 🐧 🐧 🐧 🐧 "
   ]
  },
  {
   "cell_type": "markdown",
   "metadata": {},
   "source": [
    "参考：\n",
    "- [pingouin.chi2_independence](https://pingouin-stats.org/generated/pingouin.chi2_independence.html?highlight=chi%20square)"
   ]
  },
  {
   "cell_type": "code",
   "execution_count": 49,
   "metadata": {},
   "outputs": [
    {
     "name": "stderr",
     "output_type": "stream",
     "text": [
      "E:\\installation\\Anaconda\\lib\\site-packages\\pingouin\\contingency.py:151: UserWarning: Low count on expected frequencies.\n",
      "  warnings.warn('Low count on {} frequencies.'.format(name))\n"
     ]
    }
   ],
   "source": [
    "expected, observed, stats = pg.chi2_independence(df, x='gender',y='l_code') #提示样本量过小，不适合用该方法"
   ]
  },
  {
   "cell_type": "code",
   "execution_count": null,
   "metadata": {},
   "outputs": [],
   "source": [
    "expected"
   ]
  },
  {
   "cell_type": "code",
   "execution_count": null,
   "metadata": {},
   "outputs": [],
   "source": [
    "observed"
   ]
  },
  {
   "cell_type": "code",
   "execution_count": null,
   "metadata": {},
   "outputs": [],
   "source": [
    "stats"
   ]
  },
  {
   "cell_type": "markdown",
   "metadata": {},
   "source": [
    "### 相关分析"
   ]
  },
  {
   "cell_type": "code",
   "execution_count": 44,
   "metadata": {},
   "outputs": [
    {
     "data": {
      "text/html": [
       "<div>\n",
       "<style scoped>\n",
       "    .dataframe tbody tr th:only-of-type {\n",
       "        vertical-align: middle;\n",
       "    }\n",
       "\n",
       "    .dataframe tbody tr th {\n",
       "        vertical-align: top;\n",
       "    }\n",
       "\n",
       "    .dataframe thead th {\n",
       "        text-align: right;\n",
       "    }\n",
       "</style>\n",
       "<table border=\"1\" class=\"dataframe\">\n",
       "  <thead>\n",
       "    <tr style=\"text-align: right;\">\n",
       "      <th></th>\n",
       "      <th>effort_overall</th>\n",
       "      <th>ranking</th>\n",
       "    </tr>\n",
       "  </thead>\n",
       "  <tbody>\n",
       "    <tr>\n",
       "      <th>effort_overall</th>\n",
       "      <td>1.00000</td>\n",
       "      <td>0.28433</td>\n",
       "    </tr>\n",
       "    <tr>\n",
       "      <th>ranking</th>\n",
       "      <td>0.28433</td>\n",
       "      <td>1.00000</td>\n",
       "    </tr>\n",
       "  </tbody>\n",
       "</table>\n",
       "</div>"
      ],
      "text/plain": [
       "                effort_overall  ranking\n",
       "effort_overall         1.00000  0.28433\n",
       "ranking                0.28433  1.00000"
      ]
     },
     "execution_count": 44,
     "metadata": {},
     "output_type": "execute_result"
    }
   ],
   "source": [
    "# 努力方式与排名的相关关系\n",
    "df[[\"effort_overall\",\"ranking\"]].corr()"
   ]
  },
  {
   "cell_type": "code",
   "execution_count": 10,
   "metadata": {},
   "outputs": [
    {
     "data": {
      "text/html": [
       "<div>\n",
       "<style scoped>\n",
       "    .dataframe tbody tr th:only-of-type {\n",
       "        vertical-align: middle;\n",
       "    }\n",
       "\n",
       "    .dataframe tbody tr th {\n",
       "        vertical-align: top;\n",
       "    }\n",
       "\n",
       "    .dataframe thead th {\n",
       "        text-align: right;\n",
       "    }\n",
       "</style>\n",
       "<table border=\"1\" class=\"dataframe\">\n",
       "  <thead>\n",
       "    <tr style=\"text-align: right;\">\n",
       "      <th></th>\n",
       "      <th>cap_code</th>\n",
       "      <th>effort_read</th>\n",
       "      <th>effort_info</th>\n",
       "      <th>effort_res</th>\n",
       "      <th>effort_project</th>\n",
       "      <th>effort_overall</th>\n",
       "    </tr>\n",
       "  </thead>\n",
       "  <tbody>\n",
       "    <tr>\n",
       "      <th>cap_code</th>\n",
       "      <td>1.000000</td>\n",
       "      <td>0.266025</td>\n",
       "      <td>0.351830</td>\n",
       "      <td>0.302304</td>\n",
       "      <td>0.301271</td>\n",
       "      <td>0.167033</td>\n",
       "    </tr>\n",
       "    <tr>\n",
       "      <th>effort_read</th>\n",
       "      <td>0.266025</td>\n",
       "      <td>1.000000</td>\n",
       "      <td>0.467344</td>\n",
       "      <td>0.418508</td>\n",
       "      <td>0.247580</td>\n",
       "      <td>0.239919</td>\n",
       "    </tr>\n",
       "    <tr>\n",
       "      <th>effort_info</th>\n",
       "      <td>0.351830</td>\n",
       "      <td>0.467344</td>\n",
       "      <td>1.000000</td>\n",
       "      <td>0.642064</td>\n",
       "      <td>0.468721</td>\n",
       "      <td>0.252594</td>\n",
       "    </tr>\n",
       "    <tr>\n",
       "      <th>effort_res</th>\n",
       "      <td>0.302304</td>\n",
       "      <td>0.418508</td>\n",
       "      <td>0.642064</td>\n",
       "      <td>1.000000</td>\n",
       "      <td>0.372938</td>\n",
       "      <td>0.324249</td>\n",
       "    </tr>\n",
       "    <tr>\n",
       "      <th>effort_project</th>\n",
       "      <td>0.301271</td>\n",
       "      <td>0.247580</td>\n",
       "      <td>0.468721</td>\n",
       "      <td>0.372938</td>\n",
       "      <td>1.000000</td>\n",
       "      <td>0.327957</td>\n",
       "    </tr>\n",
       "    <tr>\n",
       "      <th>effort_overall</th>\n",
       "      <td>0.167033</td>\n",
       "      <td>0.239919</td>\n",
       "      <td>0.252594</td>\n",
       "      <td>0.324249</td>\n",
       "      <td>0.327957</td>\n",
       "      <td>1.000000</td>\n",
       "    </tr>\n",
       "  </tbody>\n",
       "</table>\n",
       "</div>"
      ],
      "text/plain": [
       "                cap_code  effort_read  effort_info  effort_res  \\\n",
       "cap_code        1.000000     0.266025     0.351830    0.302304   \n",
       "effort_read     0.266025     1.000000     0.467344    0.418508   \n",
       "effort_info     0.351830     0.467344     1.000000    0.642064   \n",
       "effort_res      0.302304     0.418508     0.642064    1.000000   \n",
       "effort_project  0.301271     0.247580     0.468721    0.372938   \n",
       "effort_overall  0.167033     0.239919     0.252594    0.324249   \n",
       "\n",
       "                effort_project  effort_overall  \n",
       "cap_code              0.301271        0.167033  \n",
       "effort_read           0.247580        0.239919  \n",
       "effort_info           0.468721        0.252594  \n",
       "effort_res            0.372938        0.324249  \n",
       "effort_project        1.000000        0.327957  \n",
       "effort_overall        0.327957        1.000000  "
      ]
     },
     "execution_count": 10,
     "metadata": {},
     "output_type": "execute_result"
    }
   ],
   "source": [
    "df[[\"cap_code\", \"effort_read\",\"effort_info\",\"effort_res\",\"effort_project\",\"effort_overall\"]].corr()"
   ]
  },
  {
   "cell_type": "markdown",
   "metadata": {},
   "source": [
    "**pingouin实现** 🐧 🐧 🐧 🐧 🐧 🐧 🐧 🐧 🐧 🐧 🐧 🐧 🐧 🐧 🐧 🐧 🐧 🐧\n",
    "\n",
    "参考：[pingouin.anova](https://pingouin-stats.org/generated/pingouin.anova.html#pingouin.anova)"
   ]
  },
  {
   "cell_type": "code",
   "execution_count": 28,
   "metadata": {},
   "outputs": [
    {
     "data": {
      "text/html": [
       "<div>\n",
       "<style scoped>\n",
       "    .dataframe tbody tr th:only-of-type {\n",
       "        vertical-align: middle;\n",
       "    }\n",
       "\n",
       "    .dataframe tbody tr th {\n",
       "        vertical-align: top;\n",
       "    }\n",
       "\n",
       "    .dataframe thead th {\n",
       "        text-align: right;\n",
       "    }\n",
       "</style>\n",
       "<table border=\"1\" class=\"dataframe\">\n",
       "  <thead>\n",
       "    <tr style=\"text-align: right;\">\n",
       "      <th></th>\n",
       "      <th>X</th>\n",
       "      <th>Y</th>\n",
       "      <th>method</th>\n",
       "      <th>tail</th>\n",
       "      <th>n</th>\n",
       "      <th>r</th>\n",
       "      <th>CI95%</th>\n",
       "      <th>r2</th>\n",
       "      <th>adj_r2</th>\n",
       "      <th>z</th>\n",
       "      <th>p-unc</th>\n",
       "      <th>BF10</th>\n",
       "      <th>power</th>\n",
       "    </tr>\n",
       "  </thead>\n",
       "  <tbody>\n",
       "    <tr>\n",
       "      <th>0</th>\n",
       "      <td>effort_overall</td>\n",
       "      <td>ranking</td>\n",
       "      <td>pearson</td>\n",
       "      <td>two-sided</td>\n",
       "      <td>80</td>\n",
       "      <td>0.28433</td>\n",
       "      <td>[0.07, 0.47]</td>\n",
       "      <td>0.080844</td>\n",
       "      <td>0.05697</td>\n",
       "      <td>0.292387</td>\n",
       "      <td>0.010585</td>\n",
       "      <td>3.454</td>\n",
       "      <td>0.732312</td>\n",
       "    </tr>\n",
       "  </tbody>\n",
       "</table>\n",
       "</div>"
      ],
      "text/plain": [
       "                X        Y   method       tail   n        r         CI95%  \\\n",
       "0  effort_overall  ranking  pearson  two-sided  80  0.28433  [0.07, 0.47]   \n",
       "\n",
       "         r2   adj_r2         z     p-unc   BF10     power  \n",
       "0  0.080844  0.05697  0.292387  0.010585  3.454  0.732312  "
      ]
     },
     "execution_count": 28,
     "metadata": {},
     "output_type": "execute_result"
    }
   ],
   "source": [
    "pg.pairwise_corr(df, columns=[\"effort_overall\",\"ranking\"], method='pearson')"
   ]
  },
  {
   "cell_type": "code",
   "execution_count": 27,
   "metadata": {},
   "outputs": [
    {
     "data": {
      "text/html": [
       "<div>\n",
       "<style scoped>\n",
       "    .dataframe tbody tr th:only-of-type {\n",
       "        vertical-align: middle;\n",
       "    }\n",
       "\n",
       "    .dataframe tbody tr th {\n",
       "        vertical-align: top;\n",
       "    }\n",
       "\n",
       "    .dataframe thead th {\n",
       "        text-align: right;\n",
       "    }\n",
       "</style>\n",
       "<table border=\"1\" class=\"dataframe\">\n",
       "  <thead>\n",
       "    <tr style=\"text-align: right;\">\n",
       "      <th></th>\n",
       "      <th>cap_code</th>\n",
       "      <th>effort_read</th>\n",
       "      <th>effort_info</th>\n",
       "      <th>effort_res</th>\n",
       "      <th>effort_project</th>\n",
       "      <th>effort_overall</th>\n",
       "    </tr>\n",
       "  </thead>\n",
       "  <tbody>\n",
       "    <tr>\n",
       "      <th>cap_code</th>\n",
       "      <td>-</td>\n",
       "      <td>*</td>\n",
       "      <td>**</td>\n",
       "      <td>**</td>\n",
       "      <td>**</td>\n",
       "      <td></td>\n",
       "    </tr>\n",
       "    <tr>\n",
       "      <th>effort_read</th>\n",
       "      <td>0.266</td>\n",
       "      <td>-</td>\n",
       "      <td>***</td>\n",
       "      <td>***</td>\n",
       "      <td>*</td>\n",
       "      <td>*</td>\n",
       "    </tr>\n",
       "    <tr>\n",
       "      <th>effort_info</th>\n",
       "      <td>0.352</td>\n",
       "      <td>0.467</td>\n",
       "      <td>-</td>\n",
       "      <td>***</td>\n",
       "      <td>***</td>\n",
       "      <td>*</td>\n",
       "    </tr>\n",
       "    <tr>\n",
       "      <th>effort_res</th>\n",
       "      <td>0.302</td>\n",
       "      <td>0.419</td>\n",
       "      <td>0.642</td>\n",
       "      <td>-</td>\n",
       "      <td>***</td>\n",
       "      <td>**</td>\n",
       "    </tr>\n",
       "    <tr>\n",
       "      <th>effort_project</th>\n",
       "      <td>0.301</td>\n",
       "      <td>0.248</td>\n",
       "      <td>0.469</td>\n",
       "      <td>0.373</td>\n",
       "      <td>-</td>\n",
       "      <td>**</td>\n",
       "    </tr>\n",
       "    <tr>\n",
       "      <th>effort_overall</th>\n",
       "      <td>0.167</td>\n",
       "      <td>0.24</td>\n",
       "      <td>0.253</td>\n",
       "      <td>0.324</td>\n",
       "      <td>0.328</td>\n",
       "      <td>-</td>\n",
       "    </tr>\n",
       "  </tbody>\n",
       "</table>\n",
       "</div>"
      ],
      "text/plain": [
       "               cap_code effort_read effort_info effort_res effort_project  \\\n",
       "cap_code              -           *          **         **             **   \n",
       "effort_read       0.266           -         ***        ***              *   \n",
       "effort_info       0.352       0.467           -        ***            ***   \n",
       "effort_res        0.302       0.419       0.642          -            ***   \n",
       "effort_project    0.301       0.248       0.469      0.373              -   \n",
       "effort_overall    0.167        0.24       0.253      0.324          0.328   \n",
       "\n",
       "               effort_overall  \n",
       "cap_code                       \n",
       "effort_read                 *  \n",
       "effort_info                 *  \n",
       "effort_res                 **  \n",
       "effort_project             **  \n",
       "effort_overall              -  "
      ]
     },
     "execution_count": 27,
     "metadata": {},
     "output_type": "execute_result"
    }
   ],
   "source": [
    "df[[\"cap_code\", \"effort_read\",\"effort_info\",\"effort_res\",\"effort_project\",\"effort_overall\"]].rcorr()"
   ]
  },
  {
   "cell_type": "markdown",
   "metadata": {},
   "source": [
    "### 回归分析"
   ]
  },
  {
   "cell_type": "code",
   "execution_count": 43,
   "metadata": {},
   "outputs": [
    {
     "data": {
      "text/html": [
       "<table class=\"simpletable\">\n",
       "<caption>OLS Regression Results</caption>\n",
       "<tr>\n",
       "  <th>Dep. Variable:</th>         <td>ranking</td>     <th>  R-squared:         </th> <td>   0.170</td>\n",
       "</tr>\n",
       "<tr>\n",
       "  <th>Model:</th>                   <td>OLS</td>       <th>  Adj. R-squared:    </th> <td>   0.137</td>\n",
       "</tr>\n",
       "<tr>\n",
       "  <th>Method:</th>             <td>Least Squares</td>  <th>  F-statistic:       </th> <td>   5.197</td>\n",
       "</tr>\n",
       "<tr>\n",
       "  <th>Date:</th>             <td>Fri, 13 Nov 2020</td> <th>  Prob (F-statistic):</th>  <td>0.00256</td>\n",
       "</tr>\n",
       "<tr>\n",
       "  <th>Time:</th>                 <td>01:53:20</td>     <th>  Log-Likelihood:    </th> <td> -92.492</td>\n",
       "</tr>\n",
       "<tr>\n",
       "  <th>No. Observations:</th>      <td>    80</td>      <th>  AIC:               </th> <td>   193.0</td>\n",
       "</tr>\n",
       "<tr>\n",
       "  <th>Df Residuals:</th>          <td>    76</td>      <th>  BIC:               </th> <td>   202.5</td>\n",
       "</tr>\n",
       "<tr>\n",
       "  <th>Df Model:</th>              <td>     3</td>      <th>                     </th>     <td> </td>   \n",
       "</tr>\n",
       "<tr>\n",
       "  <th>Covariance Type:</th>      <td>nonrobust</td>    <th>                     </th>     <td> </td>   \n",
       "</tr>\n",
       "</table>\n",
       "<table class=\"simpletable\">\n",
       "<tr>\n",
       "         <td></td>           <th>coef</th>     <th>std err</th>      <th>t</th>      <th>P>|t|</th>  <th>[0.025</th>    <th>0.975]</th>  \n",
       "</tr>\n",
       "<tr>\n",
       "  <th>Intercept</th>      <td>    1.7129</td> <td>    0.536</td> <td>    3.195</td> <td> 0.002</td> <td>    0.645</td> <td>    2.781</td>\n",
       "</tr>\n",
       "<tr>\n",
       "  <th>maj_work</th>       <td>   -0.0797</td> <td>    0.098</td> <td>   -0.814</td> <td> 0.418</td> <td>   -0.275</td> <td>    0.115</td>\n",
       "</tr>\n",
       "<tr>\n",
       "  <th>maj_dir</th>        <td>    0.2179</td> <td>    0.079</td> <td>    2.751</td> <td> 0.007</td> <td>    0.060</td> <td>    0.376</td>\n",
       "</tr>\n",
       "<tr>\n",
       "  <th>effort_overall</th> <td>    0.3679</td> <td>    0.127</td> <td>    2.888</td> <td> 0.005</td> <td>    0.114</td> <td>    0.622</td>\n",
       "</tr>\n",
       "</table>\n",
       "<table class=\"simpletable\">\n",
       "<tr>\n",
       "  <th>Omnibus:</th>       <td> 0.771</td> <th>  Durbin-Watson:     </th> <td>   2.023</td>\n",
       "</tr>\n",
       "<tr>\n",
       "  <th>Prob(Omnibus):</th> <td> 0.680</td> <th>  Jarque-Bera (JB):  </th> <td>   0.326</td>\n",
       "</tr>\n",
       "<tr>\n",
       "  <th>Skew:</th>          <td>-0.107</td> <th>  Prob(JB):          </th> <td>   0.850</td>\n",
       "</tr>\n",
       "<tr>\n",
       "  <th>Kurtosis:</th>      <td> 3.228</td> <th>  Cond. No.          </th> <td>    34.6</td>\n",
       "</tr>\n",
       "</table><br/><br/>Warnings:<br/>[1] Standard Errors assume that the covariance matrix of the errors is correctly specified."
      ],
      "text/plain": [
       "<class 'statsmodels.iolib.summary.Summary'>\n",
       "\"\"\"\n",
       "                            OLS Regression Results                            \n",
       "==============================================================================\n",
       "Dep. Variable:                ranking   R-squared:                       0.170\n",
       "Model:                            OLS   Adj. R-squared:                  0.137\n",
       "Method:                 Least Squares   F-statistic:                     5.197\n",
       "Date:                Fri, 13 Nov 2020   Prob (F-statistic):            0.00256\n",
       "Time:                        01:53:20   Log-Likelihood:                -92.492\n",
       "No. Observations:                  80   AIC:                             193.0\n",
       "Df Residuals:                      76   BIC:                             202.5\n",
       "Df Model:                           3                                         \n",
       "Covariance Type:            nonrobust                                         \n",
       "==================================================================================\n",
       "                     coef    std err          t      P>|t|      [0.025      0.975]\n",
       "----------------------------------------------------------------------------------\n",
       "Intercept          1.7129      0.536      3.195      0.002       0.645       2.781\n",
       "maj_work          -0.0797      0.098     -0.814      0.418      -0.275       0.115\n",
       "maj_dir            0.2179      0.079      2.751      0.007       0.060       0.376\n",
       "effort_overall     0.3679      0.127      2.888      0.005       0.114       0.622\n",
       "==============================================================================\n",
       "Omnibus:                        0.771   Durbin-Watson:                   2.023\n",
       "Prob(Omnibus):                  0.680   Jarque-Bera (JB):                0.326\n",
       "Skew:                          -0.107   Prob(JB):                        0.850\n",
       "Kurtosis:                       3.228   Cond. No.                         34.6\n",
       "==============================================================================\n",
       "\n",
       "Warnings:\n",
       "[1] Standard Errors assume that the covariance matrix of the errors is correctly specified.\n",
       "\"\"\""
      ]
     },
     "execution_count": 43,
     "metadata": {},
     "output_type": "execute_result"
    }
   ],
   "source": [
    "model = smf.ols(\"ranking ~ maj_work + maj_dir + effort_overall\",\n",
    "        data = df).fit()\n",
    "\n",
    "model.summary()"
   ]
  },
  {
   "cell_type": "markdown",
   "metadata": {},
   "source": [
    "**自变量带定性数据**"
   ]
  },
  {
   "cell_type": "code",
   "execution_count": 17,
   "metadata": {},
   "outputs": [
    {
     "data": {
      "text/html": [
       "<table class=\"simpletable\">\n",
       "<caption>OLS Regression Results</caption>\n",
       "<tr>\n",
       "  <th>Dep. Variable:</th>         <td>ranking</td>     <th>  R-squared:         </th> <td>   0.111</td>\n",
       "</tr>\n",
       "<tr>\n",
       "  <th>Model:</th>                   <td>OLS</td>       <th>  Adj. R-squared:    </th> <td>   0.038</td>\n",
       "</tr>\n",
       "<tr>\n",
       "  <th>Method:</th>             <td>Least Squares</td>  <th>  F-statistic:       </th> <td>   1.526</td>\n",
       "</tr>\n",
       "<tr>\n",
       "  <th>Date:</th>             <td>Sun, 08 Nov 2020</td> <th>  Prob (F-statistic):</th>  <td> 0.182</td> \n",
       "</tr>\n",
       "<tr>\n",
       "  <th>Time:</th>                 <td>18:22:03</td>     <th>  Log-Likelihood:    </th> <td> -95.229</td>\n",
       "</tr>\n",
       "<tr>\n",
       "  <th>No. Observations:</th>      <td>    80</td>      <th>  AIC:               </th> <td>   204.5</td>\n",
       "</tr>\n",
       "<tr>\n",
       "  <th>Df Residuals:</th>          <td>    73</td>      <th>  BIC:               </th> <td>   221.1</td>\n",
       "</tr>\n",
       "<tr>\n",
       "  <th>Df Model:</th>              <td>     6</td>      <th>                     </th>     <td> </td>   \n",
       "</tr>\n",
       "<tr>\n",
       "  <th>Covariance Type:</th>      <td>nonrobust</td>    <th>                     </th>     <td> </td>   \n",
       "</tr>\n",
       "</table>\n",
       "<table class=\"simpletable\">\n",
       "<tr>\n",
       "          <td></td>             <th>coef</th>     <th>std err</th>      <th>t</th>      <th>P>|t|</th>  <th>[0.025</th>    <th>0.975]</th>  \n",
       "</tr>\n",
       "<tr>\n",
       "  <th>Intercept</th>         <td>    3.5789</td> <td>    0.360</td> <td>    9.930</td> <td> 0.000</td> <td>    2.861</td> <td>    4.297</td>\n",
       "</tr>\n",
       "<tr>\n",
       "  <th>gender[T.男性]</th>      <td>   -0.1266</td> <td>    0.237</td> <td>   -0.533</td> <td> 0.596</td> <td>   -0.600</td> <td>    0.347</td>\n",
       "</tr>\n",
       "<tr>\n",
       "  <th>location[T.粤东]</th>    <td>   -0.2032</td> <td>    0.246</td> <td>   -0.827</td> <td> 0.411</td> <td>   -0.693</td> <td>    0.286</td>\n",
       "</tr>\n",
       "<tr>\n",
       "  <th>location[T.粤北]</th>    <td>   -0.9553</td> <td>    0.365</td> <td>   -2.619</td> <td> 0.011</td> <td>   -1.682</td> <td>   -0.228</td>\n",
       "</tr>\n",
       "<tr>\n",
       "  <th>location[T.粤西]</th>    <td>   -0.2594</td> <td>    0.296</td> <td>   -0.877</td> <td> 0.383</td> <td>   -0.849</td> <td>    0.330</td>\n",
       "</tr>\n",
       "<tr>\n",
       "  <th>location[T.非广东地区]</th> <td>   -0.5658</td> <td>    0.346</td> <td>   -1.637</td> <td> 0.106</td> <td>   -1.255</td> <td>    0.123</td>\n",
       "</tr>\n",
       "<tr>\n",
       "  <th>maj_work</th>          <td>   -0.0324</td> <td>    0.104</td> <td>   -0.311</td> <td> 0.757</td> <td>   -0.240</td> <td>    0.175</td>\n",
       "</tr>\n",
       "</table>\n",
       "<table class=\"simpletable\">\n",
       "<tr>\n",
       "  <th>Omnibus:</th>       <td> 0.187</td> <th>  Durbin-Watson:     </th> <td>   1.985</td>\n",
       "</tr>\n",
       "<tr>\n",
       "  <th>Prob(Omnibus):</th> <td> 0.911</td> <th>  Jarque-Bera (JB):  </th> <td>   0.296</td>\n",
       "</tr>\n",
       "<tr>\n",
       "  <th>Skew:</th>          <td>-0.107</td> <th>  Prob(JB):          </th> <td>   0.862</td>\n",
       "</tr>\n",
       "<tr>\n",
       "  <th>Kurtosis:</th>      <td> 2.793</td> <th>  Cond. No.          </th> <td>    16.3</td>\n",
       "</tr>\n",
       "</table><br/><br/>Warnings:<br/>[1] Standard Errors assume that the covariance matrix of the errors is correctly specified."
      ],
      "text/plain": [
       "<class 'statsmodels.iolib.summary.Summary'>\n",
       "\"\"\"\n",
       "                            OLS Regression Results                            \n",
       "==============================================================================\n",
       "Dep. Variable:                ranking   R-squared:                       0.111\n",
       "Model:                            OLS   Adj. R-squared:                  0.038\n",
       "Method:                 Least Squares   F-statistic:                     1.526\n",
       "Date:                Sun, 08 Nov 2020   Prob (F-statistic):              0.182\n",
       "Time:                        18:22:03   Log-Likelihood:                -95.229\n",
       "No. Observations:                  80   AIC:                             204.5\n",
       "Df Residuals:                      73   BIC:                             221.1\n",
       "Df Model:                           6                                         \n",
       "Covariance Type:            nonrobust                                         \n",
       "=====================================================================================\n",
       "                        coef    std err          t      P>|t|      [0.025      0.975]\n",
       "-------------------------------------------------------------------------------------\n",
       "Intercept             3.5789      0.360      9.930      0.000       2.861       4.297\n",
       "gender[T.男性]         -0.1266      0.237     -0.533      0.596      -0.600       0.347\n",
       "location[T.粤东]       -0.2032      0.246     -0.827      0.411      -0.693       0.286\n",
       "location[T.粤北]       -0.9553      0.365     -2.619      0.011      -1.682      -0.228\n",
       "location[T.粤西]       -0.2594      0.296     -0.877      0.383      -0.849       0.330\n",
       "location[T.非广东地区]    -0.5658      0.346     -1.637      0.106      -1.255       0.123\n",
       "maj_work             -0.0324      0.104     -0.311      0.757      -0.240       0.175\n",
       "==============================================================================\n",
       "Omnibus:                        0.187   Durbin-Watson:                   1.985\n",
       "Prob(Omnibus):                  0.911   Jarque-Bera (JB):                0.296\n",
       "Skew:                          -0.107   Prob(JB):                        0.862\n",
       "Kurtosis:                       2.793   Cond. No.                         16.3\n",
       "==============================================================================\n",
       "\n",
       "Warnings:\n",
       "[1] Standard Errors assume that the covariance matrix of the errors is correctly specified.\n",
       "\"\"\""
      ]
     },
     "execution_count": 17,
     "metadata": {},
     "output_type": "execute_result"
    }
   ],
   "source": [
    "model = smf.ols(\"ranking ~ maj_work + gender + location\",\n",
    "        data = df).fit()\n",
    "\n",
    "model.summary()"
   ]
  },
  {
   "cell_type": "markdown",
   "metadata": {},
   "source": [
    "**因变量带定性数据（Logistics回归）**"
   ]
  },
  {
   "cell_type": "code",
   "execution_count": 31,
   "metadata": {},
   "outputs": [],
   "source": [
    "from sklearn.linear_model import LogisticRegression\n",
    "lr = LogisticRegression()"
   ]
  },
  {
   "cell_type": "code",
   "execution_count": 70,
   "metadata": {},
   "outputs": [
    {
     "data": {
      "text/html": [
       "<table class=\"simpletable\">\n",
       "<caption>Generalized Linear Model Regression Results</caption>\n",
       "<tr>\n",
       "  <th>Dep. Variable:</th>   <td>['l_code[不喜欢]', 'l_code[喜欢]']</td> <th>  No. Observations:  </th>  <td>    80</td> \n",
       "</tr>\n",
       "<tr>\n",
       "  <th>Model:</th>                        <td>GLM</td>              <th>  Df Residuals:      </th>  <td>    77</td> \n",
       "</tr>\n",
       "<tr>\n",
       "  <th>Model Family:</th>              <td>Binomial</td>            <th>  Df Model:          </th>  <td>     2</td> \n",
       "</tr>\n",
       "<tr>\n",
       "  <th>Link Function:</th>               <td>logit</td>             <th>  Scale:             </th> <td>  1.0000</td>\n",
       "</tr>\n",
       "<tr>\n",
       "  <th>Method:</th>                      <td>IRLS</td>              <th>  Log-Likelihood:    </th> <td> -29.695</td>\n",
       "</tr>\n",
       "<tr>\n",
       "  <th>Date:</th>                  <td>Sun, 08 Nov 2020</td>        <th>  Deviance:          </th> <td>  59.390</td>\n",
       "</tr>\n",
       "<tr>\n",
       "  <th>Time:</th>                      <td>21:12:19</td>            <th>  Pearson chi2:      </th>  <td>  85.2</td> \n",
       "</tr>\n",
       "<tr>\n",
       "  <th>No. Iterations:</th>                <td>5</td>               <th>                     </th>     <td> </td>   \n",
       "</tr>\n",
       "<tr>\n",
       "  <th>Covariance Type:</th>           <td>nonrobust</td>           <th>                     </th>     <td> </td>   \n",
       "</tr>\n",
       "</table>\n",
       "<table class=\"simpletable\">\n",
       "<tr>\n",
       "        <td></td>          <th>coef</th>     <th>std err</th>      <th>z</th>      <th>P>|z|</th>  <th>[0.025</th>    <th>0.975]</th>  \n",
       "</tr>\n",
       "<tr>\n",
       "  <th>Intercept</th>    <td>    4.2835</td> <td>    1.012</td> <td>    4.233</td> <td> 0.000</td> <td>    2.300</td> <td>    6.267</td>\n",
       "</tr>\n",
       "<tr>\n",
       "  <th>gender[T.男性]</th> <td>   -0.9902</td> <td>    0.724</td> <td>   -1.367</td> <td> 0.172</td> <td>   -2.410</td> <td>    0.430</td>\n",
       "</tr>\n",
       "<tr>\n",
       "  <th>cap_code</th>     <td>   -1.0610</td> <td>    0.383</td> <td>   -2.767</td> <td> 0.006</td> <td>   -1.813</td> <td>   -0.309</td>\n",
       "</tr>\n",
       "</table>"
      ],
      "text/plain": [
       "<class 'statsmodels.iolib.summary.Summary'>\n",
       "\"\"\"\n",
       "                       Generalized Linear Model Regression Results                       \n",
       "=========================================================================================\n",
       "Dep. Variable:     ['l_code[不喜欢]', 'l_code[喜欢]']   No. Observations:                   80\n",
       "Model:                                       GLM   Df Residuals:                       77\n",
       "Model Family:                           Binomial   Df Model:                            2\n",
       "Link Function:                             logit   Scale:                          1.0000\n",
       "Method:                                     IRLS   Log-Likelihood:                -29.695\n",
       "Date:                           Sun, 08 Nov 2020   Deviance:                       59.390\n",
       "Time:                                   21:12:19   Pearson chi2:                     85.2\n",
       "No. Iterations:                                5                                         \n",
       "Covariance Type:                       nonrobust                                         \n",
       "================================================================================\n",
       "                   coef    std err          z      P>|z|      [0.025      0.975]\n",
       "--------------------------------------------------------------------------------\n",
       "Intercept        4.2835      1.012      4.233      0.000       2.300       6.267\n",
       "gender[T.男性]    -0.9902      0.724     -1.367      0.172      -2.410       0.430\n",
       "cap_code        -1.0610      0.383     -2.767      0.006      -1.813      -0.309\n",
       "================================================================================\n",
       "\"\"\""
      ]
     },
     "execution_count": 70,
     "metadata": {},
     "output_type": "execute_result"
    }
   ],
   "source": [
    "model = smf.glm(\"l_code ~ cap_code + gender\",data = df, family=sm.families.Binomial()).fit()\n",
    "\n",
    "model.summary()"
   ]
  },
  {
   "cell_type": "markdown",
   "metadata": {},
   "source": [
    "### 信度分析"
   ]
  },
  {
   "cell_type": "markdown",
   "metadata": {},
   "source": [
    "参考：[pingouin.cronbach_alpha](https://pingouin-stats.org/generated/pingouin.cronbach_alpha.html#pingouin.cronbach_alpha)"
   ]
  },
  {
   "cell_type": "code",
   "execution_count": 40,
   "metadata": {},
   "outputs": [],
   "source": [
    "df_effort = df.filter(regex = \"^effort_.*\")"
   ]
  },
  {
   "cell_type": "code",
   "execution_count": 42,
   "metadata": {},
   "outputs": [
    {
     "data": {
      "text/plain": [
       "(0.753786045633211, array([0.657, 0.83 ]))"
      ]
     },
     "execution_count": 42,
     "metadata": {},
     "output_type": "execute_result"
    }
   ],
   "source": [
    "pg.cronbach_alpha(data=df_effort) #返回Cronbach's α值及其置信区间"
   ]
  },
  {
   "cell_type": "markdown",
   "metadata": {},
   "source": [
    "### 因子分析"
   ]
  },
  {
   "cell_type": "markdown",
   "metadata": {},
   "source": [
    "参考：\n",
    "- [Introduction to Factor Analysis in Python](https://www.datacamp.com/community/tutorials/introduction-factor-analysis)\n",
    "- [factor_analyzer官方文档](https://factor-analyzer.readthedocs.io/en/latest/index.html#)\n",
    "- [Factor Analysis with Python — DataSklr](https://www.datasklr.com/principal-component-analysis-and-factor-analysis/factor-analysis)"
   ]
  },
  {
   "cell_type": "code",
   "execution_count": 11,
   "metadata": {},
   "outputs": [],
   "source": [
    "from factor_analyzer import FactorAnalyzer"
   ]
  },
  {
   "cell_type": "code",
   "execution_count": 12,
   "metadata": {},
   "outputs": [],
   "source": [
    "df_cap = df.filter(regex = \"^cap_.*\")"
   ]
  },
  {
   "cell_type": "markdown",
   "metadata": {},
   "source": [
    "**Bartlett’s test** "
   ]
  },
  {
   "cell_type": "code",
   "execution_count": 13,
   "metadata": {},
   "outputs": [
    {
     "data": {
      "text/plain": [
       "(124.25775942800482, 1.2618724602602526e-19)"
      ]
     },
     "execution_count": 13,
     "metadata": {},
     "output_type": "execute_result"
    }
   ],
   "source": [
    "from factor_analyzer.factor_analyzer import calculate_bartlett_sphericity\n",
    "chi_square_value,p_value=calculate_bartlett_sphericity(df_cap)\n",
    "chi_square_value, p_value"
   ]
  },
  {
   "cell_type": "markdown",
   "metadata": {},
   "source": [
    "**Kaiser-Meyer-Olkin (KMO) Test**"
   ]
  },
  {
   "cell_type": "code",
   "execution_count": 14,
   "metadata": {},
   "outputs": [],
   "source": [
    "from factor_analyzer.factor_analyzer import calculate_kmo\n",
    "kmo_all,kmo_model=calculate_kmo(df_cap)"
   ]
  },
  {
   "cell_type": "code",
   "execution_count": 15,
   "metadata": {},
   "outputs": [
    {
     "data": {
      "text/plain": [
       "0.7493491610482844"
      ]
     },
     "execution_count": 15,
     "metadata": {},
     "output_type": "execute_result"
    }
   ],
   "source": [
    "kmo_model"
   ]
  },
  {
   "cell_type": "markdown",
   "metadata": {},
   "source": [
    "**Performing Factor Analysis**"
   ]
  },
  {
   "cell_type": "code",
   "execution_count": 16,
   "metadata": {},
   "outputs": [
    {
     "data": {
      "text/plain": [
       "FactorAnalyzer(n_factors=2, rotation='varimax', rotation_kwargs={})"
      ]
     },
     "execution_count": 16,
     "metadata": {},
     "output_type": "execute_result"
    }
   ],
   "source": [
    "# Create factor analysis object and perform factor analysis\n",
    "fa = FactorAnalyzer(n_factors =2,rotation=\"varimax\")\n",
    "fa.fit(df_cap)"
   ]
  },
  {
   "cell_type": "code",
   "execution_count": 26,
   "metadata": {},
   "outputs": [
    {
     "data": {
      "text/plain": [
       "(array([2.04801593, 0.67376126]),\n",
       " array([0.34133599, 0.11229354]),\n",
       " array([0.34133599, 0.45362953]))"
      ]
     },
     "execution_count": 26,
     "metadata": {},
     "output_type": "execute_result"
    }
   ],
   "source": [
    "# 公因子方差（表示各变量所含原有信息能被提取的公因子所表示的程度）\n",
    "fa.get_factor_variance()"
   ]
  },
  {
   "cell_type": "code",
   "execution_count": 30,
   "metadata": {},
   "outputs": [
    {
     "data": {
      "text/plain": [
       "array([2.67703062, 1.07496494, 0.93707687, 0.52586204, 0.46526927,\n",
       "       0.31979627])"
      ]
     },
     "execution_count": 30,
     "metadata": {},
     "output_type": "execute_result"
    }
   ],
   "source": [
    "ev,v = fa.get_eigenvalues() #特征根（用特征根大于1作为标准）\n",
    "ev"
   ]
  },
  {
   "cell_type": "code",
   "execution_count": 18,
   "metadata": {},
   "outputs": [
    {
     "name": "stdout",
     "output_type": "stream",
     "text": [
      "Factor Loadings \n",
      "   Factor 1  Factor 2\n",
      "0  0.227602  0.112829\n",
      "1  0.029556  0.575814\n",
      "2  0.686857  0.065328\n",
      "3  0.840050  0.039097\n",
      "4  0.493939  0.514895\n",
      "5  0.757567  0.241983\n"
     ]
    }
   ],
   "source": [
    "fa.loadings_\n",
    "loadings = pd.DataFrame(fa.loadings_, columns=['Factor 1', 'Factor 2'])\n",
    "print('Factor Loadings \\n%s' %loadings) #因子载荷"
   ]
  },
  {
   "cell_type": "code",
   "execution_count": 28,
   "metadata": {},
   "outputs": [
    {
     "data": {
      "text/plain": [
       "array([0.06453306, 0.33243519, 0.47604044, 0.70721232, 0.509093  ,\n",
       "       0.63246318])"
      ]
     },
     "execution_count": 28,
     "metadata": {},
     "output_type": "execute_result"
    }
   ],
   "source": [
    "\"\"\"\n",
    "变量共同度（变量能被因子解释的程度，取值范围：0~1 ；\n",
    "取值越大，说明变量能被因子解释的信息比例越大\n",
    "\"\"\"\n",
    "fa.get_communalities() "
   ]
  },
  {
   "cell_type": "code",
   "execution_count": 26,
   "metadata": {},
   "outputs": [
    {
     "data": {
      "image/png": "[encoded data removed]",
      "text/plain": [
       "<Figure size 432x288 with 1 Axes>"
      ]
     },
     "metadata": {
      "needs_background": "light"
     },
     "output_type": "display_data"
    }
   ],
   "source": [
    "# SCREEPLOT (need pyplot)\n",
    "plt.scatter(range(1,df_cap.shape[1]+1),ev)\n",
    "plt.plot(range(1,df_cap.shape[1]+1),ev)\n",
    "plt.title('Scree Plot')\n",
    "plt.xlabel('Factors')\n",
    "plt.ylabel('Eigenvalue')\n",
    "plt.grid()\n",
    "plt.show()"
   ]
  },
  {
   "cell_type": "code",
   "execution_count": null,
   "metadata": {},
   "outputs": [],
   "source": []
  }
 ],
 "metadata": {
  "kernelspec": {
   "display_name": "Python 3",
   "language": "python",
   "name": "python3"
  },
  "language_info": {
   "codemirror_mode": {
    "name": "ipython",
    "version": 3
   },
   "file_extension": ".py",
   "mimetype": "text/x-python",
   "name": "python",
   "nbconvert_exporter": "python",
   "pygments_lexer": "ipython3",
   "version": "3.7.4"
  }
 },
 "nbformat": 4,
 "nbformat_minor": 4
}
