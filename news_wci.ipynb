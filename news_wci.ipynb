{
 "cells": [
  {
   "cell_type": "code",
   "execution_count": 1,
   "metadata": {},
   "outputs": [],
   "source": [
    "import pandas as pd\n",
    "import statsmodels.formula.api as smf # OLS\n",
    "from snownlp import SnowNLP\n",
    "import matplotlib.pyplot as plt\n",
    "import seaborn as sns\n",
    "import warnings\n",
    "warnings.filterwarnings('ignore') #忽视警告\n",
    "\n",
    "plt.rcParams['font.sans-serif'] = ['SimHei']  # 中文字体设置-黑体\n",
    "plt.rcParams['axes.unicode_minus'] = False  # 解决保存图像是负号'-'显示为方块的问题\n",
    "sns.set(font='SimHei')  # 解决Seaborn中文显示问题"
   ]
  },
  {
   "cell_type": "code",
   "execution_count": 2,
   "metadata": {},
   "outputs": [],
   "source": [
    "df = pd.read_excel(\"【文章】地市级党报2~6月.xlsx\")"
   ]
  },
  {
   "cell_type": "markdown",
   "metadata": {},
   "source": [
    "# 数据探索"
   ]
  },
  {
   "cell_type": "code",
   "execution_count": 5,
   "metadata": {},
   "outputs": [
    {
     "data": {
      "text/plain": [
       "Index(['城市', '公众号', '帐号名', '标题', '摘要', 'URL', '发布时间', '阅读数', '点赞数', '文章序号',\n",
       "       '是否原创'],\n",
       "      dtype='object')"
      ]
     },
     "execution_count": 5,
     "metadata": {},
     "output_type": "execute_result"
    }
   ],
   "source": [
    "df.columns"
   ]
  },
  {
   "cell_type": "code",
   "execution_count": 6,
   "metadata": {},
   "outputs": [
    {
     "data": {
      "text/html": [
       "<div>\n",
       "<style scoped>\n",
       "    .dataframe tbody tr th:only-of-type {\n",
       "        vertical-align: middle;\n",
       "    }\n",
       "\n",
       "    .dataframe tbody tr th {\n",
       "        vertical-align: top;\n",
       "    }\n",
       "\n",
       "    .dataframe thead th {\n",
       "        text-align: right;\n",
       "    }\n",
       "</style>\n",
       "<table border=\"1\" class=\"dataframe\">\n",
       "  <thead>\n",
       "    <tr style=\"text-align: right;\">\n",
       "      <th></th>\n",
       "      <th>城市</th>\n",
       "      <th>公众号</th>\n",
       "      <th>帐号名</th>\n",
       "      <th>标题</th>\n",
       "      <th>摘要</th>\n",
       "      <th>URL</th>\n",
       "      <th>发布时间</th>\n",
       "      <th>阅读数</th>\n",
       "      <th>点赞数</th>\n",
       "      <th>文章序号</th>\n",
       "      <th>是否原创</th>\n",
       "    </tr>\n",
       "  </thead>\n",
       "  <tbody>\n",
       "    <tr>\n",
       "      <th>0</th>\n",
       "      <td>达州</td>\n",
       "      <td>达州日报</td>\n",
       "      <td>dzrbdzwb</td>\n",
       "      <td>致敬最美逆行者！达州感谢你们！</td>\n",
       "      <td>'致敬最美逆行者！达州感谢你们！</td>\n",
       "      <td>http://mp.weixin.qq.com/s?__biz=MzAwMTEyMjY4Mw...</td>\n",
       "      <td>2018-06-04 17:07:46</td>\n",
       "      <td>100001</td>\n",
       "      <td>3156</td>\n",
       "      <td>1</td>\n",
       "      <td>否</td>\n",
       "    </tr>\n",
       "    <tr>\n",
       "      <th>1</th>\n",
       "      <td>达州</td>\n",
       "      <td>达州日报</td>\n",
       "      <td>dzrbdzwb</td>\n",
       "      <td>通川区塔沱市场火灾扑救最新情况通报</td>\n",
       "      <td>'目前，高喷车、举高车、车载水炮等消防装备，已形成合围之势，阻止火势向毗邻建筑蔓延，将其控制...</td>\n",
       "      <td>http://mp.weixin.qq.com/s?__biz=MzAwMTEyMjY4Mw...</td>\n",
       "      <td>2018-06-03 16:26:55</td>\n",
       "      <td>100001</td>\n",
       "      <td>1874</td>\n",
       "      <td>1</td>\n",
       "      <td>否</td>\n",
       "    </tr>\n",
       "    <tr>\n",
       "      <th>2</th>\n",
       "      <td>广州</td>\n",
       "      <td>广州日报</td>\n",
       "      <td>guangzhoudaily</td>\n",
       "      <td>汕头大学毕业礼太炫酷，李嘉诚第17次亲临致辞！他宣布了一个决定</td>\n",
       "      <td>'祝汕头大学越来越好</td>\n",
       "      <td>http://mp.weixin.qq.com/s?__biz=MjM5MjA0MDk2MA...</td>\n",
       "      <td>2018-06-29 10:29:10</td>\n",
       "      <td>100001</td>\n",
       "      <td>1385</td>\n",
       "      <td>1</td>\n",
       "      <td>否</td>\n",
       "    </tr>\n",
       "    <tr>\n",
       "      <th>3</th>\n",
       "      <td>青岛</td>\n",
       "      <td>青岛日报</td>\n",
       "      <td>qddaily</td>\n",
       "      <td>定了！明晚9点，上合灯光焰火秀震撼上演！（附超全峰会剧透）</td>\n",
       "      <td>'信息量很大！青岛人，转起来！</td>\n",
       "      <td>http://mp.weixin.qq.com/s?__biz=MjM5NTE1NDcwMw...</td>\n",
       "      <td>2018-06-08 14:47:51</td>\n",
       "      <td>100001</td>\n",
       "      <td>1255</td>\n",
       "      <td>1</td>\n",
       "      <td>否</td>\n",
       "    </tr>\n",
       "    <tr>\n",
       "      <th>4</th>\n",
       "      <td>江门</td>\n",
       "      <td>江门日报</td>\n",
       "      <td>jm_daily</td>\n",
       "      <td>多图！江门暴雨中的动人瞬间，让人热泪盈眶！一起把大爱温情传递出去</td>\n",
       "      <td>'100001+</td>\n",
       "      <td>http://mp.weixin.qq.com/s?__biz=MzA3NDM2NzkyMg...</td>\n",
       "      <td>2018-06-08 12:45:34</td>\n",
       "      <td>100001</td>\n",
       "      <td>1218</td>\n",
       "      <td>1</td>\n",
       "      <td>否</td>\n",
       "    </tr>\n",
       "  </tbody>\n",
       "</table>\n",
       "</div>"
      ],
      "text/plain": [
       "   城市   公众号             帐号名                                标题  \\\n",
       "0  达州  达州日报        dzrbdzwb                   致敬最美逆行者！达州感谢你们！   \n",
       "1  达州  达州日报        dzrbdzwb                 通川区塔沱市场火灾扑救最新情况通报   \n",
       "2  广州  广州日报  guangzhoudaily   汕头大学毕业礼太炫酷，李嘉诚第17次亲临致辞！他宣布了一个决定   \n",
       "3  青岛  青岛日报         qddaily     定了！明晚9点，上合灯光焰火秀震撼上演！（附超全峰会剧透）   \n",
       "4  江门  江门日报        jm_daily  多图！江门暴雨中的动人瞬间，让人热泪盈眶！一起把大爱温情传递出去   \n",
       "\n",
       "                                                  摘要  \\\n",
       "0                                   '致敬最美逆行者！达州感谢你们！   \n",
       "1  '目前，高喷车、举高车、车载水炮等消防装备，已形成合围之势，阻止火势向毗邻建筑蔓延，将其控制...   \n",
       "2                                         '祝汕头大学越来越好   \n",
       "3                                    '信息量很大！青岛人，转起来！   \n",
       "4                                           '100001+   \n",
       "\n",
       "                                                 URL                 发布时间  \\\n",
       "0  http://mp.weixin.qq.com/s?__biz=MzAwMTEyMjY4Mw...  2018-06-04 17:07:46   \n",
       "1  http://mp.weixin.qq.com/s?__biz=MzAwMTEyMjY4Mw...  2018-06-03 16:26:55   \n",
       "2  http://mp.weixin.qq.com/s?__biz=MjM5MjA0MDk2MA...  2018-06-29 10:29:10   \n",
       "3  http://mp.weixin.qq.com/s?__biz=MjM5NTE1NDcwMw...  2018-06-08 14:47:51   \n",
       "4  http://mp.weixin.qq.com/s?__biz=MzA3NDM2NzkyMg...  2018-06-08 12:45:34   \n",
       "\n",
       "      阅读数   点赞数  文章序号 是否原创  \n",
       "0  100001  3156     1    否  \n",
       "1  100001  1874     1    否  \n",
       "2  100001  1385     1    否  \n",
       "3  100001  1255     1    否  \n",
       "4  100001  1218     1    否  "
      ]
     },
     "execution_count": 6,
     "metadata": {},
     "output_type": "execute_result"
    }
   ],
   "source": [
    "df.head()"
   ]
  },
  {
   "cell_type": "code",
   "execution_count": 7,
   "metadata": {},
   "outputs": [
    {
     "data": {
      "text/html": [
       "<div>\n",
       "<style scoped>\n",
       "    .dataframe tbody tr th:only-of-type {\n",
       "        vertical-align: middle;\n",
       "    }\n",
       "\n",
       "    .dataframe tbody tr th {\n",
       "        vertical-align: top;\n",
       "    }\n",
       "\n",
       "    .dataframe thead th {\n",
       "        text-align: right;\n",
       "    }\n",
       "</style>\n",
       "<table border=\"1\" class=\"dataframe\">\n",
       "  <thead>\n",
       "    <tr style=\"text-align: right;\">\n",
       "      <th></th>\n",
       "      <th>城市</th>\n",
       "      <th>公众号</th>\n",
       "      <th>帐号名</th>\n",
       "      <th>标题</th>\n",
       "      <th>摘要</th>\n",
       "      <th>URL</th>\n",
       "      <th>发布时间</th>\n",
       "      <th>阅读数</th>\n",
       "      <th>点赞数</th>\n",
       "      <th>文章序号</th>\n",
       "      <th>是否原创</th>\n",
       "    </tr>\n",
       "  </thead>\n",
       "  <tbody>\n",
       "    <tr>\n",
       "      <th>0</th>\n",
       "      <td>达州</td>\n",
       "      <td>达州日报</td>\n",
       "      <td>dzrbdzwb</td>\n",
       "      <td>致敬最美逆行者！达州感谢你们！</td>\n",
       "      <td>'致敬最美逆行者！达州感谢你们！</td>\n",
       "      <td>http://mp.weixin.qq.com/s?__biz=MzAwMTEyMjY4Mw...</td>\n",
       "      <td>2018-06-04 17:07:46</td>\n",
       "      <td>100001</td>\n",
       "      <td>3156</td>\n",
       "      <td>1</td>\n",
       "      <td>否</td>\n",
       "    </tr>\n",
       "    <tr>\n",
       "      <th>459</th>\n",
       "      <td>长江</td>\n",
       "      <td>长江日报</td>\n",
       "      <td>whcjrb</td>\n",
       "      <td>周先旺武汉履新10日，只为这一件事……</td>\n",
       "      <td>'这是他关注的重点</td>\n",
       "      <td>http://mp.weixin.qq.com/s?__biz=MjM5ODAyNTcwMA...</td>\n",
       "      <td>2018-06-08 14:34:28</td>\n",
       "      <td>100001</td>\n",
       "      <td>2278</td>\n",
       "      <td>1</td>\n",
       "      <td>是</td>\n",
       "    </tr>\n",
       "    <tr>\n",
       "      <th>1</th>\n",
       "      <td>达州</td>\n",
       "      <td>达州日报</td>\n",
       "      <td>dzrbdzwb</td>\n",
       "      <td>通川区塔沱市场火灾扑救最新情况通报</td>\n",
       "      <td>'目前，高喷车、举高车、车载水炮等消防装备，已形成合围之势，阻止火势向毗邻建筑蔓延，将其控制...</td>\n",
       "      <td>http://mp.weixin.qq.com/s?__biz=MzAwMTEyMjY4Mw...</td>\n",
       "      <td>2018-06-03 16:26:55</td>\n",
       "      <td>100001</td>\n",
       "      <td>1874</td>\n",
       "      <td>1</td>\n",
       "      <td>否</td>\n",
       "    </tr>\n",
       "    <tr>\n",
       "      <th>460</th>\n",
       "      <td>长江</td>\n",
       "      <td>长江日报</td>\n",
       "      <td>whcjrb</td>\n",
       "      <td>东湖来了一帮牛人！看完感觉武汉颜值又被拉高一大截</td>\n",
       "      <td>'周末就去看看</td>\n",
       "      <td>http://mp.weixin.qq.com/s?__biz=MjM5ODAyNTcwMA...</td>\n",
       "      <td>2018-06-29 18:52:08</td>\n",
       "      <td>100001</td>\n",
       "      <td>1789</td>\n",
       "      <td>1</td>\n",
       "      <td>是</td>\n",
       "    </tr>\n",
       "    <tr>\n",
       "      <th>2</th>\n",
       "      <td>广州</td>\n",
       "      <td>广州日报</td>\n",
       "      <td>guangzhoudaily</td>\n",
       "      <td>汕头大学毕业礼太炫酷，李嘉诚第17次亲临致辞！他宣布了一个决定</td>\n",
       "      <td>'祝汕头大学越来越好</td>\n",
       "      <td>http://mp.weixin.qq.com/s?__biz=MjM5MjA0MDk2MA...</td>\n",
       "      <td>2018-06-29 10:29:10</td>\n",
       "      <td>100001</td>\n",
       "      <td>1385</td>\n",
       "      <td>1</td>\n",
       "      <td>否</td>\n",
       "    </tr>\n",
       "    <tr>\n",
       "      <th>...</th>\n",
       "      <td>...</td>\n",
       "      <td>...</td>\n",
       "      <td>...</td>\n",
       "      <td>...</td>\n",
       "      <td>...</td>\n",
       "      <td>...</td>\n",
       "      <td>...</td>\n",
       "      <td>...</td>\n",
       "      <td>...</td>\n",
       "      <td>...</td>\n",
       "      <td>...</td>\n",
       "    </tr>\n",
       "    <tr>\n",
       "      <th>387</th>\n",
       "      <td>温州</td>\n",
       "      <td>温州日报</td>\n",
       "      <td>wzrbwx</td>\n",
       "      <td>浙江高考总分一分一段表、省内高校预估分数线出炉！温州各校战绩如何？</td>\n",
       "      <td>'这个分能上哪些学校？能不能冲？快来看看！</td>\n",
       "      <td>http://mp.weixin.qq.com/s?__biz=MzA5MjAxNjAzMA...</td>\n",
       "      <td>2018-06-23 13:30:00</td>\n",
       "      <td>31643</td>\n",
       "      <td>23</td>\n",
       "      <td>1</td>\n",
       "      <td>否</td>\n",
       "    </tr>\n",
       "    <tr>\n",
       "      <th>445</th>\n",
       "      <td>丹东</td>\n",
       "      <td>今日丹东</td>\n",
       "      <td>DDWENEWS</td>\n",
       "      <td>紧急通知！住楼房的一定要看，请停止这个动作！赶快通知家人！</td>\n",
       "      <td>'现在很多地方都有升降电梯，小区、公司、单位等等。你们知道吗？以后要停止这个动作了，太危险！</td>\n",
       "      <td>http://mp.weixin.qq.com/s?__biz=MzA5ODMyMDYwNA...</td>\n",
       "      <td>2018-06-18 12:54:58</td>\n",
       "      <td>29184</td>\n",
       "      <td>21</td>\n",
       "      <td>1</td>\n",
       "      <td>否</td>\n",
       "    </tr>\n",
       "    <tr>\n",
       "      <th>275</th>\n",
       "      <td>广州</td>\n",
       "      <td>广州日报</td>\n",
       "      <td>guangzhoudaily</td>\n",
       "      <td>最后3天！非粤A牌赶紧做这事，可不受\"开四停四\"管控！</td>\n",
       "      <td>'</td>\n",
       "      <td>http://mp.weixin.qq.com/s?__biz=MjM5MjA0MDk2MA...</td>\n",
       "      <td>2018-06-28 12:16:47</td>\n",
       "      <td>40489</td>\n",
       "      <td>19</td>\n",
       "      <td>2</td>\n",
       "      <td>否</td>\n",
       "    </tr>\n",
       "    <tr>\n",
       "      <th>270</th>\n",
       "      <td>杭州</td>\n",
       "      <td>杭州日报</td>\n",
       "      <td>hangzhoudaily</td>\n",
       "      <td>打开神秘黑匣，你人生的一万种可能</td>\n",
       "      <td>'你以为人生只有脚下的一条路，什么限制了你？</td>\n",
       "      <td>http://mp.weixin.qq.com/s?__biz=MjM5NzkwNTA5Mg...</td>\n",
       "      <td>2018-06-23 12:06:34</td>\n",
       "      <td>40762</td>\n",
       "      <td>17</td>\n",
       "      <td>5</td>\n",
       "      <td>否</td>\n",
       "    </tr>\n",
       "    <tr>\n",
       "      <th>383</th>\n",
       "      <td>岳阳</td>\n",
       "      <td>岳阳日报</td>\n",
       "      <td>yyrb803</td>\n",
       "      <td>最新！岳阳楼区42所小学一年级招生范围划分出炉！</td>\n",
       "      <td>'最新！楼区各小学一年级招生范围划分出炉！</td>\n",
       "      <td>http://mp.weixin.qq.com/s?__biz=MjM5ODIzODI0OA...</td>\n",
       "      <td>2018-06-21 15:10:06</td>\n",
       "      <td>32161</td>\n",
       "      <td>12</td>\n",
       "      <td>1</td>\n",
       "      <td>否</td>\n",
       "    </tr>\n",
       "  </tbody>\n",
       "</table>\n",
       "<p>500 rows × 11 columns</p>\n",
       "</div>"
      ],
      "text/plain": [
       "     城市   公众号             帐号名                                 标题  \\\n",
       "0    达州  达州日报        dzrbdzwb                    致敬最美逆行者！达州感谢你们！   \n",
       "459  长江  长江日报          whcjrb                周先旺武汉履新10日，只为这一件事……   \n",
       "1    达州  达州日报        dzrbdzwb                  通川区塔沱市场火灾扑救最新情况通报   \n",
       "460  长江  长江日报          whcjrb           东湖来了一帮牛人！看完感觉武汉颜值又被拉高一大截   \n",
       "2    广州  广州日报  guangzhoudaily    汕头大学毕业礼太炫酷，李嘉诚第17次亲临致辞！他宣布了一个决定   \n",
       "..   ..   ...             ...                                ...   \n",
       "387  温州  温州日报          wzrbwx  浙江高考总分一分一段表、省内高校预估分数线出炉！温州各校战绩如何？   \n",
       "445  丹东  今日丹东        DDWENEWS      紧急通知！住楼房的一定要看，请停止这个动作！赶快通知家人！   \n",
       "275  广州  广州日报  guangzhoudaily        最后3天！非粤A牌赶紧做这事，可不受\"开四停四\"管控！   \n",
       "270  杭州  杭州日报   hangzhoudaily                   打开神秘黑匣，你人生的一万种可能   \n",
       "383  岳阳  岳阳日报         yyrb803           最新！岳阳楼区42所小学一年级招生范围划分出炉！   \n",
       "\n",
       "                                                    摘要  \\\n",
       "0                                     '致敬最美逆行者！达州感谢你们！   \n",
       "459                                          '这是他关注的重点   \n",
       "1    '目前，高喷车、举高车、车载水炮等消防装备，已形成合围之势，阻止火势向毗邻建筑蔓延，将其控制...   \n",
       "460                                            '周末就去看看   \n",
       "2                                           '祝汕头大学越来越好   \n",
       "..                                                 ...   \n",
       "387                              '这个分能上哪些学校？能不能冲？快来看看！   \n",
       "445     '现在很多地方都有升降电梯，小区、公司、单位等等。你们知道吗？以后要停止这个动作了，太危险！   \n",
       "275                                                  '   \n",
       "270                             '你以为人生只有脚下的一条路，什么限制了你？   \n",
       "383                              '最新！楼区各小学一年级招生范围划分出炉！   \n",
       "\n",
       "                                                   URL                 发布时间  \\\n",
       "0    http://mp.weixin.qq.com/s?__biz=MzAwMTEyMjY4Mw...  2018-06-04 17:07:46   \n",
       "459  http://mp.weixin.qq.com/s?__biz=MjM5ODAyNTcwMA...  2018-06-08 14:34:28   \n",
       "1    http://mp.weixin.qq.com/s?__biz=MzAwMTEyMjY4Mw...  2018-06-03 16:26:55   \n",
       "460  http://mp.weixin.qq.com/s?__biz=MjM5ODAyNTcwMA...  2018-06-29 18:52:08   \n",
       "2    http://mp.weixin.qq.com/s?__biz=MjM5MjA0MDk2MA...  2018-06-29 10:29:10   \n",
       "..                                                 ...                  ...   \n",
       "387  http://mp.weixin.qq.com/s?__biz=MzA5MjAxNjAzMA...  2018-06-23 13:30:00   \n",
       "445  http://mp.weixin.qq.com/s?__biz=MzA5ODMyMDYwNA...  2018-06-18 12:54:58   \n",
       "275  http://mp.weixin.qq.com/s?__biz=MjM5MjA0MDk2MA...  2018-06-28 12:16:47   \n",
       "270  http://mp.weixin.qq.com/s?__biz=MjM5NzkwNTA5Mg...  2018-06-23 12:06:34   \n",
       "383  http://mp.weixin.qq.com/s?__biz=MjM5ODIzODI0OA...  2018-06-21 15:10:06   \n",
       "\n",
       "        阅读数   点赞数  文章序号 是否原创  \n",
       "0    100001  3156     1    否  \n",
       "459  100001  2278     1    是  \n",
       "1    100001  1874     1    否  \n",
       "460  100001  1789     1    是  \n",
       "2    100001  1385     1    否  \n",
       "..      ...   ...   ...  ...  \n",
       "387   31643    23     1    否  \n",
       "445   29184    21     1    否  \n",
       "275   40489    19     2    否  \n",
       "270   40762    17     5    否  \n",
       "383   32161    12     1    否  \n",
       "\n",
       "[500 rows x 11 columns]"
      ]
     },
     "execution_count": 7,
     "metadata": {},
     "output_type": "execute_result"
    }
   ],
   "source": [
    "df.sort_values(\"点赞数\",ascending=False)"
   ]
  },
  {
   "cell_type": "markdown",
   "metadata": {
    "toc-hr-collapsed": true,
    "toc-nb-collapsed": true
   },
   "source": [
    "## 标题长度"
   ]
  },
  {
   "cell_type": "code",
   "execution_count": 14,
   "metadata": {},
   "outputs": [],
   "source": [
    "df[\"len_title\"] = df[\"标题\"].str.len()"
   ]
  },
  {
   "cell_type": "code",
   "execution_count": 18,
   "metadata": {},
   "outputs": [
    {
     "data": {
      "text/plain": [
       "count    500.000000\n",
       "mean      28.920000\n",
       "std        7.305912\n",
       "min        2.000000\n",
       "25%       24.000000\n",
       "50%       29.000000\n",
       "75%       34.000000\n",
       "max       51.000000\n",
       "Name: len_title, dtype: float64"
      ]
     },
     "execution_count": 18,
     "metadata": {},
     "output_type": "execute_result"
    }
   ],
   "source": [
    "df[\"len_title\"].describe()"
   ]
  },
  {
   "cell_type": "code",
   "execution_count": 24,
   "metadata": {},
   "outputs": [
    {
     "data": {
      "text/plain": [
       "<matplotlib.axes._subplots.AxesSubplot at 0x1bb55bfccc8>"
      ]
     },
     "execution_count": 24,
     "metadata": {},
     "output_type": "execute_result"
    },
    {
     "data": {
      "image/png": "[encoded data removed]",
      "text/plain": [
       "<Figure size 432x288 with 1 Axes>"
      ]
     },
     "metadata": {
      "needs_background": "light"
     },
     "output_type": "display_data"
    }
   ],
   "source": [
    "sns.kdeplot(df[\"len_title\"], shade=True)"
   ]
  },
  {
   "cell_type": "markdown",
   "metadata": {},
   "source": [
    "## 感叹号的使用"
   ]
  },
  {
   "cell_type": "code",
   "execution_count": 11,
   "metadata": {},
   "outputs": [
    {
     "data": {
      "text/plain": [
       "1    178\n",
       "0    170\n",
       "2    125\n",
       "3     20\n",
       "4      7\n",
       "Name: count_!, dtype: int64"
      ]
     },
     "execution_count": 11,
     "metadata": {},
     "output_type": "execute_result"
    }
   ],
   "source": [
    "df[\"count_!\"] = df[\"标题\"].str.count(\"！\")\n",
    "df[\"count_!\"].value_counts()"
   ]
  },
  {
   "cell_type": "code",
   "execution_count": 13,
   "metadata": {},
   "outputs": [
    {
     "data": {
      "text/plain": [
       "<matplotlib.axes._subplots.AxesSubplot at 0x1bb524f3c48>"
      ]
     },
     "execution_count": 13,
     "metadata": {},
     "output_type": "execute_result"
    },
    {
     "data": {
      "image/png": "[encoded data removed]",
      "text/plain": [
       "<Figure size 432x288 with 1 Axes>"
      ]
     },
     "metadata": {
      "needs_background": "light"
     },
     "output_type": "display_data"
    }
   ],
   "source": [
    "sns.countplot(x = \"count_!\", data = df)"
   ]
  },
  {
   "cell_type": "markdown",
   "metadata": {},
   "source": [
    "## 问号的使用"
   ]
  },
  {
   "cell_type": "code",
   "execution_count": 26,
   "metadata": {},
   "outputs": [
    {
     "data": {
      "text/plain": [
       "0    450\n",
       "1     47\n",
       "2      3\n",
       "Name: count_?, dtype: int64"
      ]
     },
     "execution_count": 26,
     "metadata": {},
     "output_type": "execute_result"
    }
   ],
   "source": [
    "df[\"count_?\"] = df[\"标题\"].str.count(\"？\")\n",
    "df[\"count_?\"].value_counts()"
   ]
  },
  {
   "cell_type": "code",
   "execution_count": 27,
   "metadata": {},
   "outputs": [
    {
     "data": {
      "text/plain": [
       "<matplotlib.axes._subplots.AxesSubplot at 0x1bb56f59048>"
      ]
     },
     "execution_count": 27,
     "metadata": {},
     "output_type": "execute_result"
    },
    {
     "data": {
      "image/png": "[encoded data removed]",
      "text/plain": [
       "<Figure size 432x288 with 1 Axes>"
      ]
     },
     "metadata": {
      "needs_background": "light"
     },
     "output_type": "display_data"
    }
   ],
   "source": [
    "sns.countplot(x = \"count_?\", data = df)"
   ]
  },
  {
   "cell_type": "code",
   "execution_count": 29,
   "metadata": {},
   "outputs": [
    {
     "data": {
      "text/html": [
       "<div>\n",
       "<style scoped>\n",
       "    .dataframe tbody tr th:only-of-type {\n",
       "        vertical-align: middle;\n",
       "    }\n",
       "\n",
       "    .dataframe tbody tr th {\n",
       "        vertical-align: top;\n",
       "    }\n",
       "\n",
       "    .dataframe thead th {\n",
       "        text-align: right;\n",
       "    }\n",
       "</style>\n",
       "<table border=\"1\" class=\"dataframe\">\n",
       "  <thead>\n",
       "    <tr style=\"text-align: right;\">\n",
       "      <th></th>\n",
       "      <th>count_?</th>\n",
       "      <th>count_!</th>\n",
       "    </tr>\n",
       "  </thead>\n",
       "  <tbody>\n",
       "    <tr>\n",
       "      <th>count_?</th>\n",
       "      <td>1.000000</td>\n",
       "      <td>-0.011098</td>\n",
       "    </tr>\n",
       "    <tr>\n",
       "      <th>count_!</th>\n",
       "      <td>-0.011098</td>\n",
       "      <td>1.000000</td>\n",
       "    </tr>\n",
       "  </tbody>\n",
       "</table>\n",
       "</div>"
      ],
      "text/plain": [
       "          count_?   count_!\n",
       "count_?  1.000000 -0.011098\n",
       "count_! -0.011098  1.000000"
      ]
     },
     "execution_count": 29,
     "metadata": {},
     "output_type": "execute_result"
    }
   ],
   "source": [
    "df[[\"count_?\",\"count_!\"]].corr()"
   ]
  },
  {
   "cell_type": "markdown",
   "metadata": {},
   "source": [
    "# 分词"
   ]
  },
  {
   "cell_type": "code",
   "execution_count": 3,
   "metadata": {},
   "outputs": [
    {
     "name": "stderr",
     "output_type": "stream",
     "text": [
      "Building prefix dict from the default dictionary ...\n",
      "Loading model from cache C:\\Users\\lin\\AppData\\Local\\Temp\\jieba.cache\n",
      "Loading model cost 1.636 seconds.\n",
      "Prefix dict has been built successfully.\n"
     ]
    }
   ],
   "source": [
    "# 通过for循环遍历来进行所有标题的分词\n",
    "import jieba\n",
    "words = []\n",
    "for i, row in df.iterrows():\n",
    "    word = jieba.cut(row['标题'])\n",
    "    result = ' '.join(word) \n",
    "    words.append(result)"
   ]
  },
  {
   "cell_type": "code",
   "execution_count": 4,
   "metadata": {},
   "outputs": [
    {
     "data": {
      "text/plain": [
       "['致敬 最美 逆 行者 ！ 达州 感谢 你们 ！',\n",
       " '通川区 塔沱 市场 火灾 扑救 最新 情况通报',\n",
       " '汕头大学 毕业 礼太炫酷 ， 李嘉诚 第 17 次 亲临 致辞 ！ 他 宣布 了 一个 决定']"
      ]
     },
     "execution_count": 4,
     "metadata": {},
     "output_type": "execute_result"
    }
   ],
   "source": [
    "words[0:3]  # 展示前三条新闻的分词结果"
   ]
  },
  {
   "cell_type": "code",
   "execution_count": 5,
   "metadata": {},
   "outputs": [],
   "source": [
    "# 将之前所有的新闻标题进行文本向量化\n",
    "from sklearn.feature_extraction.text import CountVectorizer\n",
    "vect = CountVectorizer()\n",
    "X = vect.fit_transform(words)\n",
    "X = X.toarray()"
   ]
  },
  {
   "cell_type": "code",
   "execution_count": 6,
   "metadata": {},
   "outputs": [
    {
     "name": "stdout",
     "output_type": "stream",
     "text": [
      "[[0 0 0 ... 0 0 0]\n",
      " [0 0 0 ... 0 0 0]\n",
      " [0 0 0 ... 0 0 0]\n",
      " ...\n",
      " [0 0 0 ... 0 0 0]\n",
      " [0 0 0 ... 0 0 0]\n",
      " [0 0 0 ... 0 0 0]]\n"
     ]
    }
   ],
   "source": [
    "print(X)"
   ]
  },
  {
   "cell_type": "code",
   "execution_count": 7,
   "metadata": {
    "collapsed": true,
    "jupyter": {
     "outputs_hidden": true
    }
   },
   "outputs": [
    {
     "name": "stdout",
     "output_type": "stream",
     "text": [
      "{'致敬': 2090, '最美': 1513, '行者': 2135, '达州': 2268, '感谢': 1254, '你们': 397, '通川区': 2342, '塔沱': 837, '市场': 1095, '火灾': 1726, '扑救': 1293, '最新': 1508, '情况通报': 1236, '汕头大学': 1629, '毕业': 1608, '礼太炫酷': 1928, '李嘉诚': 1543, '17': 13, '亲临': 330, '致辞': 2092, '宣布': 1011, '一个': 120, '决定': 513, '明晚': 1464, '上合': 205, '灯光': 1730, '焰火': 1744, '震撼': 2447, '上演': 212, '附超全': 2418, '峰会': 1082, '剧透': 584, '多图': 855, '江门': 1632, '暴雨': 1491, '动人': 593, '瞬间': 1914, '热泪盈眶': 1740, '一起': 178, '大爱': 885, '温情': 1702, '传递': 380, '出去': 529, '国家': 807, '刚刚': 560, '公布': 477, '422': 51, '先进县': 447, '名单': 730, '咱省': 767, '10': 1, '地方': 818, '入选': 453, '家乡': 1017, '浙江': 1674, '这种': 2305, '馒头': 2476, '出事': 527, '几十名': 522, '摊主': 1377, '杭州人': 1555, '注意': 1657, '甄别': 1821, '女子': 931, '银行': 2389, '1100': 5, '取钱': 684, '柜员': 1559, '一张': 151, '公安局': 475, '地址': 817, '狂风暴雨': 1779, '高考': 2503, '这些': 2288, '镜头': 2392, '温暖': 1703, '广州': 1127, '习近平': 308, '重大': 2369, '青岛': 2452, '迎来': 2277, '重磅': 2375, '利好': 566, '大金句': 894, '儿子': 440, '摔了一跤': 1378, '医生': 609, '一针': 182, '下去': 222, '引发': 1159, '一场': 133, '抢救': 1313, '这位': 2291, '爸爸': 1765, '自述': 2089, '值得': 419, '所有': 1281, '家长': 1023, '看看': 1899, '普京': 1477, '很想': 1187, '尝尝': 1061, '啤酒': 782, '海鲜': 1683, '关于': 487, '世界杯': 252, '雷电': 2443, '大风': 895, '凶猛': 526, '龙舟': 2523, '明天': 1462, '袭击': 2148, '江湛': 1631, '高铁': 2506, '今天下午': 352, '开售': 1142, '湛江': 1708, '最低': 1497, '206': 22, '西宁': 2153, '花街': 2099, 'pk': 114, '评评': 2190, '雷暴雨': 2442, '强袭': 1170, '12': 8, '下班': 225, '13': 10, '上下班': 204, '特别': 1773, '快讯': 1208, '福建': 1939, '放榜': 1402, '686': 88, '706': 95, '厦门': 661, '学霸': 981, '太棒了': 905, '今晚': 356, '突降': 1959, '市委': 1096, '市政府': 1098, '发布': 673, '紧急通知': 2005, '首位': 2478, '前来': 581, '参加': 664, '国家元首': 808, '时间': 1461, '正式': 1588, '开启': 1141, '青海': 2456, '如此': 952, '惊人': 1237, '深达': 1693, '半米': 633, '新华社': 1426, '播发': 1381, '长篇': 2399, '通讯': 2348, '同志': 727, '推动': 1366, '厦门经济特区': 662, '建设': 1139, '发展': 672, '探索': 1355, '实践': 1004, '紧急': 2004, '扩散': 1303, '今明两天': 355, '尽量': 1065, '不要': 240, '五四': 322, '广场': 1126, '吓人': 745, '公园': 474, '散步': 1413, '回来': 798, '十几个': 612, '孩子': 984, '几乎': 519, '毁容': 1597, '2018': 20, '作文题': 395, '出炉': 537, '时光': 1457, '2035': 21, '小学生': 1048, '在家': 814, '玩抖音': 1795, '妈妈': 953, '洗澡': 1663, '直播': 1886, '还有': 2283, '恶劣': 1229, '生二孩': 1823, '慎入': 1257, '乳房': 313, '取出': 679, '条活': 1549, '吓一跳': 743, '爱喝': 1758, '这个': 2285, '东西': 258, '你家': 399, '粤西': 2000, '第一条': 1979, '马上': 2484, '进站': 2313, '最全': 1499, '消息': 1685, '这里': 2308, '上线': 214, '据说': 1350, '车上': 2252, '肯德基': 2070, '本科': 1534, '文科': 1423, '443': 52, '理科': 1816, '376': 41, '广东': 1124, '分数线': 549, '518': 63, '第一': 1974, '高楼': 2500, '今天': 351, '动工': 595, '2223': 26, '73': 100, '亿元': 349, '项目': 2461, '福州': 1937, '巨变': 1089, '赤坎': 2222, '立交桥': 1962, '开拆': 1152, '将会': 1039, '改造': 1394, '这样': 2301, '票价': 1936, '多少': 857, '班次': 1809, '这份': 2290, '调查': 2203, '问卷': 2403, '人必': 339, '96': 107, '赌王': 2218, '何鸿燊': 389, '退休': 2326, '没想到': 1640, '女儿': 928, '接班人': 1361, '公交车': 471, '调整': 2202, '停运': 431, '改线': 1392, '延时': 1136, '25': 31, '大学生': 874, '样貌': 1569, '40': 45, '无法': 1445, '生育': 1831, '症状': 1865, '很多': 1186, '进入': 2311, '全省': 465, '20': 18, '真学霸': 1901, '曝光': 1493, '高分': 2494, '秘笈': 1947, '今年': 353, '台风': 707, '登陆': 1873, '如期举行': 950, '怀孕': 1211, '流产': 1668, '检查': 1577, '发现': 675, '老公': 2050, '习惯': 307, '有关': 1519, '男生': 1849, '晚上': 1474, '运动': 2278, '小时': 1054, '一早': 159, '起来': 2231, '厕所': 658, '吓了一跳': 744, '两周': 263, '为了': 295, '剑阁': 582, '青川': 2454, '利州': 567, '多地': 856, '发大水': 671, '汪洋': 1634, '滑坡': 1712, '断道': 1424, '出来': 536, '乖乖女': 303, '感染': 1252, '难以启齿': 2435, '女人爱': 927, '可能': 705, '中招': 285, '首个': 2477, '影响': 1183, '要来': 2159, '拨开': 1337, '头发': 914, '有人': 1518, '因此': 802, '死亡': 1593, '此病': 1590, '可人': 702, '传人': 377, '一本': 160, '475': 54, '403': 47, '号牌': 709, '日起': 1451, '开四停': 1144, '神器': 1931, '日期': 1448, '试卷': 2191, '答案': 1988, '算算': 1993, '115': 6, '美女': 2045, '相亲': 1889, '怒减': 1215, '30': 34, '多斤': 859, '结果': 2027, '出门': 543, '尿不湿': 1066, '未来': 1532, '一周': 132, '天气': 900, '港澳': 1704, '通行证': 2347, '取消': 683, '官方消息': 993, '必须': 1198, '知道': 1916, '权威': 1542, '焦作市': 1742, '实施': 1001, '城区': 830, '机动车': 1536, '限行': 2427, '措施': 1367, '附限行': 2419, '区域': 606, '100': 2, '致死率': 2091, '染上': 1558, '这病': 2304, '男子': 1846, '还是': 2282, '两个': 259, '善举': 784, '成绩': 1263, '文理': 1421, '华英': 637, '南实': 644, '石门': 1919, '佛山': 391, '小升初': 1044, '首场': 2479, '面谈': 2460, '试题': 2193, '庆幸': 1131, '幸亏': 1121, '丹东': 294, '市民': 1099, '做好': 423, '准备': 514, '傍晚': 435, '开始': 1146, '大到暴雨': 867, '即将': 652, '来袭': 1551, '山东': 1076, '考察': 2062, '海洋': 1680, '强国': 1168, '一直': 173, '信念': 408, '果然': 1557, '世纪': 253, '考生': 2064, '需要': 2446, '思考': 1218, '妈宝娃': 954, '真的': 1905, '写不出': 504, '提醒': 1369, '朋友圈': 1529, '千万别': 622, '已经': 1093, '上当': 207, '没人接': 1638, '老婆': 2051, '失联': 913, '心急如焚': 1194, '赶回': 2224, '家一看': 1015, '气炸': 1620, '主场': 297, '开放': 1153, '敲定': 1416, '交通': 327, '攻略': 1396, '确定': 1924, '收入': 1385, '要大涨': 2157, '因为': 800, '乘坐': 304, '明星': 1463, '竟然': 1970, 'ta': 116, '市区': 1094, '部分': 2361, '采取': 2367, '临时性': 293, '行政': 2134, '管理': 1996, '女婿': 930, '父亲': 1761, '毒杀': 1606, '母亲': 1598, '这起': 2307, '杀人案': 1539, '法官': 1653, '忍不住': 1199, '落泪': 2117, '男童': 1850, '常遭': 1106, '离婚': 1942, '毒打': 1605, '逃出': 2332, '求救': 1625, '我生': 1269, '时候': 1456, '差点': 1091, '难产': 2434, '题目': 2467, '七月': 186, '有点': 1527, '过分': 2271, '米其林': 1998, '指南': 1341, '他们': 360, '好吃': 943, '最平靓': 1504, '同意': 728, '独家': 1781, '德州': 1193, '考试题': 2065, '包括': 601, '科目': 1945, '抓紧': 1309, '收藏': 1388, '珠海': 1807, '大学': 873, '颜值': 2468, '逆天': 2337, '新郎': 1434, '婚宴': 964, '逃单': 2333, '媒体': 966, '认出': 2183, '不是': 231, '结婚': 2025, '生子': 1826, '丈夫': 193, '阳江': 2411, '附学': 2416, '霸图': 2450, '出席': 534, '组织': 2013, '欢迎宴会': 1585, '上海': 210, '合作': 722, '并致': 1120, '祝酒辞': 1930, '大暴雨': 881, '平度': 1111, '莱西': 2111, '担心': 1321, '发生': 676, '胸前': 2079, '背包': 2073, '突然': 1957, '爆炸': 1753, '一定': 141, '当心': 1176, '刚生': 563, '吸毒': 755, '男友': 1844, '人间蒸发': 348, '医院': 610, '留下': 1852, '南通': 648, '中小学生': 281, '史上': 708, '最长': 1514, '暑假': 1485, '开学': 1147, '寒假': 1031, '也定': 306, '离开': 1944, '几分钟': 520, '37': 40, '男婴': 1845, '口吐白沫': 690, '原来': 660, '哥哥': 773, '切线': 552, '本一': 1533, '551': 66, '490': 57, '116': 7, '万全': 188, '阿姨': 2415, '高利贷': 2495, '卖掉': 643, '唯一': 778, '房产': 1276, '竟是': 1967, '疯狂': 1859, '气到': 1616, '心碎': 1195, '夜读': 861, '凌晨': 517, '一点': 170, '外卖': 849, '小哥': 1045, '坐在': 821, '路旁': 2241, '痛哭': 1866, '所有人': 1282, '可以': 703, '轻松': 2263, '度过': 1135, '一生': 171, '全身': 468, '中毒': 286, '晕倒': 1473, '罪魁祸首': 2042, '女性': 933, '喜欢': 785, '这菜': 2306, '一家': 142, '三口': 197, '送医': 2328, '天热': 902, '金昌': 2380, '09': 0, '持枪': 1338, '成功': 1260, '告破': 757, '满分': 1715, '作文': 394, '中考': 288, '启示': 751, '大呼': 870, '不会': 227, '写作文': 505, '赶紧': 2228, '进来': 2312, '急诊': 1221, '国外': 805, '我们': 1267, '中国': 276, '一句': 131, '道歉': 2354, '女童': 939, '高层': 2497, '坠亡': 828, '刚接': 562, '姐姐': 958, '小区': 1042, '目睹': 1882, '惨剧': 1244, '崩溃': 1084, '如果': 951, '火急火燎': 1725, '秘密': 1946, '吐血': 741, '湖北': 1706, '揭晓': 1371, '杭州': 1554, '900': 104, '仓库': 359, '突起': 1958, '大火': 884, '屏幕': 1071, '感到': 1250, '空气': 1952, '滚烫': 1714, '里面': 2368, '班主任': 1808, '猥亵': 1786, '19': 16, '少女': 1059, '跳楼自杀': 2243, '围观者': 804, '起哄': 2229, '嘲笑': 787, '再见': 503, '人们': 336, '西外': 2152, '列队': 556, '送别': 2327, '省内': 1894, '驰援': 2488, '消防官兵': 1686, '航拍': 2094, '视频': 2172, '绵阳': 2032, '36': 39, '老赖': 2057, '高清': 2501, '照片': 1749, '姓名': 960, '住址': 385, '金额': 2381, '法院': 1654, '最后通牒': 1501, '录取': 1180, '文史类': 1418, '561': 71, '理工类': 1814, '512': 61, '打造': 1299, '经贸合作': 2022, '示范区': 1927, '打算': 1298, '这么': 2286, '宣言': 1012, '全文': 462, '对不起': 1033, '拖后腿': 1328, '哈尔滨': 770, '新区': 1425, '管委会': 1994, '挂牌': 1340, '就是': 1062, '可怕': 704, '滴滴': 1718, '司机': 711, '几杯酒': 524, '尿检': 1067, '阳性': 2410, '嫉妒': 969, '表弟': 2139, '妻子': 957, '高跟鞋': 2505, '抑郁症': 1307, '残忍': 1595, '杀害': 1541, '一双': 129, '儿女': 439, '持续性': 1339, '停课': 430, '多区': 854, '延迟': 1137, '上学': 206, '正常': 1587, '进行': 2314, '新闻': 1435, '早茶': 1453, '宾馆': 1027, '未成年': 1531, '瘫坐': 1870, '床上': 1132, '痴痴': 1869, '傻笑': 438, '警方': 2181, '远离': 2317, '气体': 1615, '恭喜': 1228, '潮州': 1723, '涉及': 1687, '河源': 1645, '万多': 190, '成长': 1266, '国宴': 806, '菜品': 2113, '晚饭': 1476, '做法': 424, '揭秘': 1372, '雨水': 2439, '倒灌': 413, '车库': 2253, '攀住': 1383, '管道': 1997, '仰面': 368, '呼吸': 762, '被困': 2145, '暴风雨': 1492, '泪目': 1660, '救命': 1407, '人贩子': 346, '当街': 1178, '小孩子': 1051, '案子': 1572, '事情': 315, '远比': 2316, '想象': 1246, '复杂': 844, '余年': 390, '首次': 2482, '遇上': 2352, '风雨不改': 2472, '请来': 2197, '特级': 1775, '照料': 1747, '宝宝': 1000, '收到': 1386, '病危': 1863, '通知单': 2346, '停水': 428, '48': 55, '微信': 1192, '好友': 942, '暴肥': 1488, '怪病': 1222, '悉心': 1231, '医治': 608, '然而': 1745, '家里': 1022, '几个': 518, '瓶子': 1820, '彻底': 1184, '案情': 1573, '快报': 1206, '咬了一口': 764, '舌头': 2093, '在意': 815, '一个月': 121, '查出': 1560, '患癌': 1232, '值得注意': 420, '长沙': 2397, '调控': 2201, '政策': 1404, '升级': 628, '坚决': 826, '炒房': 1731, '攻坚战': 1395, '山西': 1077, '晋城': 1471, '一中': 122, '人数': 341, '男孩': 1847, '身高': 2251, '定格': 997, '58': 73, '道破': 2355, '玄机': 1787, '后悔不已': 737, '这所': 2297, '鲤工': 2509, '这次': 2302, '免费': 449, '师生': 1100, '芒果': 2098, '莲雾': 2112, '我省': 1270, '院校': 2429, '申报': 1835, '国家级': 809, '试点': 2192, '母校': 1599, '加油': 592, '点赞': 1736, '中铁': 289, '投资': 1311, '500': 58, '国际': 812, '生态': 1827, '内附': 499, '详细': 2196, '规划': 2170, '终于': 2015, '等到': 1986, '观赏': 2168, '猝不及防': 1784, '生还': 1832, '机会': 1535, '高龄': 2507, '坚持': 827, '记者': 2188, '剖腹产': 583, '黄山市': 2514, '文理科': 1422, '第一名': 1975, '出自': 540, '一所': 154, '学校': 978, '施一公': 1439, '驻马店': 2489, '大驻': 896, '一座': 150, '文明': 1419, '优雅': 374, '城市': 831, '无论': 1446, '哪里': 776, '代言': 361, '睡觉时': 1913, '蟑螂': 2131, '爬进': 1757, '耳朵': 2066, '生下': 1822, '后代': 734, '准新娘': 516, '骨肿瘤': 2491, '截肢': 1274, '平时': 1112, '忽视': 1210, '信息': 409, '统计表': 2029, '理工': 1813, '700': 93, '以上': 365, '文史': 1417, '680': 86, '养老金': 496, '16': 12, '女孩': 932, '没来': 1642, '例假': 401, '脸上': 2081, '长满': 2398, '青春痘': 2455, '因中': 799, '考前': 2060, '煮熟': 1750, '粽子': 2001, '千万': 621, '直接': 1885, '否则': 746, '马伊': 2485, '一次': 166, '刷新': 575, '三观': 203, '前半生': 579, '没有': 1641, '对错': 1037, '只有': 696, '上车': 217, '直击': 1883, '首条': 2480, '什么样': 350, '奥帆': 923, '中心': 284, '对外开放': 1034, '张嘉译': 1163, '回家': 795, '乡为': 309, '龙头': 2522, '点睛': 1735, '倒计时': 414, '张艺谋': 1167, '导演': 1038, '表演': 2143, '文末': 1420, '彩蛋': 1182, '蓝色': 2121, '钱江': 2384, '保姆': 404, '放火': 1403, '案二审': 1571, '宣判': 1010, '数学': 1414, '裸分': 2151, '702': 94, '寝室': 1032, '全上': 454, '清华北大': 1696, '一大': 136, '波学霸': 1655, '正在': 1586, '赶来': 2227, '作文题目': 396, '太难': 909, '半年': 629, '欠下': 1583, '300': 35, '富家女': 1030, '精神': 2002, '当初': 1174, '不该': 244, '万块': 189, '健康': 432, '回得来': 797, '串起': 290, '大半个': 868, '飞起': 2474, '好险': 946, '今晨': 357, '南河': 646, '漫水桥': 1720, '垂钓者': 829, '洪水': 1666, '围困': 803, '广元': 1125, '奋战': 921, '救援': 1408, '22': 24, '姑娘': 959, '艾滋': 2096, '相信': 1890, '爱情': 1759, '夏天': 846, '格外': 1570, '分数段': 548, '数据': 1415, '排名': 1352, '死亡率': 1594, '瑞安': 1819, '张楚衣': 1166, '718': 98, '浙江省': 1675, '最高分': 1516, '刘子琪': 558, '707': 96, '温州市': 1700, '第二名': 1983, '学霸们': 982, '秘籍': 1948, '惊艳': 1242, '现场图': 1800, '最新进展': 1510, '崔永元': 1083, '举报': 300, '范冰冰': 2103, '逃税': 2336, '国税': 811, '总局': 1224, '发声': 670, '晚评': 1475, '一条': 161, '沙虫': 1636, '自我': 2086, '独白': 1782, '胖得': 2078, '理直气壮': 1815, '泉州': 1652, '来自': 1550, '晋江': 1472, '突发': 1955, '当时': 1177, '接大': 1359, '放学': 1400, '刚回到': 561, '楼下': 1578, '一年一度': 148, '浪山': 1676, '开着车': 1155, '背着': 2075, '洋芋': 1662, '唱着歌': 780, '电风扇': 1842, '贴个': 2214, '创可贴': 565, '出现': 538, '神奇': 1932, '一幕': 146, '39': 44, '连续': 2321, '熬夜': 1751, '觉醒': 2174, '没命': 1639, '期间': 1530, '观赛': 2169, '收好': 1387, '普通': 1478, '一段': 167, '588': 75, '二段': 321, '填志愿': 838, '坑要': 825, '避开': 2357, '落幕': 2115, '取得': 681, '成果': 1262, '吴川市': 752, '第三': 1981, '中学': 279, '表扬': 2142, '每顿饭': 1604, '只能': 697, '只长个': 699, '不长重': 245, '拍片': 1326, '不见': 242, '冰岛': 509, '牙医': 1766, '老板': 2054, '工人': 1086, '兼职': 497, '昨晚': 1468, '梅西': 1576, '点球': 1734, '扑出来': 1292, '一两万': 119, '千岛湖': 627, '背后': 2074, '竟有': 1969, '电影节': 1837, '开幕': 1149, '日程安排': 1450, '终极': 2017, '准妈妈': 515, '忍痛': 1200, '放弃': 1401, '胎儿': 2076, '共处一室': 485, '家人': 1018, '最高': 1515, '生成': 1828, '天气预报': 901, '相恋': 1892, '24': 29, '女友': 929, '谁知': 2200, '49': 56, '大妈': 872, '后面': 740, '小龙虾': 1057, '会长': 376, '亲吻': 332, '传染病': 379, '十大': 617, '谣言': 2204, '真相': 1906, '令人': 362, '愤怒': 1256, '学子': 977, '考得': 2063, '怎样': 1214, '太热': 907, '东站': 256, '昏迷': 1465, '陌生': 2421, '大叔': 869, '掏出': 1351, '一枚': 162, '硬币': 1923, '偷偷': 433, '这事': 2287, '一年': 147, '父母': 1762, '留心': 1854, '怎么': 1212, '考场': 2061, '五险': 323, '一金': 181, '缴费': 2034, '基数': 833, '到手': 571, '工资': 1088, '暨大': 1487, '毕业典礼': 1609, '堪比': 834, '奥斯卡': 924, '盛装': 1881, '走红': 2223, '雨中': 2438, '太炫酷': 906, '外婆': 851, '方言': 1438, '一律': 152, '姥姥': 962, '小学': 1046, '课文': 2199, '改了': 1390, '网友': 2037, '吵翻': 754, '空调': 1953, '房里': 1278, '三个': 195, '危险': 651, '大人': 864, '敏感': 1405, '610': 78, '万元': 187, '重奖': 2370, '悬红': 1233, '快来': 1207, '海东': 1677, '取名字': 680, '台上': 706, 'hold': 109, '赌客': 2217, '这件': 2289, '事比': 317, '重要': 2377, '荔枝': 2106, '蛋黄派': 2127, '葡萄干': 2119, '酒驾': 2365, '交警': 326, '实测': 1003, '最小': 1503, '一根': 165, '筷子': 1989, '早产儿': 1452, '出生': 539, '如临': 947, '大考': 889, '90': 103, 'it': 111, '丈母娘': 194, '拒绝': 1327, '家境': 1019, '解决': 2175, '问题': 2404, '男人': 1843, '痛处': 1867, '透露': 2339, '或迎': 1272, '最快': 1507, '为什么': 296, '催婚': 436, '孟非': 973, '一语道破': 177, '过瘾': 2276, '省长': 1895, '点名': 1733, '杭丽': 1553, '时速': 1460, '350': 38, '公里': 482, '关注': 489, '信阳': 412, '77': 101, '教师': 1410, '入围': 451, '中原': 275, '名师': 731, '认识': 2186, '每天': 1601, '因吃': 801, '炸裂': 1732, '呵呵': 761, '下雪': 226, '留学': 1853, '名校': 732, '归来': 1172, '工作': 1087, '杀到': 1540, '继续': 2030, '葡萄': 2118, '全是': 463, '虫子': 2124, '焦虑': 1743, '意外': 1248, '同学': 726, '会后': 375, '职场': 2067, '怒吼': 1216, '还要': 2284, '不要命': 241, '人均': 337, '年薪': 1119, '上涨': 211, '一成': 153, '感觉': 1253, '如何': 949, '暂停': 1483, '企事业': 370, '单位': 640, '及其': 667, '机构': 1537, '销售': 2391, '住房': 386, '二手房': 320, '不行': 239, '深夜': 1692, '惊恐': 1241, '中点': 287, '要求': 2160, '送餐': 2330, '哈哈哈': 769, '哈哈': 768, '第一批': 1978, '二中': 318, '学军': 975, '557': 69, '杭高': 1556, '552': 67, '546': 65, '553': 68, '四川': 791, '查分': 1561, '买房': 310, '买车': 312, '天能': 903, '3000': 36, '一件': 123, '昨夜': 1467, '袭城': 2149, '蚌埠': 2126, '必看': 1197, '587': 74, '专业': 248, '最强者': 1506, '广州日报': 1128, '一流': 168, '学科': 979, '排行榜': 1354, '火龙果': 1729, '藏条': 2123, '火龙': 1728, '央视': 911, '传来': 378, '人速': 347, '现在': 1798, '爸妈': 1764, '接到': 1357, '神秘电话': 1934, '骗子': 2490, '黑斑': 2517, '蔓延': 2122, '手臂': 1288, '溃烂': 1710, '三年': 200, '一下': 118, '刺伤': 576, '怠慢': 1219, '不得': 230, '全国': 457, '381': 43, '野鸡大学': 2378, '录取线': 1181, '其他': 493, '省份': 1893, '起征点': 2230, '拟提': 1335, '每月': 1602, '5000': 59, '个税法': 271, '第七次': 1980, '大修': 865, '吃完饭': 713, '强烈': 1169, '恐惧': 1227, '暴走': 1490, '万步': 192, '一查': 163, '重病': 2374, '亲生': 335, '得知': 1191, '犹豫': 1777, '再三': 500, '长约': 2400, '重约': 2376, '鲸鱼': 2510, '雷州': 2440, '搁浅': 1374, '生命': 1824, '展开': 1073, '喂奶时': 783, '觉得': 2173, '类人': 1999, '冰箱': 510, '等于': 1985, '定时炸弹': 996, '流血': 1670, '不止': 232, '报警': 1317, '牵出': 1771, '令人发指': 363, '这项': 2309, '新规': 1433, '家有': 1021, '小孩': 1050, '手术': 1285, '打开': 1296, '房门': 1279, '一看': 174, '多万': 852, '存款': 971, '变成': 689, '这是': 2299, '惊呆': 1240, '梅州': 1575, '默默': 2520, '玉林市': 1789, '公积金': 480, '出台': 531, '归集': 1173, '提取': 1368, '信贷': 411, '手机': 1286, '充电': 445, '泄露': 1651, '账户': 2210, '还会': 2280, '连累': 2320, '按钮': 1343, '不能': 238, '最低工资': 1498, '标准': 1565, '变化': 685, '中央': 278, '节日': 2097, '放假': 1398, '嘶吼': 788, '入梅': 452, '救星': 1409, '美到': 2043, '窒息': 1960, '速来': 2349, '打卡': 1295, '新晋': 1430, '网红': 2038, '景点': 1481, '它们': 985, '最强': 1505, '逼近': 2351, '旅游': 1440, '避孕药': 2356, '磨成': 1926, '放在': 1399, '室友': 1014, '饭里': 2475, '毛骨悚然': 1611, '雷雨': 2444, '下午': 220, '连下': 2318, '气温': 1619, '直降': 1888, '11': 4, '弟弟': 1161, '一口': 130, '昏迷不醒': 1466, '丧命': 270, '近期': 2279, '频发': 2466, '豪门': 2206, '两年生': 266, '亲友': 331, '倒贴': 415, '最后': 1500, '睡觉': 1912, '特殊': 1774, '癖好': 1872, '新婚': 1428, '被迫': 2147, '分床': 546, '睡想': 1910, '1995': 17, '流出': 1669, '一批': 155, '珍贵': 1805, '好多': 944, '找到': 1305, '自己': 2085, '轰动': 2262, '这名': 2293, '23': 28, '鲜肉': 2508, '忽略': 1209, '又帅': 666, '救人': 1406, '单身': 641, '636': 82, '682': 87, '普通高校': 1479, '招生': 1331, '排序': 1353, '一分': 126, '成本': 1261, '转卖': 2258, '千元': 625, '有毒': 1526, '有害': 1522, '看中': 1896, '拜年': 1334, '年来': 1118, '经常': 2019, '后悔': 736, '后半夜': 735, '接下来': 1356, '几天': 523, '爷爷': 1763, '幼儿园': 1123, '接错': 1364, '孙子': 972, '打针': 1300, '老师': 2052, '这句': 2292, '记住': 2187, '卫生间': 650, '不用': 236, '关着': 490, '上课': 215, '带刀': 1101, '每次': 1603, '噩梦': 789, '煎熬': 1746, '追问': 2325, '亲手': 334, '恶魔': 1230, '下周': 223, '38': 42, '这周': 2294, '不高': 246, '难受': 2436, '荒唐': 2105, '摔死': 1379, '咬人泰迪': 765, '割腕': 586, '狗命': 1780, '早评': 1454, '自拍': 2087, '闺蜜': 2406, '送进': 2329, '派出所': 1667, '太秀': 908, '以为': 366, '感冒': 1249, '治疗': 1649, '半月': 632, '懒汉': 1259, '接触': 1363, '街坊': 2136, '小心': 1053, '荔枝树': 2107, '已有': 1092, '大量': 893, '涌入': 1689, '家门': 1024, '头皮发麻': 916, '求助': 1624, '怎么办': 1213, '随手': 2433, '婴儿': 965, '常见': 1105, '拍死': 1325, '应该': 1134, '我市': 1268, '启动': 749, '定时': 995, '加压': 591, '供水': 402, '假装': 421, '揪心': 1370, '要说': 2162, '腾讯': 2083, 'qq': 115, '宠物': 1006, '失去': 912, '珍惜': 1804, '露脸': 2449, '监控': 1880, '恐怖': 1226, '画面': 1851, '迟到': 2323, '就算': 1063, '地铁': 819, '三号': 199, '青岛市': 2453, '物业': 1770, '收费': 1389, '新政': 1429, '关心': 488, '生活': 1830, '到处': 569, '但要': 383, '答得': 1987, '容易': 1026, '出嫁': 533, '一席话': 144, '全场': 458, '爆炸声': 1754, '闹市': 2405, '屏风': 1072, '起火': 2232, '浓烟': 1673, '伸出': 382, '两只手': 262, '方案': 1437, '挺大': 1345, '猝死': 1785, '欠条': 1584, '还债': 2281, '总分': 1223, '铜陵': 2387, 'no': 112, '霸气': 2451, '十足': 620, '下体': 219, '白色': 1874, '苔藓': 2101, 'hpv': 110, '疫苗': 1857, '男性': 1848, '发育': 678, '出血': 541, '竟因': 1966, '邻居': 2358, '超市': 2235, '海飞丝': 1682, '飘柔': 2473, '六神': 483, '捣毁': 1349, '多个': 853, '制售': 573, '假货': 422, '窝点': 1961, '大牌': 887, '倒车': 416, '街头': 2137, '电瓶车': 1839, '卷进': 655, '半挂车': 630, '听到': 747, '狂喊': 1778, '滚下来': 1713, '备注': 842, '神秘': 1933, '黑匣': 2516, '人生': 344, '一万种': 117, '酒后': 2364, '开房': 1151, '一夜': 135, '过后': 2272, '不到': 229, '车牌': 2254, '过来': 2274, '小客车': 1052, '阶梯': 2414, '摇号': 1376, '背上': 2072, '外债': 847, '一招': 157, '翻盘': 2049, '奇葩': 919, '打包': 1294, '剩菜': 585, '当面': 1179, '贤惠': 2209, '非粤': 2458, '可不': 701, '管控': 1995, '景区': 1480, '暂时': 1484, '关闭': 491, '爆红': 1756, '一儿': 125, '一女': 140, '985': 108, '点醒': 1737, '无数': 1444, '常州': 1103, '连通': 2322, '霞山': 2448, '观海': 2167, '长廊': 2395, '广州湾': 1129, '大道': 892, '何时能': 388, '相关': 1891, '部门': 2362, '回应': 796, '湖南': 1707, '569': 72, '513': 62, '牙疼': 1767, '去世': 663, '不然': 235, '真能': 1907, '要人命': 2156, '吃糖': 715, '60': 76, '身体': 2248, '放下': 1397, '手中': 1283, '快乐': 1205, '肥宅水': 2069, '日本': 1449, '球迷': 1811, '举动': 299, '全世界': 455, '委屈': 961, '原因': 659, '现实': 1801, '鼻子': 2521, '吃饭': 716, '结冰': 2024, '惹祸': 1247, '最爱': 1511, '超燃': 2236, '此时此刻': 1589, '贝克汉姆': 2207, '皮耶罗': 1878, '古力特': 693, '安切洛蒂': 987, '沸腾': 1648, '33': 37, '小伙': 1040, '智商': 1482, '十几岁': 615, '只要': 698, '起笔': 2233, '这帮': 2296, '高级': 2502, '写字楼': 506, '借钱': 418, '趁雨': 2234, '停快': 426, '雷雨大风': 2445, '冰雹': 511, '周末': 760, '温度': 1701, '降到': 2422, '开场': 1145, '分钟': 551, '头球': 915, '破门': 1922, '张动图': 1162, '刷屏': 574, '到底': 570, '出发': 530, '复古': 843, '铛铛': 2386, '车首': 2257, '一路': 179, '玩遍': 1797, '集美': 2437, '旅游景点': 1441, '一级': 176, '达标': 2269, '降级': 2425, '福建省': 1940, '教育厅': 1411, '复查': 845, '确认': 1925, '高中': 2492, '人才': 340, '大礼包': 888, '了解': 314, '红色': 2007, '预警': 2465, '生效': 1829, '睡梦中': 1911, '一声': 134, '巨响': 1090, '后脑勺': 739, '床头': 1133, '家家': 1020, '协议': 638, '4000': 46, '华润': 636, '平安': 1110, '紫光': 2006, '29': 33, '重特大': 2373, '招商': 1330, '签约': 1990, '落户': 2116, '东莞': 257, '附表': 2417, '大节': 890, '端午': 1972, '挡不住': 1344, '不信': 228, '鸡血': 2511, '哈尔滨人': 771, '雷暴': 2441, '横扫': 1581, '马路': 2487, '河道': 1647, '下单': 221, '买条': 311, '发病': 677, '全家': 459, '大哭': 871, '一辆': 180, '劳斯莱斯': 599, '扎入': 1290, '水中': 1621, '路人': 2240, '纷纷': 2011, '拍手叫好': 1324, '想不到': 1245, '两块': 264, '石头': 1917, '鉴定': 2382, '价值': 369, '百万': 1876, '清远': 1698, '中冠': 272, '汽车': 1635, '客运站': 1009, '终止': 2018, '经营': 2021, '以后': 367, '坐车': 823, '衡水': 2138, '妖风': 955, '抱团': 1318, '肚子疼': 2068, '半边': 634, '消失': 1684, '高发': 2496, '大意': 878, '温州': 1699, '最牛学霸': 1512, '十七中': 611, '分数': 547, '666': 85, '秘诀': 1949, '艾云尼': 2095, '马力': 2486, '路上': 2239, '45': 53, '壮观': 841, '三亚': 196, '学院': 980, '同框': 729, '全家福': 460, '415': 49, '405': 48, '连云港': 2319, '全市': 461, '人民': 342, '发来': 674, '感谢信': 1255, '七旬': 185, '大爷': 886, '闪婚': 2402, '前夫': 580, '咋舌': 763, '好惨': 945, '平远': 1114, '蟒蛇': 2132, '开膛': 1156, '破肚': 1921, '刀手': 544, '填报': 839, '志愿': 1201, '不求人': 234, '强降雨': 1171, '赶往': 2225, '伴有': 381, '局地': 1068, '降水': 2423, '毫米': 1613, '十百': 619, '干部': 1108, '村里': 1545, '只干': 695, '玻璃杯': 1803, '陶瓷杯': 2432, '塑料杯': 836, '安全': 986, '52': 64, '见到': 2164, '疯传': 1858, '小美女': 1056, '幻想': 1122, '美国': 2044, '总统': 1225, '奇迹': 920, '惊险': 1243, '民警': 1614, '两张': 267, '罚单': 2041, '条命': 1548, '幕后': 1107, '元凶': 443, '竟藏': 1971, '许多': 2189, '人家': 338, '69': 90, '年前': 1116, '每个': 1600, '铭记': 2388, '防癌': 2408, '特产': 1772, '重点': 2372, '曾多次': 1496, '惊动': 1238, '第一场': 1976, '抢眼': 1314, '观众席': 2166, '逃婚': 2334, '妹妹': 956, '交代': 324, '竟替': 1968, '如今': 948, '解脱': 2177, '却判': 654, '路段': 2242, '水浸': 1623, '严重': 269, '是否': 1470, '符合条件': 1973, '梅县': 1574, '公安部': 476, '真事': 1900, '看到': 1897, '玛莎拉蒂': 1793, '女方': 935, '车牌号': 2255, '尴尬': 1064, '纪委': 2008, '监察': 1879, '淮河': 1691, '罗山': 2040, '滥采': 1717, '河砂': 1646, '责任': 2208, '追究': 2324, '通报': 2343, '校长': 1568, '激情': 1724, '开唱': 1143, '俊男靓女': 403, '华南': 635, '80': 102, '引起': 1160, '94': 105, '捐出': 1346, '1857': 15, '暴赞': 1489, '这才': 2298, '真正': 1904, '国民': 810, '女神': 938, '官区': 992, '学区': 976, '划分': 554, '气得': 1617, '离家出走': 1943, '找人': 1304, '生命垂危': 1825, '夫妻': 910, '有时': 1524, '缺席': 2035, '理发师': 1812, '一眼': 175, '发出': 669, '尖叫': 1060, '头顶': 918, '变得': 688, '触目惊心': 2179, '讣告': 2182, '昭通': 1469, '凤池': 525, '分校': 550, '招生简章': 1332, '600': 77, '选拨': 2338, '报名': 1315, '憋不住': 1258, '大巴车': 876, '解手': 2176, '居然': 1070, '郑人豪': 2359, '一核': 164, '一带': 143, '一区': 127, '协调': 639, '新格局': 1431, '指明方向': 1342, '烧菜': 1739, '区别': 605, '太扎心': 904, '病菌': 1864, '号线': 710, '临时': 292, '18': 14, '展示': 1074, '各国': 718, '审美观': 1008, '令人深思': 364, '麦收': 2512, '阵风': 2413, '抓住': 1308, '有利': 1520, '时机': 1459, '抢收': 1312, '电视': 1840, '得到': 1190, '对方': 1035, '肿瘤': 2071, '逃犯': 2335, '克星': 448, '张学友': 1164, '玩心': 1794, '徐闻': 1189, '海口': 1678, '听说': 748, '几十人': 521, '不让': 243, '中山': 282, '中小学校': 280, '十年': 618, '终成': 2016, '情侣': 1235, '她家': 941, '麻烦': 2513, '报考': 1316, '注意事项': 1658, '女白领': 937, '帮小': 1102, '洗衣服': 1664, '安宁': 988, '摩托车': 1380, '交通事故': 328, '当场': 1175, '罕见': 2039, '共舞': 486, '其中': 492, '赌球': 2219, '输光': 2265, '万欲': 191, '轻生': 2264, '逗笑': 2341, '外出': 848, '即将来临': 653, '黄色': 2515, '信号': 407, '自动': 2084, '佳木斯市': 400, '人民政府': 343, '办公室': 588, '上班': 213, '通知': 2345, '咬伤': 766, '泰迪狗': 1661, '天后': 898, '无情': 1443, '有情': 1523, '第二日': 1984, '感动': 1251, '佛山人': 392, '各省': 720, '实时': 1002, '更新': 1494, '大出血': 866, '抱进': 1319, '电话': 1841, '千名': 626, '支书': 1384, '表彰': 2140, '对象': 1036, '公示': 479, '张家口': 1165, '26': 32, '上榜': 209, '醉驾': 2366, '开车': 1157, '青海省': 2457, '定于': 994, '中午': 274, '老房子': 2053, '房东': 1275, '进门': 2315, '一大跳': 138, '房子': 1277, '身亡': 2246, '见证': 2165, '历史': 656, '时刻': 1458, '市委书记': 1097, '王小平': 1790, '郑焦': 2360, '城际': 832, '铁路': 2385, '焦作': 1741, '南站': 647, '启用': 750, '投入使用': 1310, '中到大雨': 273, '局部': 1069, '济南': 1671, '两天': 265, '降雨': 2426, '降温': 2424, '到货': 572, '前别': 578, '忘带': 1203, '火车站': 1727, '坐火车': 822, '赶快': 2226, '跪求': 2238, '各位': 717, '一位': 124, '小学老师': 1049, '辞职信': 2267, '读后': 2198, '满是': 1716, '心酸': 1196, '嫁妆': 968, '惊叹': 1239, '绝对': 2028, '大户人家': 879, '身边': 2250, '毒物': 1607, '防不胜防': 2407, '触电': 2178, '开展': 1148, '大排查': 880, '开通': 1158, '社区': 1929, '大巴': 875, '直达': 1887, '地铁站': 820, '线路': 2012, '现场': 1799, '乘车': 305, '体验': 387, '岳阳楼区': 1080, '42': 50, '一年级': 149, '范围': 2104, '家中': 1016, '高中生': 2493, '玩游戏': 1796, '手指': 1284, '游戏': 1705, '竟会': 1965, '改变': 1391, '人脑': 345, '结构': 2026, '娃娃': 963, '清空': 1697, '女生': 936, '办法': 590, '高校': 2499, '预估': 2464, '各校': 719, '战绩': 1273, '玻璃': 1802, '栈道': 1566, '建成': 1138, '全长': 469, '200': 19, '你好': 398, '漂亮': 1719, '二代': 319, '要花': 2161, '95': 106, '女主播': 926, '新海': 1432, '媳妇': 967, '烟盒': 1738, '条件': 1547, '途中': 2340, '气愤': 1618, '班级': 1810, '群里': 2048, '破口大骂': 1920, '殴打': 1596, '购物': 2213, '小票': 1055, '丑事': 247, '细思极': 2014, '痛心': 1868, '21': 23, '女护士': 934, '遇害': 2353, '嫌疑人': 970, '其前': 494, '刑拘': 553, '征收': 1185, '土地': 813, '公告': 473, '自杀': 2088, '唏嘘': 777, '不知': 237, '成都市委': 1265, '全会': 456, '上旬': 208, '召开': 700, '两颗': 268, '腹泻': 2082, '拉肚子': 1322, '血淋淋': 2133, '教训': 1412, '珠三角': 1806, '琼州海峡': 1818, '今日': 354, '15': 11, '全线': 467, '停航': 429, '西安': 2154, '高新': 2498, '榆林': 1580, '完全': 990, '签订': 1991, '办学': 589, '中山市': 283, '石岐': 1918, '小学校长': 1047, '刘道康': 559, '接受': 1358, '纪律': 2009, '审查': 1007, '乐天': 302, '玛特': 1792, '重新': 2371, '开业': 1140, '卡能': 649, '商家': 781, '表态': 2141, '没买': 1637, '涉水': 1688, '简单': 1992, '三步': 201, '保险公司': 406, '照样': 1748, '赔钱': 2220, '转给': 2261, '进价': 2310, '标价': 1564, '四次': 792, '亲子鉴定': 333, '要领': 2163, '两份': 260, '资料': 2216, '傻傻': 437, '陆鸣用': 2420, '纯正': 2010, '汉腔': 1627, '唱出': 779, '有名': 1521, '汉口': 1626, '老街': 2056, '公交': 470, '接驳': 1365, '专线': 249, '经过': 2023, '最高级别': 1517, '响应': 772, '积水': 1950, '取景': 682, '玉林': 1788, '众多': 372, '群众演员': 2047, '首部': 2483, '院线': 2430, '电影': 1836, '开机': 1154, '扎心': 1291, '老爸': 2055, '拘留所': 1329, '拟调': 1336, '一锤': 183, '接着': 1362, '融入': 2130, '长江': 2396, '经济带': 2020, '成都': 1264, '担当': 1320, '作为': 393, '适宜': 2331, '无锡': 1447, '蝉联': 2129, '内地': 498, '宜居城市': 999, '蚊子': 2125, '哪来': 775, '这条': 2300, '一半': 128, '动车': 597, '偷拍照': 434, '转发': 2259, '真实': 1902, '身份': 2247, '559': 70, '511': 60, '河北': 1643, '最新消息': 1509, '要招': 2158, '72': 99, '岗位': 1078, '党员干部': 450, '下个': 218, '一颗颗': 184, '黑色': 2519, '眼睛': 1908, '化妆': 602, '白领': 1875, '突接': 1956, '三甲': 202, '变局': 687, '主城区': 298, '十几家': 614, '搬迁': 1375, '扩建': 1302, '哪个': 774, '家门口': 1025, '操劳': 1382, '病倒': 1862, '怜香惜玉': 1217, '后悔莫及': 738, '头破血流': 917, '吃喝玩乐': 712, 'pick': 113, '规定': 2171, '浓妆艳抹': 1672, '素颜去': 2003, '网传': 2036, '潮安': 1722, '牛肉店': 1769, '出售': 532, '添加': 1694, '防腐剂': 2409, '甲醛': 1834, '牛肉': 1768, '区食': 607, '药监局': 2109, '毫不': 1612, '知情': 1915, '离奇': 1941, '一天': 139, '被捕': 2146, '朋友': 1528, '越快越好': 2237, '身患': 2249, '不死': 233, '癌症': 1871, '坐轮椅': 824, '考上': 2058, '清华': 1695, '奋斗': 922, '力量': 587, '银行卡': 2390, '蒸发': 2120, '手机号': 1287, '疏忽': 1855, '先生': 446, '辞任': 2266, '汕大': 1628, '名誉主席': 733, '李泽楷': 1544, '接棒': 1360, '诚哥': 2194, '毕业生': 1610, '寄语': 1029, '交往': 325, '潜规则': 1721, '赞同': 2221, '十几天': 613, '找回': 1306, '小偷': 1041, '爱自': 1760, '蜂蜜': 2128, '认真': 2184, '多年': 858, '湿疹': 1709, '一支': 158, '口服药': 691, '一抹': 156, '能治': 2080, '换季': 1348, '手起': 1289, '疱疹': 1860, '爆皮': 1755, '苹果': 2102, '病人': 1861, '电梯': 1838, '停止': 427, '动作': 594, '告诉': 758, '儿童节': 442, '楼房': 1579, '面向全国': 2459, '招聘': 1333, '249': 30, '所市': 1280, '直属': 1884, '车祸': 2256, '大快人心': 877, '打掉': 1297, '一涉': 169, '犯罪团伙': 1776, '横行乡里': 1582, '十多年': 616, '村霸': 1546, '向普京': 742, '颁授': 2463, '首枚': 2481, '友谊': 668, '勋章': 600, '货车': 2211, '充当': 444, '保护伞': 405, '122': 9, '公职人员': 481, '查处': 1562, '出手': 535, '阴阳': 2412, '合同': 723, '这片': 2303, '荷塘': 2110, '金子': 2379, '年入': 1115, '更让人': 1495, '长出': 2394, '眼科医生': 1909, '最好': 1502, '少化': 1058, '中国社科院': 277, '跻身': 2245, '宜居': 998, '竞争力': 1964, '前五强': 577, '借车': 417, '告上': 756, '天内': 897, '22000': 25, '萝卜': 2114, '被华师': 2144, '广财': 1130, '合伙': 721, '吃掉': 714, '很暖心': 1188, '风雨': 2471, '除了': 2431, '暖心': 1486, '周先旺': 759, '武汉': 1591, '履新': 1075, '只为': 694, '东湖': 255, '一帮': 145, '拉高': 1323, '一大截': 137, '涪江': 1690, '洪峰': 1665, '或超': 1271, '警戒水位': 2180, '低洼地': 384, '群众': 2046, '转移': 2260, '北川': 604, '平武': 1113, '江油': 1630, '安州': 989, '三台': 198, '塌方': 835, '泥石流': 1656, '高考作文': 2504, '励志': 598, '平均': 1109, '630': 81, '半数': 631, '贫困生': 2212, '学习': 974, '口诀': 692, '世界': 250, '划定': 555, '绵中': 2031, '662': 84, '南山': 645, '649': 83, '实高': 1005, '612': 79, '查询': 1563, '方式': 1436, '共享': 484, '空降': 1954, '用车': 1833, '参考答案': 665, '全科': 466, '完整版': 991, '贵池': 2215, '境内': 840, '岸边': 1081, '溺水': 1711, '事故': 316, '厉害': 657, '大二': 863, '创业': 564, '年成': 1117, '千万富翁': 623, '捐款': 1347, '快上车': 1204, '豪哥': 2205, '军哥': 507, '河水': 1644, '猛涨': 1783, '执意': 1301, '过河': 2275, '造成': 2350, '悲剧': 1234, '福州人': 1938, '全球': 464, '大规模': 891, '室内': 1013, '海洋馆': 1681, '1000': 3, '多种': 860, '动物': 596, '百米': 1877, '海底隧道': 1679, '2260': 27, '别人': 568, '考了': 2059, '709': 97, '688': 89, '理综第': 1817, '出错': 542, '该题': 2195, '单选': 642, '宿舍': 1028, '有望': 1525, '儿童医院': 441, '迁入': 2270, '信河': 410, '院区': 2428, '看病': 1898, '新去处': 1427, '泪奔': 1659, '临川': 291, '改编': 1393, '千人': 624, '校园': 1567, '合唱': 724, '神雕侠侣': 1935, '女一号': 925, '杨过': 1552, '回乡': 794, '认祖归宗': 2185, '武都': 1592, '水库': 1622, '泄洪': 1650, '下河': 224, '地地灾': 816, '风险': 2470, '再发': 502, '喜讯': 786, '揭阳': 1373, '天团': 899, '分享': 545, '常益长': 1104, '站点': 1963, '今起': 358, '697': 92, '四个': 790, '岳阳': 1079, '出分': 528, '692': 91, '学霸班': 983, '两位': 261, '冲击': 512, '北大': 603, '奶奶': 940, '胎盘': 2077, '变声': 686, '长胡子': 2401, '再也': 501, '长不高': 2393, '上调': 216, '缴存': 2033, '额度': 2469, '开庭': 1150, '针锋相对': 2383, '小区业主': 1043, '业委会': 254, '急死人': 1220, '第一天': 1977, '真有': 1903, '过头': 2273, '忘不了': 1202, '装修': 2150, '停工': 425, '公司': 472, '疑似': 1856, '世界冠军': 251, '西湖': 2155, '无关': 1442, '这块': 2295, '外地': 850, '池塘': 1633, '一盘': 172, '大棋': 883, '大事': 862, '跳水': 2244, '冠军': 508, '郭晶晶': 2363, '吴敏霞': 753, '黑河': 2518, '花车': 2100, '巡游': 1085, '燃爆': 1752, '通江': 2344, '优秀': 373, '刘奥然': 557, '王楚': 1791, '626': 80, '亮相': 329, '公开': 478, '四环': 793, '时代': 1455, '机遇': 1538, '第二': 1982, '大桥': 882, '顺利': 2462, '合龙': 725, '乌兰察布': 301, '荣获': 2108, '养生': 495, '休闲': 371, '称号': 1951}\n"
     ]
    }
   ],
   "source": [
    "# 查看所有新闻标题的词袋\n",
    "words_bag = vect.vocabulary_\n",
    "print(words_bag)"
   ]
  },
  {
   "cell_type": "code",
   "execution_count": 8,
   "metadata": {},
   "outputs": [
    {
     "data": {
      "text/plain": [
       "2524"
      ]
     },
     "execution_count": 8,
     "metadata": {},
     "output_type": "execute_result"
    }
   ],
   "source": [
    "# 查看词袋中词的数目\n",
    "len(words_bag)"
   ]
  },
  {
   "cell_type": "code",
   "execution_count": 9,
   "metadata": {},
   "outputs": [
    {
     "name": "stdout",
     "output_type": "stream",
     "text": [
      "致敬 最美 逆 行者 ！ 达州 感谢 你们 ！\n",
      "通川区 塔沱 市场 火灾 扑救 最新 情况通报\n"
     ]
    }
   ],
   "source": [
    "# 查看前两条分词完的新闻\n",
    "print(words[0])\n",
    "print(words[1])"
   ]
  },
  {
   "cell_type": "code",
   "execution_count": 10,
   "metadata": {},
   "outputs": [
    {
     "name": "stdout",
     "output_type": "stream",
     "text": [
      "[[1 0 0 0 1 0 0 1 0 1 1 1 0]\n",
      " [0 1 1 1 0 1 1 0 1 0 0 0 1]]\n"
     ]
    }
   ],
   "source": [
    "# 文本向量化\n",
    "vect = CountVectorizer()  # 引入CountVectorizer()函数\n",
    "X_test = vect.fit_transform(words[0:2])  # 将前两条新闻文本向量化\n",
    "X_test = X_test.toarray()  # 将X_test转为数组\n",
    "print(X_test)  # 查看生成的二维数组"
   ]
  },
  {
   "cell_type": "code",
   "execution_count": 11,
   "metadata": {},
   "outputs": [
    {
     "name": "stdout",
     "output_type": "stream",
     "text": [
      "{'致敬': 9, '最美': 7, '行者': 10, '达州': 11, '感谢': 4, '你们': 0, '通川区': 12, '塔沱': 1, '市场': 2, '火灾': 8, '扑救': 5, '最新': 6, '情况通报': 3}\n"
     ]
    }
   ],
   "source": [
    "# 查看词袋的第一种方式\n",
    "words_bag = vect.vocabulary_  # 第一种查看词袋的方式\n",
    "print(words_bag)  # 查看词袋"
   ]
  },
  {
   "cell_type": "code",
   "execution_count": 12,
   "metadata": {},
   "outputs": [
    {
     "name": "stdout",
     "output_type": "stream",
     "text": [
      "['你们', '塔沱', '市场', '情况通报', '感谢', '扑救', '最新', '最美', '火灾', '致敬', '行者', '达州', '通川区']\n"
     ]
    }
   ],
   "source": [
    "# 查看词袋的第二种方式\n",
    "words_bag2 = vect.get_feature_names()  # 第二种查看词袋的方法\n",
    "print(words_bag2)  # 第二种查看词袋的方式"
   ]
  },
  {
   "cell_type": "code",
   "execution_count": 13,
   "metadata": {},
   "outputs": [
    {
     "data": {
      "text/html": [
       "<div>\n",
       "<style scoped>\n",
       "    .dataframe tbody tr th:only-of-type {\n",
       "        vertical-align: middle;\n",
       "    }\n",
       "\n",
       "    .dataframe tbody tr th {\n",
       "        vertical-align: top;\n",
       "    }\n",
       "\n",
       "    .dataframe thead th {\n",
       "        text-align: right;\n",
       "    }\n",
       "</style>\n",
       "<table border=\"1\" class=\"dataframe\">\n",
       "  <thead>\n",
       "    <tr style=\"text-align: right;\">\n",
       "      <th></th>\n",
       "      <th>你们</th>\n",
       "      <th>塔沱</th>\n",
       "      <th>市场</th>\n",
       "      <th>情况通报</th>\n",
       "      <th>感谢</th>\n",
       "      <th>扑救</th>\n",
       "      <th>最新</th>\n",
       "      <th>最美</th>\n",
       "      <th>火灾</th>\n",
       "      <th>致敬</th>\n",
       "      <th>行者</th>\n",
       "      <th>达州</th>\n",
       "      <th>通川区</th>\n",
       "    </tr>\n",
       "  </thead>\n",
       "  <tbody>\n",
       "    <tr>\n",
       "      <th>0</th>\n",
       "      <td>1</td>\n",
       "      <td>0</td>\n",
       "      <td>0</td>\n",
       "      <td>0</td>\n",
       "      <td>1</td>\n",
       "      <td>0</td>\n",
       "      <td>0</td>\n",
       "      <td>1</td>\n",
       "      <td>0</td>\n",
       "      <td>1</td>\n",
       "      <td>1</td>\n",
       "      <td>1</td>\n",
       "      <td>0</td>\n",
       "    </tr>\n",
       "    <tr>\n",
       "      <th>1</th>\n",
       "      <td>0</td>\n",
       "      <td>1</td>\n",
       "      <td>1</td>\n",
       "      <td>1</td>\n",
       "      <td>0</td>\n",
       "      <td>1</td>\n",
       "      <td>1</td>\n",
       "      <td>0</td>\n",
       "      <td>1</td>\n",
       "      <td>0</td>\n",
       "      <td>0</td>\n",
       "      <td>0</td>\n",
       "      <td>1</td>\n",
       "    </tr>\n",
       "  </tbody>\n",
       "</table>\n",
       "</div>"
      ],
      "text/plain": [
       "   你们  塔沱  市场  情况通报  感谢  扑救  最新  最美  火灾  致敬  行者  达州  通川区\n",
       "0   1   0   0     0   1   0   0   1   0   1   1   1    0\n",
       "1   0   1   1     1   0   1   1   0   1   0   0   0    1"
      ]
     },
     "execution_count": 13,
     "metadata": {},
     "output_type": "execute_result"
    }
   ],
   "source": [
    "df = pd.DataFrame(X_test, columns=words_bag2)\n",
    "df"
   ]
  },
  {
   "cell_type": "code",
   "execution_count": null,
   "metadata": {},
   "outputs": [],
   "source": []
  },
  {
   "cell_type": "code",
   "execution_count": 14,
   "metadata": {},
   "outputs": [
    {
     "data": {
      "text/html": [
       "<div>\n",
       "<style scoped>\n",
       "    .dataframe tbody tr th:only-of-type {\n",
       "        vertical-align: middle;\n",
       "    }\n",
       "\n",
       "    .dataframe tbody tr th {\n",
       "        vertical-align: top;\n",
       "    }\n",
       "\n",
       "    .dataframe thead th {\n",
       "        text-align: right;\n",
       "    }\n",
       "</style>\n",
       "<table border=\"1\" class=\"dataframe\">\n",
       "  <thead>\n",
       "    <tr style=\"text-align: right;\">\n",
       "      <th></th>\n",
       "      <th>09</th>\n",
       "      <th>10</th>\n",
       "      <th>100</th>\n",
       "      <th>1000</th>\n",
       "      <th>11</th>\n",
       "      <th>1100</th>\n",
       "      <th>115</th>\n",
       "      <th>116</th>\n",
       "      <th>12</th>\n",
       "      <th>122</th>\n",
       "      <th>...</th>\n",
       "      <th>黄山市</th>\n",
       "      <th>黄色</th>\n",
       "      <th>黑匣</th>\n",
       "      <th>黑斑</th>\n",
       "      <th>黑河</th>\n",
       "      <th>黑色</th>\n",
       "      <th>默默</th>\n",
       "      <th>鼻子</th>\n",
       "      <th>龙头</th>\n",
       "      <th>龙舟</th>\n",
       "    </tr>\n",
       "  </thead>\n",
       "  <tbody>\n",
       "    <tr>\n",
       "      <th>0</th>\n",
       "      <td>0</td>\n",
       "      <td>0</td>\n",
       "      <td>0</td>\n",
       "      <td>0</td>\n",
       "      <td>0</td>\n",
       "      <td>0</td>\n",
       "      <td>0</td>\n",
       "      <td>0</td>\n",
       "      <td>0</td>\n",
       "      <td>0</td>\n",
       "      <td>...</td>\n",
       "      <td>0</td>\n",
       "      <td>0</td>\n",
       "      <td>0</td>\n",
       "      <td>0</td>\n",
       "      <td>0</td>\n",
       "      <td>0</td>\n",
       "      <td>0</td>\n",
       "      <td>0</td>\n",
       "      <td>0</td>\n",
       "      <td>0</td>\n",
       "    </tr>\n",
       "    <tr>\n",
       "      <th>1</th>\n",
       "      <td>0</td>\n",
       "      <td>0</td>\n",
       "      <td>0</td>\n",
       "      <td>0</td>\n",
       "      <td>0</td>\n",
       "      <td>0</td>\n",
       "      <td>0</td>\n",
       "      <td>0</td>\n",
       "      <td>0</td>\n",
       "      <td>0</td>\n",
       "      <td>...</td>\n",
       "      <td>0</td>\n",
       "      <td>0</td>\n",
       "      <td>0</td>\n",
       "      <td>0</td>\n",
       "      <td>0</td>\n",
       "      <td>0</td>\n",
       "      <td>0</td>\n",
       "      <td>0</td>\n",
       "      <td>0</td>\n",
       "      <td>0</td>\n",
       "    </tr>\n",
       "    <tr>\n",
       "      <th>2</th>\n",
       "      <td>0</td>\n",
       "      <td>0</td>\n",
       "      <td>0</td>\n",
       "      <td>0</td>\n",
       "      <td>0</td>\n",
       "      <td>0</td>\n",
       "      <td>0</td>\n",
       "      <td>0</td>\n",
       "      <td>0</td>\n",
       "      <td>0</td>\n",
       "      <td>...</td>\n",
       "      <td>0</td>\n",
       "      <td>0</td>\n",
       "      <td>0</td>\n",
       "      <td>0</td>\n",
       "      <td>0</td>\n",
       "      <td>0</td>\n",
       "      <td>0</td>\n",
       "      <td>0</td>\n",
       "      <td>0</td>\n",
       "      <td>0</td>\n",
       "    </tr>\n",
       "    <tr>\n",
       "      <th>3</th>\n",
       "      <td>0</td>\n",
       "      <td>0</td>\n",
       "      <td>0</td>\n",
       "      <td>0</td>\n",
       "      <td>0</td>\n",
       "      <td>0</td>\n",
       "      <td>0</td>\n",
       "      <td>0</td>\n",
       "      <td>0</td>\n",
       "      <td>0</td>\n",
       "      <td>...</td>\n",
       "      <td>0</td>\n",
       "      <td>0</td>\n",
       "      <td>0</td>\n",
       "      <td>0</td>\n",
       "      <td>0</td>\n",
       "      <td>0</td>\n",
       "      <td>0</td>\n",
       "      <td>0</td>\n",
       "      <td>0</td>\n",
       "      <td>0</td>\n",
       "    </tr>\n",
       "    <tr>\n",
       "      <th>4</th>\n",
       "      <td>0</td>\n",
       "      <td>0</td>\n",
       "      <td>0</td>\n",
       "      <td>0</td>\n",
       "      <td>0</td>\n",
       "      <td>0</td>\n",
       "      <td>0</td>\n",
       "      <td>0</td>\n",
       "      <td>0</td>\n",
       "      <td>0</td>\n",
       "      <td>...</td>\n",
       "      <td>0</td>\n",
       "      <td>0</td>\n",
       "      <td>0</td>\n",
       "      <td>0</td>\n",
       "      <td>0</td>\n",
       "      <td>0</td>\n",
       "      <td>0</td>\n",
       "      <td>0</td>\n",
       "      <td>0</td>\n",
       "      <td>0</td>\n",
       "    </tr>\n",
       "  </tbody>\n",
       "</table>\n",
       "<p>5 rows × 2524 columns</p>\n",
       "</div>"
      ],
      "text/plain": [
       "   09  10  100  1000  11  1100  115  116  12  122  ...  黄山市  黄色  黑匣  黑斑  黑河  \\\n",
       "0   0   0    0     0   0     0    0    0   0    0  ...    0   0   0   0   0   \n",
       "1   0   0    0     0   0     0    0    0   0    0  ...    0   0   0   0   0   \n",
       "2   0   0    0     0   0     0    0    0   0    0  ...    0   0   0   0   0   \n",
       "3   0   0    0     0   0     0    0    0   0    0  ...    0   0   0   0   0   \n",
       "4   0   0    0     0   0     0    0    0   0    0  ...    0   0   0   0   0   \n",
       "\n",
       "   黑色  默默  鼻子  龙头  龙舟  \n",
       "0   0   0   0   0   0  \n",
       "1   0   0   0   0   0  \n",
       "2   0   0   0   0   0  \n",
       "3   0   0   0   0   0  \n",
       "4   0   0   0   0   0  \n",
       "\n",
       "[5 rows x 2524 columns]"
      ]
     },
     "execution_count": 14,
     "metadata": {},
     "output_type": "execute_result"
    }
   ],
   "source": [
    "# 将之前所有的新闻标题进行文本向量化并通过pandas展示\n",
    "from sklearn.feature_extraction.text import CountVectorizer\n",
    "import pandas as pd\n",
    "\n",
    "# 文本向量化\n",
    "vect = CountVectorizer()\n",
    "X = vect.fit_transform(words)  # 将分词后的内容文本向量化\n",
    "X = X.toarray()\n",
    "\n",
    "# 查看文本向量化的结果\n",
    "words_bag2 = vect.get_feature_names()  # 第二种查看词袋的方法\n",
    "df = pd.DataFrame(X, columns=words_bag2)\n",
    "df.head()"
   ]
  },
  {
   "cell_type": "code",
   "execution_count": null,
   "metadata": {},
   "outputs": [],
   "source": []
  },
  {
   "cell_type": "code",
   "execution_count": 17,
   "metadata": {},
   "outputs": [],
   "source": [
    "from sklearn.cluster import KMeans\n",
    "kms = KMeans(n_clusters=10, random_state=123)\n",
    "k_data = kms.fit_predict(df)"
   ]
  },
  {
   "cell_type": "code",
   "execution_count": 18,
   "metadata": {},
   "outputs": [
    {
     "name": "stdout",
     "output_type": "stream",
     "text": [
      "[4 4 4 3 1 4 4 4 4 3 4 3 1 4 4 4 9 3 3 4 4 4 4 9 4 4 4 4 4 9 1 1 4 4 4 4 4\n",
      " 4 4 4 4 4 7 4 9 4 4 4 7 4 4 2 9 9 4 1 1 9 4 4 3 4 4 4 4 2 9 4 4 4 9 4 9 3\n",
      " 3 4 2 4 5 4 9 4 4 4 1 4 1 4 2 4 9 4 4 4 4 9 3 4 4 4 4 4 1 4 4 4 3 4 4 7 4\n",
      " 4 4 4 4 2 4 9 4 4 4 4 3 4 1 9 1 4 4 9 4 4 4 4 4 3 4 3 4 4 9 2 4 4 2 4 9 4\n",
      " 4 3 4 4 9 4 4 8 2 9 3 4 4 4 1 4 4 4 4 4 9 4 4 6 4 4 4 4 4 4 4 4 4 4 4 0 4\n",
      " 4 8 2 4 1 1 4 4 4 4 4 4 4 9 4 1 9 4 4 4 2 4 9 4 4 2 4 4 4 4 1 4 1 4 1 4 4\n",
      " 2 4 1 4 4 4 4 4 4 4 9 4 9 4 4 4 1 4 4 2 4 4 4 4 4 4 9 4 4 4 4 4 4 4 2 1 4\n",
      " 4 4 4 1 4 4 4 4 4 4 4 4 2 4 4 2 4 4 4 5 1 9 2 1 4 4 4 4 4 4 4 4 7 4 3 1 2\n",
      " 4 4 4 2 4 4 9 4 1 4 4 4 1 4 4 6 3 4 4 9 4 4 4 4 4 4 1 4 4 4 4 4 4 4 2 4 4\n",
      " 4 4 4 4 4 4 4 4 4 4 4 2 3 4 1 4 4 4 4 1 4 9 2 2 4 1 4 2 4 4 4 1 9 4 4 4 9\n",
      " 4 2 4 4 1 4 4 4 4 4 4 4 4 4 4 4 4 9 4 4 4 4 2 4 4 4 4 4 4 4 4 4 4 4 4 4 4\n",
      " 4 4 4 4 1 4 4 4 4 4 4 4 2 9 4 4 4 4 4 2 2 4 4 4 4 4 9 4 4 4 4 4 4 4 4 4 4\n",
      " 4 4 4 4 4 4 4 4 4 4 4 4 2 4 6 4 4 4 4 4 3 9 4 9 4 4 1 1 4 4 9 4 4 4 4 4 1\n",
      " 9 4 4 9 4 4 4 4 1 6 4 4 4 4 4 4 4 4 4]\n"
     ]
    }
   ],
   "source": [
    "print(k_data)"
   ]
  },
  {
   "cell_type": "code",
   "execution_count": 22,
   "metadata": {
    "collapsed": true,
    "jupyter": {
     "outputs_hidden": true
    }
   },
   "outputs": [
    {
     "name": "stdout",
     "output_type": "stream",
     "text": [
      "['致敬 最美 逆 行者 ！ 达州 感谢 你们 ！' '通川区 塔沱 市场 火灾 扑救 最新 情况通报'\n",
      " '汕头大学 毕业 礼太炫酷 ， 李嘉诚 第 17 次 亲临 致辞 ！ 他 宣布 了 一个 决定'\n",
      " '国家 刚刚 公布 422 个 先进县 （ 市 、 区 ） 名单 ！ 咱省 有 10 个 地方 入选 ， 有 你 家乡 吗 ？'\n",
      " '浙江 这种 馒头 出事 了 ! 几十名 摊主 被 抓 ! 杭州人 请 注意 甄别 …'\n",
      " '女子 在 银行 存 1100 万 ， 取钱 时 柜员 递 出 一张 纸 ， 写 着 公安局 地址'\n",
      " '在 狂风暴雨 中 高考 ， 这些 镜头 温暖 了 每 一个 广州 人'\n",
      " '儿子 摔了一跤 ， 医生 一针 打 下去 却 引发 了 一场 大 抢救 ！ 这位 爸爸 的 自述 值得 所有 家长 看看 ！'\n",
      " '定 了 ！ 江湛 高铁 今天下午 6 时 开售 ， 湛江 到 广州 最低 206 元' '西宁 花街 大 PK ， 评评 哪 最美 ？'\n",
      " '雷暴雨 + 8 级 大风 ！ 凶猛 的 龙舟 水 明天 强袭 ！ 12 日 下班 、 13 日 上下班 要 特别 注意 ！'\n",
      " '6 月 7 日 ， 青海 的 雪 下 得 如此 惊人 ... 深达 半米'\n",
      " '重磅 ！ 新华社 播发 长篇 通讯 《 习近平 同志 推动 厦门经济特区 建设 发展 的 探索 与 实践 》'\n",
      " '紧急 扩散 ！ 今明两天 ， 尽量 不要 去 五四 广场 了 ！' '吓人 ！ 公园 散步 回来 ， 十几个 月 大 的 孩子 几乎 毁容 ！'\n",
      " '小学生 在家 玩抖音 ， 妈妈 洗澡 被 直播 ！ 还有 更 恶劣 的 … …' '叫 你 生二孩 ！ 叫 你 生二孩 ！ 笑 晕 了 …'\n",
      " '慎入 ！ 女子 乳房 里 取出 3 条活 虫 ， 医生 都 吓一跳 ！ 她 爱喝 的 这个 东西 你家 也 有 … …'\n",
      " '粤西 第一条 高铁 马上 进站 ！ 最新 最全 消息 都 在 这里 ！'\n",
      " '湛江 高铁 票 上线 了 ！ 据说 还 能 在 车上 点 肯德基 … …'\n",
      " '高铁 票价 多少 ？ 班次 多少 ？ 这份 调查 问卷 ， 湛江 人必 做'\n",
      " '96 岁 赌王 何鸿燊 正式 退休 ， 没想到 这个 女儿 成 了 接班人'\n",
      " '6 日 - 12 日 ， 青岛 公交车 有 重大 调整 ！ （ 停运 + 改线 \\xa0 + 延时 ）'\n",
      " '25 岁 女 大学生 样貌 像 40 岁 , 无法 生育 ！ 她 的 症状 很多 人 都 有 ！'\n",
      " '广州 高考 7 人 进入 全省 前 20 ， 广东 真学霸 曝光 ！ 最全 高分 秘笈 来 了 ！'\n",
      " '今年 第 4 号 台风 明天 登陆 ！ 高考 如期举行 ！'\n",
      " '女子 怀孕 4 次 都 流产 ， 检查 后 发现 ， 竟 跟 老公 的 习惯 有关'\n",
      " '男生 晚上 运动 一 小时 ， 一早 起来 上 厕所 后 吓了一跳 ！ 两周 内 3 例 ， 都 是 为了 … …'\n",
      " '急 ！ 剑阁 、 青川 、 利州 多地 发大水 ！ 汪洋 ， 滑坡 ， 断道 ， 还有 蛇 出来 ！'\n",
      " '乖乖女 竟 感染 难以启齿 的 病 … 很多 女人爱 做 这些 事 ， 你 也 可能 中招'\n",
      " '拨开 孩子 头发 ， 家长 魂 都 吓 飞 了 ！ 有人 因此 死亡 ， 此病 还 可人 传人'\n",
      " '定 了 ！ 非 广州 号牌 7 月 1 日起 \" 开四停 四 \" ！ 这个 神器 能 帮 你 算 日期'\n",
      " '高考 试卷 答案 都 在 这里 了 ， 算算 你 能 考 多少 分'\n",
      " '115 斤 美女 相亲 被 拒 ， 怒减 30 多斤 ！ 结果 4 个 月 后 出门 都 得 带 着 尿不湿 … …'\n",
      " '@ 所有 广东 人 ， 港澳 通行证 取消 ？ 官方消息 来 了 ！ 这个 东西 你 必须 知道 ！'\n",
      " '权威 发布 ！ 7 月 2 日起 ， 焦作市 实施 城区 机动车 限行 措施 （ 内 附限行 区域 ）'\n",
      " '华英 、 南实 、 石门 . … 佛山 小升初 首场 面谈 试题 出炉 ！ 看 完 庆幸 “ 幸亏 毕业 了 ”'\n",
      " '紧急 提醒 ！ 朋友圈 这 条 消息 千万别 点 ， 已经 有人 上当'\n",
      " '5 岁 儿子 没人接 ， 老婆 失联 ！ 老公 心急如焚 赶回 家一看 ， 气炸'\n",
      " '确定 了 ！ 7 月 起 ， 广东 人 的 收入 要大涨 ！ 因为 … …'\n",
      " '首位 “ 乘坐 ” 江湛 高铁 的 明星 ， 竟然 是 Ta … …'\n",
      " '6 月 6 日起 ， 青岛 市区 部分 区域 采取 临时性 行政 管理 措施 ！'\n",
      " '女儿 女婿 和 父亲 一起 毒杀 母亲 ！ 这起 杀人案 令 法官 也 忍不住 落泪 … …' '七月 青海 ， 美 得 有点 过分 了'\n",
      " '广州 米其林 指南 出炉 ！ 他们 说 这 8 家 最 好吃 ！ 这 20 家 最平靓 正 ， 你 同意 吗 ？'\n",
      " '独家   |   德州 中 考试题 及 答案 发布 ， 包括 所有 科目 ， 抓紧 收藏'\n",
      " '新郎 婚宴 逃单 ， 媒体 曝光 后 一 女子 认出 他 ： 这 不是 跟 我 结婚 生子 的 丈夫 吗 ？ ！'\n",
      " '市政府 发 紧急通知 ！ 大暴雨 ＋ 雷电 ＋ 10 级 大风 马上 到 ， 平度 莱西 开始 下 了 ！'\n",
      " '刚生 下 女儿 ， 吸毒 男友 人间蒸发 ， 结果 她 死 在 医院 ， 留下 女儿 … …'\n",
      " '妈妈 离开 几分钟 ， 37 天 男婴 突然 口吐白沫 ， 原来 是 3 岁 哥哥 喂 他 吃 了 这个 ！'\n",
      " '116 万全 没 了 ！ 老 阿姨 借 了 高利贷 又 卖掉 唯一 房产 ， 竟是 疯狂 迷 上 … … 女儿 气到 心碎'\n",
      " '夜读 丨 凌晨 一点 ， 外卖 小哥 坐在 路旁 痛哭 ！ 不是 所有人 ， 都 可以 轻松 地 度过 这 一生'\n",
      " '女子 突然 全身 中毒 晕倒   罪魁祸首 竟是 它 ！ 很多 女性 都 喜欢'\n",
      " '快讯 ｜ 金昌 \" 6 · 09 \" 持枪 杀人案 成功 告破'\n",
      " '夜读 丨 急诊 送 进 国外 医院 ， 才 发现 我们 欠 中国 医生 一句 道歉'\n",
      " '老婆 被 抓 ， 丈夫 火急火燎 去 找 ， 竟 发现 一个 秘密 ， 差点 吐血 … …'\n",
      " '杭州 900 平 仓库 突起 大火 ! 隔 着 屏幕 都 感到 空气 滚烫 ! 但 他们 却 在 里面 拼 了 8 个 小时 !'\n",
      " '曾 遭 班主任 猥亵 ， 19 岁 少女 跳楼自杀 ， 围观者 却 在 起哄 、 直播 、 嘲笑 … …'\n",
      " '再见 了 ， 亲 人们 ！ 市民 西外 列队 送别 省内 驰援 达州 的 消防官兵 （ 附 独家 航拍 视频 ）'\n",
      " '绵阳 36 个 老赖 高清 照片 曝光 ！ 姓名 、 住址 、 金额 ！ 法院 最后通牒 … …' '对不起 ， 我 给 湛江 人 拖后腿 了'\n",
      " '【 快讯 】 哈尔滨 新区 管委会 正式 挂牌 ！' '这 就是 厦门 ！'\n",
      " '可怕 ！ 滴滴 司机 喝 了 几杯酒 ， 钱 没 了 车 没 了 ， 尿检 还 呈 阳性 ？ ！ 只 因为 …'\n",
      " '嫉妒 表弟 妻子 能 穿 高跟鞋 ， 抑郁症 的 她 残忍 杀害 其 一双 儿女'\n",
      " '宾馆 里 ， 两 未成年 少女 瘫坐 床上 ， 痴痴 傻笑 … 警方 ： 远离 这种 气体 ！'\n",
      " '恭喜 ！ 潮州 3 名 考生 高考 成绩 进入 全省 前 100 名 ！' '这个 峰会 涉及 河源 3 万多 人 的 成长 ！'\n",
      " '雨水 倒灌 车库 ， 他 攀住 管道 仰面 呼吸 ， 被困 8 小时 后 … … ｜ 暴风雨 里 ， 这些 瞬间 让 人 泪目'\n",
      " '“ 救命 ， 他 不是 我 爸爸 ！ ” 人贩子 当街 抢 小孩子 ？ 案子 破 了 ！ 事情 远比 你 想象 中 复杂'\n",
      " '花 2 万多 请来 特级 月 嫂 ， 照料 后 ， 宝宝 收到 病危 通知单 … …' '西宁 这么 多 地方 将 停水 48 小时'\n",
      " '你 确定 你 的 微信 好友 是 真的 吗 ？ 已经 有人 被 骗 了 ！'\n",
      " '女子 暴肥 得 怪病 ， 医生 丈夫 悉心 医治 ， 然而 家里 几个 瓶子 让 她 彻底 懵 了 …' '案情 快报'\n",
      " '重磅 ！ 长沙 调控 政策 再 升级   坚决 打 胜 “ 反 炒房 ” 攻坚战'\n",
      " '17 岁 男孩 ， 身高 定格 在 1.58 米 ！ 医生 道破 “ 玄机 ” ， 家长 后悔不已 … …'\n",
      " '广东 这所 “ 鲤工 ” 大学 又 火 了 ， 这次 是 免费 请 师生 吃 芒果 莲雾 … …'\n",
      " '我省 13 所 院校 申报 国家级 试点 ！ 为 你 的 母校 加油 点赞 吧 ~'\n",
      " '重磅 ！ 中铁 投资 500 亿元 ， 要 在 中 站 建设 最美 国际 生态 城 （ 内附 详细 规划 ）'\n",
      " '猝不及防 ！ 湛江 又 火 了 ！' '最 担心 的 事情 发生 了 ： 睡觉时 蟑螂 爬进 耳朵 ， 还 生下 后代 ！'\n",
      " '准新娘 患 骨肿瘤 差点 截肢 ， 只 因 平时 忽视 了 一个 信息'\n",
      " '最新 ！ 你 的 养老金 将 有 重大 调整 ！ 7 月 1 日起 实施'\n",
      " '杭州 16 岁 女孩 几个 月 没来 例假 , 脸上 长满 毁容 性 青春痘 ! 只 因中 考前 , 妈妈 给 她 吃 了 这 东西 ...'\n",
      " '紧急通知 : 煮熟 的 粽子 千万 不要 直接 吃 ！ 否则 ...'\n",
      " '夜读 丨 马伊 琍 又 一次 刷新 我 三观 ： 前半生 没有 对错 ， 只有 成长'\n",
      " '上车 ！ 带 你 直击 湛江 首条 高铁 长 什么样 ！' '你 只 知道 张嘉译 回家 乡为 龙头 点睛 ， 你 不 知道 的 是 … …'\n",
      " '蓝色 钱江 保姆 放火 案二审 宣判 结果 出来 了 !'\n",
      " '数学 满分 、 裸分 702 、 寝室 6 人 全上 清华北大 … … 一大 波学霸 正在 赶来 ！'\n",
      " '新 高铁 规划 曝光 ， 串起 大半个 广东 ！ 未来 湛江 高铁 溜 到 飞起'\n",
      " '好险 ！ 今晨 南河 漫水桥 上 一 垂钓者 被 洪水 围困 ， 广元 警方 奋战 救援 … …'\n",
      " '拨开 孩子 头发 , 家长 魂 都 吓 飞 了 ! 有人 因此 死亡 , 此病 还 可人 传人 ! 夏天 格外 当心'\n",
      " '太 可怕 了 ！ 死亡率 100% ， 很多 丹东 人 家里 都 有 ！'\n",
      " '瑞安 张楚衣 718 分 ， 浙江省 最高分 ！ 刘子琪 707 分 ， 温州市 第二名 ！ 学霸们 的 高分 秘籍 在 这里 … …'\n",
      " '最新进展 ! 崔永元 举报 范冰冰 逃税 , 国税 总局 已 发声 ! | 新闻 晚评'\n",
      " '一条 沙虫 的 自我 独白 ： 在 湛江 ， 我 让 你 胖得 理直气壮 ！'\n",
      " '突发 ! 杭州 4 岁 女孩 12 楼 坠亡 ! 当时 , 妈妈 接大 女儿 放学 刚回到 楼下 ...'\n",
      " '青海 人 一年一度 浪山 开始 啦 ！ 开着车 拿 着 锅 ， 背着 洋芋 唱着歌 ！' '吴川市 第三 中学 ， 你 被 表扬 了 ！'\n",
      " '7 岁 娃 每顿饭 只能 吃 三口 ， 只长个 不长重 ， 拍片 发现 胃 不见 了 。 。 。'\n",
      " '真的 ！ 冰岛 队 是 由 牙医 、 导演 、 老板 、 工人 兼职 的 … 昨晚 梅西 的 点球 ， 是 被 一个 导演 扑出来 的 ！'\n",
      " '明天 ， 上合 组织 国家 电影节 开幕 ， 日程安排 公布 ！ （ 终极 剧透 ）'\n",
      " '准妈妈 怀孕 两个 月 去 检查 ， 结果 忍痛 放弃 胎儿 ！ 竟 和 她 6 年 共处一室 的 “ 家人 ” 有关'\n",
      " '最高 13 级 ！ 新 台风 生成 了 ！ 会 不会 影响 江门 ？ 赶紧 看 天气预报 … …'\n",
      " '相恋 4 年 ， 24 岁 女友 宣布 怀孕 ， 谁知 她 竟是 49 岁 大妈 ！ 更 可怕 的 事 还 在 后面 ...'\n",
      " '吃 小龙虾 会长 虫 ， 亲吻 孩子 嘴 传染病 毒 … … 朋友圈 这 十大 谣言 的 真相 令人 愤怒 ！'\n",
      " '杭州 太热 了 ! 女子 在 东站 昏迷 ! 突然 , 陌生 大叔 掏出 一枚 硬币 , 神奇 的 一幕 发生 了 !'\n",
      " '9 岁 儿子 偷偷 做 这事 一年 多 , 家长 发现 时 已经 晚 了 ... 父母 千万 要 多 留心 !'\n",
      " '五险 一金 缴费 基数 下 月 调整 ， 你 到手 的 工资 又 要 变 了 ！'\n",
      " '暨大 毕业典礼 堪比 奥斯卡 ！ 盛装 走红 毯 + 雨中 毕业 照 ， 太炫酷 啦 ！'\n",
      " '\" 外婆 \" 是 方言 ! 一律 改 \" 姥姥 \" ? ! 小学 课文 里 已经 改了 ! 网友 吵翻 了 ! 真相 是 ...'\n",
      " '注意 ！ 空调 房里 ， 三个 5 岁 孩子 晕倒 被 送 抢救 ， 这种 危险 孩子 比 大人 更 敏感 ！'\n",
      " '610 万元 重奖 悬红 ！ 湛江 人 ， 快来 给 海东 这个 公园 取名字'\n",
      " '“ 天 台上 的 真相 ” ： 为了 \" hold 住 “ 赌客 输 更 多 的 钱 ， 他们 竟然 … …'\n",
      " '明天 湛江 这件 事比 世界杯 还 重要 ， 一起 为 他们 加油 ！'\n",
      " '吃 荔枝 、 蛋黄派 、 葡萄干 会 被 查出 酒驾 ？ 交警 的 权威 实测 来 了'\n",
      " '最小 只有 一根 筷子 长 ， 早产儿 的 出生 ， 医生 跟 父母 都 如临 大考'\n",
      " '杭州 90 后 IT 男 被 丈母娘 拒绝 ! 家境 不 重要 , 但 你 要 解决 这 问题 ! 戳 中 男人 痛处 !'\n",
      " '刚刚 透露 ， 厦门 交通 或迎 巨变 ！ 最快 今年 你 就 能 坐 上 … …'\n",
      " '省长 点名 ！ “ 杭丽 高铁 ” 真的 要来 了 ！ 时速 350 公里 ， 杭丽 1 小时 ！'\n",
      " '【 关注 】 信阳 77 名 教师 入围 “ 中原 名师 ” 榜 ， 快 看 有 你 认识 的 吗 ？'\n",
      " '\" 10 个 孩子 因吃 荔枝 死亡 \" 朋友圈 炸裂 ! 每天 只能 吃 5 颗 ? 医生 看 完 : 呵呵 ...'\n",
      " '多图 ！ 凶猛 龙舟 水 已经 杀到 江门 ， 明天 还 将 继续 狂 轰 ！ 会 停课 吗 ？'\n",
      " '提醒 ！ 买 到 这种 葡萄 千万别 吃 ， 里面 可能 全是 虫子 ！'\n",
      " '焦虑 啊 ！ 意外 同学 会后 ， 职场 妈妈 坚持 … … 外婆 怒吼 ： 还要 不要命 了 ！'\n",
      " '又 升 了 ！ 广州 最新 人均 年薪 上涨 一成 多 ！ 你 在 广州 \" 揾 食 \" 感觉 如何 ？'\n",
      " '快讯 ! 杭州 暂停 向 企事业 单位 及其 他 机构 销售 住房 ! 二手房 也 不行 !'\n",
      " '两 女子 深夜 在 惊恐 中点 了 份 外卖 ， 要求 送餐 小哥 … 哈哈哈 哈哈'\n",
      " '杭州 中考 第一批 录取 分数线 出炉 ! 杭 二中 561 分 , 学军 557 分 , 杭高 552 分'\n",
      " '靠 卖 粽子 在 杭 买房 买车 ! 90 后 美女 1 天能 包 3000 个 粽子 , 但 她 却 特别 想 做 一件 事 ...'\n",
      " '女子 吃 火龙果 ， 里面 藏条 蛇 ？ ！ 网友 ： 谁 说 火龙果 里 没有 火龙'\n",
      " '重磅 ！ 央视 传来 大 消息 ， 没 买房 的 青岛 人速 看 ！'\n",
      " '“ 你 现在 的 爸妈 不是 你 爸妈 … ” 40 岁 的 他 突然 接到 一个 神秘电话 ！ 骗子 ？ 真相 是 …'\n",
      " '全国 381 所 “ 野鸡大学 ” 被 曝光 ， 浙江 有 9 所 ， 千万别 去 ！'\n",
      " '重磅 ！ 个 税 起征点 拟提 至 每月 5000 元 ！ 个税法 迎 第七次 大修'\n",
      " '女 大学生 在 男友 家 吃完饭 ， 感到 强烈 恐惧 ， 暴走 1 万步 ！ 一查 竟是 重病'\n",
      " '长约 12 米 、 重约 4 吨 的 鲸鱼 在 雷州 搁浅 ， 一场 生命 的 救援 正在 展开 … …'\n",
      " '杭州 妈妈 喂奶时 觉得 堵 , 一查 竟 得 了 癌 ! 孩子 才 6 个 月 大 ... 医生 : 这 类人 要 特别 注意 !'\n",
      " '冰箱 旁 千万别 放 这个 ， 等于 定时炸弹 ， 你 一定 要 知道 ！ 新闻 晚评'\n",
      " '女孩 流血 不止 , 杭州 医生 瞒 着 大人 偷偷 报警 ! 竟 牵出 令人发指 的 秘密 ! 杭州 这项 新规 , 家有 小孩 一定 要 看 !'\n",
      " '这是 福州 吗 ？ 看 完 这些 照片 我 惊呆 了 … …'\n",
      " '注意 ！ 7 月 1 日 ， 玉林市 公积金 出台 新 政策 ， 涉及 归集 、 提取 、 信贷 … …'\n",
      " '定 了 ， 广东 最低工资 标准 调整 ！ 下 月 起 广东 人 工资 大 变化'\n",
      " '刚刚 ！ 中央 定 了 一个 新 节日 ， “ 放 不 放假 ” ？'\n",
      " '美到 窒息 ， 速来 打卡 ！ 青岛 新晋 “ 网红 ” 景点 就是 它们 了 ！'\n",
      " '杭州 女 大学生 在 男友 家 吃完饭 , 感到 强烈 恐惧 ! 暴走 1 万步 ! 一查 竟是 重病 !'\n",
      " '来 了 ！ 湛江 旅游 发展 将 “ 坐 上 高铁 ”'\n",
      " '“ 我 买 了 20 粒 避孕药 ， 磨成 粉 放在 室友 饭里 ” ... 看 完 毛骨悚然'\n",
      " '紧急 ！ 雷雨 + 7 级 大风 下午 就 到 ！ 连下 3 天 ！ 气温 直降 11 ℃ ！'\n",
      " '2 岁 姐姐 给 2 个 月 弟弟 喂 了 一口 奶 , 弟弟 竟 昏迷不醒 差点 丧命 ! 近期 频发 , 家长 千万 当心 了'\n",
      " '女子 嫁 豪门 两年生 下 儿子 ， 亲友 倒贴 上 千万 … 最后 她 发现 一个 秘密'\n",
      " '妻子 睡觉 有 特殊 癖好 ， 新婚 丈夫 被迫 分床 睡想 离婚 … 网友 吵 疯 了'\n",
      " '这 事 轰动 杭州 , 但 这名 23 岁 小 鲜肉 被 你们 忽略 了 ! 又帅 又 能 救人 还 单身 ...'\n",
      " '成本 5 毛 ， 转卖 上 千元 ！ 朋友圈 卖 的 这些 东西 有毒 有害 ， 快 看中 招 没有 ！'\n",
      " '据说 青岛 人 的 朋友圈 都 在 拜年 ？ 真相 在 这里 … …'\n",
      " '1 年来 9 岁 儿子 经常 做 这事 ， 家长 发现 时 已经 晚 了 ， 后悔 啊 ！'\n",
      " '爷爷 幼儿园 接错 孙子 , 还 带 去 医院 打针 ! 家长 老师 懵 了 ! 这句 话 千万 让 孩子 记住 !'\n",
      " '卫生间 不用 时 ， 门 是 打开 还是 关着 好 ？ 好多 人 都 做 错 了 ！'\n",
      " '杭州 下周 38 ℃ ? 先 担心 这周 吧 ! 气温 不高 , 但 很 难受 ! 明天 要 千万 注意 这 事 ！'\n",
      " '荒唐 ! 2 岁 儿子 被 咬 , 爸爸 摔死 咬人泰迪 ! 妈妈 竟 割腕 \" 赔 狗命 \" … | 新闻 早评'\n",
      " '因为 一张 自拍 , 杭州 一 美女 被 闺蜜 送进 派出所 ! 太秀 了 !'\n",
      " '以为 是 感冒 ， 治疗 半月 不见 好 ， 一查 竟 染上 “ 懒汉 病 ” ！ 跟 他 常 接触 这些 有关 ....'\n",
      " '爷爷 幼儿园 接错 孙子 , 还 带 去 医院 打针 ! 家长 老师 懵 了 ! 这句 话 千万 让 孩子 记住 !'\n",
      " '街坊 小心 ！ 荔枝树 下 的 不 一定 是 荔枝 菌 ， 已有 12 人 中毒 抢救'\n",
      " '大量 虫子 涌入 家门 ! 杭州 女子 头皮发麻 求助 : 该 怎么办 ! 网友 : 我们 家 也 是 ...'\n",
      " '吓人 ! 随手 拍 了 下 , 浙江 一 婴儿 几乎 毁容 ! 这种 常见 的 虫子 千万 不能 拍死 ! 应该 ...'\n",
      " '因为 一张 自拍 ， 女子 被 闺蜜 送进 派出所' '我市 启动 定时 加压 供水'\n",
      " '女子 假装 怀孕 躲 家里 8 个 月 不 出门 ！ 真相 揪心 又 暖 心'\n",
      " '真的 要说 再见 了 … … 腾讯 QQ 宠物 将 正式 停运 ！ 网友 ： 不要 等到 失去 了 才 知道 珍惜 啊 ！'\n",
      " '高分 考生 露脸 ！ 江门 各 学校 本科 上线 人数 出炉 ！ 他们 被 清华北大 录取 了'\n",
      " '重磅 ！ 明天 ， 青岛市 物业 收费 新政 实施 ， 你 关心 的 都 在 这里 了 ！'\n",
      " '杭州 中考 作文题 也 太 “ 浅 ” 了 吧 ? 生活 中 到处 都 是 ! 但要 答得 “ 深 ” 也 不 容易 !'\n",
      " '夜读 ｜ 女儿 出嫁 ， 爸爸 一席话 听 哭 全场 … …'\n",
      " '\" 嘭 \" 的 爆炸声 ! 杭州 闹市 屏风 街 起火 ! 浓烟 中 , 突然 伸出 两只手 ! 幸亏 他们 ...'\n",
      " '丈夫 猝死 后 留下 4 张 欠条 ， 女子 正 打算 还债 ， 却 发现 惊人 秘密'\n",
      " '高考 理科 总分 全省 第一 ！ 这个 刷 爆 铜陵 人 朋友圈 的 NO.1 “ 霸气 ” 十足 ！ （ 附 视频 ）'\n",
      " '6 岁 男孩 下体 上 长满 白色 苔藓 样 东西 ， 竟是 感染 了 HPV ！ 这种 疫苗 男性 也 该 打 ！'\n",
      " '2 岁 女童 乳房 \" 发育 \" 、 下体 出血 ， 竟因 邻居 小孩 给 了 她 这个 …'\n",
      " '超市 买 的 海飞丝 ! 飘柔 ! 六神 ! 可能 是 假 的 ! 杭州 捣毁 多个 制售 假货 窝点 , 这些 大牌 都 中招 !'\n",
      " '突发 ! \" 千万别 倒车 ! \" 杭州 街头 一 电瓶车 被 卷进 半挂车 , 听到 路 人 狂喊 司机 吓 得 从 车上 滚下来 ...'\n",
      " '深夜 , 两 女子 在 惊恐 中点 了 份 外卖 , 备注 里 竟 要求 送餐 小哥 …' '打开 神秘 黑匣 ， 你 人生 的 一万种 可能'\n",
      " '摇 不到 车牌 的 看 过来 ！ 杭州 小客车 调控 新政 7 月 正式 实施 ！ 首次 阶梯 摇号 明天 启动'\n",
      " '杭州 女子 离婚 后 竟 背上 300 多万 丈夫 外债 ! 她 靠 一招 成功 翻盘'\n",
      " '最后 3 天 ！ 非粤 A 牌 赶紧 做 这事 ， 可不 受 \" 开四停 四 \" 管控 ！'\n",
      " '扩散 ！ 明天 起 ， 青岛 这些 景区 暂时 关闭 ！ （ 名单 ）'\n",
      " '一夜 爆红 的 学霸 妈妈 ， 把 一儿 一女 送进 985 ， 一句 话 点醒 无数 家长 ！'\n",
      " '日本 球迷 这 举动 让 全世界 点赞 ! 只有 中国 球迷 感到 委屈 ! 原因 太 现实 了 ! | 新闻 早评'\n",
      " '12 岁 女孩 要 靠 鼻子 吃饭 ， 还有 人 “ 脑 结冰 ” 、 肚 “ 爆炸 ” ， 惹祸 的 全是 你 夏天 最爱 吃 的 东西 ！'\n",
      " '超燃 ！ 此时此刻 ， 贝克汉姆 、 皮耶罗 、 古力特 、 安切洛蒂 … 都 在 蚌埠 ！ 朋友圈 已经 沸腾'\n",
      " '33 岁 杭州 小伙 智商 只有 十几岁 ! 但 他 只要 一 拿 起笔 , 你 就 输 了 ...'\n",
      " '注意 ！ 这帮 在 高级 写字楼 要 借钱 给 你 的 人 要 小心'\n",
      " '趁雨 停快 回家 ! 杭州 晚上 还有 8 级 雷雨大风 ! 有 地方 下 起 冰雹 ! 周末 温度 降到 ...'\n",
      " '开场 4 分钟 头球 破门 ！ C 罗 这 张动图 刷屏 了 … … 他 到底 有 多 可怕 ？'\n",
      " '出发 啦 ！ 复古 铛铛 车首 现 厦门 ， 一路 玩遍 集美 旅游景点 ， 约 起 ！'\n",
      " '3 所 一级 达标 校 被 降级 ！ 福建省 教育厅 公布 复查 结果 ！ 福州 9 所 学校 确认 为 “ 省 一级 达标 高中 ” ！'\n",
      " '协议 投资 超 4000 亿元 ！ 华润 、 平安 、 紫光 等 超 29 个 重特大 招商 项目 签约 落户 东莞 （ 附表 ）'\n",
      " '信 了 ！ \" 哈尔滨 第一 大节 \" 是 端午 ， 啥 都 挡不住 ！ 不信 你 看 这些 打 了 鸡血 的 哈尔滨人 … …'\n",
      " '今晨 雷暴 “ 横扫 ” 阳江 ， 马路 变 河道 ！ 网友 ： 赶紧 下单 买条 船'\n",
      " '杭州 一辆 \" 劳斯莱斯 \" 扎入 水中 ！ 路人 却 纷纷 拍手叫好 ， 更 想不到 的 是 ...'\n",
      " '煮 鱼 掉 出 两块 石头 ， 鉴定 机构 称 价值 百万 ！ 这是 真的 吗 ？'\n",
      " '清远 中冠 汽车 客运站 下 月 将 终止 经营 ! 以后 请 到 这里 坐车 ～'\n",
      " '女子 肚子疼 ， 一 检查 半边 肾 消失 了 ， 夏天 这个 病 高发 ， 千万别 大意 ！'\n",
      " '今年 温州 中考 最牛学霸 来自 温州 十七中 ， 分数 666 分 ！ 他 的 高分 秘诀 你 也 可以 学 起来 … …'\n",
      " '25 岁 女 大学生 样貌 像 40 岁 , 无法 生育 ! 她 犯 的 错 好多 人 都 在 做 !'\n",
      " '驻马店 45 名 教师 入围 “ 中原 名师 ” 榜 ， 快 看 有 你 认识 的 吗 ？'\n",
      " '壮观   |   三亚 学院 5000 师生 雨中 同框 拍 毕业 全家福'\n",
      " '七旬 大爷 与 小 30 岁 女子 闪婚 ， 妻子 却 和 前夫 睡 一起 … 真相 咋舌 ！'\n",
      " '好惨 啊 ！ 平远 大 蟒蛇 被 开膛 破肚 ， 刀手 留下 三个 字 ...'\n",
      " '注意 ！ 一场 强降雨 正在 赶往 德州 ， 伴有 雷暴 大风 ， 局地 降水 100 毫米 以上'\n",
      " '出发 ！ 湛江 “ 十百 千 ” 干部 回 自己 村里 只干 一件 事'\n",
      " '玻璃杯 、 陶瓷杯 、 塑料杯 … ... 原来 最 安全 的 是 它'\n",
      " '每月 给 女友 5000 ， 6 年 给 了 52 万 ！ 终于 见到 了 小 23 岁 的 她 …'\n",
      " '朋友圈 疯传 ! 杭州 小美女 幻想 自己 是 美国 总统 , 奇迹 发生 了 ...'\n",
      " '惊险 ! 杭州 民警 两张 罚单 救 了 一家 3 条命 ! 幕后 元凶 竟藏 在 许多 人家 中 ...'\n",
      " '10 万 \\\\ / 斤 ！ 能 防癌 ！ 江门 这种 特产 又 被 国家 重点 关注 ！ 它 曾多次 惊动 央视 ！'\n",
      " '世界杯 开幕 啦 ， 第一场 就 5 : 0 ！ 然而 最 抢眼 的 是 观众席 的 他'\n",
      " '姐姐 逃婚 , 16 岁 妹妹 为 给 个 交代 , 竟替 嫁 生子 !   如今 她 想 解脱 , 法院 却判 ...'\n",
      " '紧急 扩散 ， 今明两天 东莞 仍 有 大暴雨 ！ 这些 路段 水浸 严重 … …'\n",
      " '太 可怕 了 ！ 死亡率 100% ， 很多 人 家里 都 有' '刚刚 ！ 福州 公布 落户 新政 ！ 看看 你 是否 符合条件'\n",
      " '“ 梅县 梅西 ” 刷屏 了 ！ 还 被 公安部 “ 看 上 ” 了 ？ 这 7 件 真事 ， 看到 最后 都 哭 了 ...'\n",
      " '【 权威 发布 】 市 纪委 监察 委 关于 对 淮河 罗山 段 滥采 河砂 问题 进行 责任 追究 的 通报'\n",
      " '校长 激情 开唱 ， 俊男靓女 刷屏 ， 华南 鲤工 大学 的 毕业典礼 嗨 翻 啦 ！'\n",
      " '80 后 姑娘 的 一张 照片 ， 引起 疯狂 点赞 ！'\n",
      " '94 岁 的 她 捐出 1857 万 ！ 全国 网友 暴赞 ： 这才 是 真正 的 国民 女神'\n",
      " '重磅 ！ 铜 官区 最新 小学 学区 划分 出炉 ！'\n",
      " '妈妈 气得 离家出走 , 爸爸 出门 找人 被 撞 生命垂危 ! 杭州 小 夫妻 急 疯 了 ! 钱 阿姨 你 在 哪 …'\n",
      " '夜读 丨 爱情 有时 会 迟到 ， 但 它 从 不会 缺席'\n",
      " '理发师 看 了 一眼 发出 尖叫 ！ 36 岁 IT 男 头顶 变得 “ 触目惊心 ” ， 这 类人 有 可能 中招' '讣告'\n",
      " '刚刚 ， 昭通 一中 凤池 分校 发布 招生简章 ， 600 人 ！ 10 县 选拨 100 人 23 号 报名 ！'\n",
      " '\" 憋不住 了 ！ \" 女子 在 大巴车 上 解手 ， 司机 居然 逼 她 做 这事 ！'\n",
      " '郑人豪 ： “ 一核 一带 一区 ” 协调 发展 新格局 为 湛江 指明方向'\n",
      " '女婿 在 与 不 在 ， 丈母娘 烧菜 的 区别 竟然 这么 大 ！ 哈哈哈 太扎心 了'\n",
      " '18 张 照片 展示 各国 女性 审美观 ， 中国 的 令人深思 … …'\n",
      " '神 了 ！ 医生 看 了 一眼 电视 ， 急 得到 处 找 她 ！ 对方 一查 果然 是 肿瘤 ！'\n",
      " '是 的 ， 又 抓 到 了 ！ 真 · 逃犯 克星 — — 张学友 ！'\n",
      " '玩心 太 大 ！ “ 艾云尼 ” 徐闻 登陆 完 又 跑 到 海口 ！ 听说 还有 双 台风 … …'\n",
      " '这种 网红 馒头 出事 了 ！ 几十人 被 抓 ！ 摊主 称 \" 从 不让 自己 的 孩子 吃 \"'\n",
      " '十年 网友 终成 情侣 ， 当 男友 去 她家 时 却 发现 惊人 秘密 ， 更 麻烦 的 是 … …'\n",
      " '市区 安宁 路 摩托车 交通事故 调查 最新进展' '罕见 ！ 3 台风 共舞 ！ 其中 一个 今晚 就 将 生成 ， 高考 期间 影响 厦门'\n",
      " '别 外出 ！ 雷暴雨 即将来临 ， 7 区 黄色 预警 生效 ！ 这个 信号 出现 自动 停课 ！'\n",
      " '佳木斯市 人民政府 办公室 关于 高考 期间 延时 上班 的 通知'\n",
      " '他 摔死 咬伤 儿子 的 泰迪狗 ！ 4 天后 ， 妻子 割腕 要 “ 赔 狗命 ” … …'\n",
      " '12 岁 女孩 大出血 被 “ 爸爸 ” 抱进 医院 ， 医生 的 一个 电话 ， 竟 发现 … …'\n",
      " '请 为 他们 点赞 ！ “ 千名 好 支书 ” 拟 表彰 对象 公示 啦 ！ 张家口 26 人 上榜 ！'\n",
      " '吃 3 颗 荔枝 醉驾 ? ! 交警 的 权威 实测 来 了 ! 吃 完 这些 开车 要 注意 ... | 新闻 晚评'\n",
      " '老房子 空 了 5 年 ， 房东 进门 吓 一大跳 ， 房子 里 竟 住 了 … …'\n",
      " '见证 历史 时刻 ！ 市委书记 王小平 宣布 ： 郑焦 城际 铁路 焦作 站 南站 房 、 南 广场 启用 ！   7 月 1 日 投入使用 … …'\n",
      " '姐姐 逃婚 ， 16 岁 妹妹 被迫 替 嫁 生子 ， 如今 她 想 离婚 却 …'\n",
      " '火车站 出 的 事 ， 青海 坐火车 的 赶快 通知 家人 …'\n",
      " '\" 跪求 各位 家长 ！ \" 一位 小学老师 的 辞职信 火 了 ， 读后 满是 心酸'\n",
      " '阿姨 晒 20 年前 的 嫁妆 火 了 ！ 网友 惊叹 ： 绝对 的 大户人家'\n",
      " '吃 完 这菜 , 一家 三口 进 医院 ! 这 类 身边 每天 都 能 接触 到 的 毒物 防不胜防 ! | 新闻 早评'\n",
      " '原来 ， 广州 地铁 这个 站 全国 最 忙 ！' '6 月 8 日 男生 触电 身亡 原因 公布 ， 广州 警方 开展 全市 大排查'\n",
      " '长沙 又 开通 4 条 社区 大巴 直达 地铁站   近期 或 将 再 开通 4 条   快 看 线路'\n",
      " '现场 直击 ！ 湛江 第一条 高铁 最新 乘车 体验 ！' '最新 ！ 岳阳楼区 42 所 小学 一年级 招生 范围 划分 出炉 ！'\n",
      " '睡觉时 竟 被 这种 家中 常见 的 东西 , 爬进 耳朵 生下 了 ... 杭州 即将 入梅 , 一定 要 注意 它 !'\n",
      " '杭州 高中生 为 玩游戏 剁 掉 父亲 手指 ! 别 让 游戏 害 了 孩子 ! 上 了 瘾 竟会 改变 人脑 结构 ...'\n",
      " '抓 娃娃 机 几乎 被 清空 ！ 女生 用 的 办法 把 老板 都 吓 到 了'\n",
      " '青海 首个 景区 玻璃 栈道 7 月 建成 ， 全长 200 米 ！'\n",
      " '你好 漂亮 我 想 投资 你 ！ “ 富 二代 ” 要花 100 万 捧 95 后 女主播 ， 结果 … …'\n",
      " '连云港 2018 年 高中 段 招生 方案 出台   新海 高中 取消 国际 班'\n",
      " '杭州 一 媳妇 把 丈夫 4 年 抽 的 烟盒 放在 一起 , 发现 了 一个 惊人 的 秘密 !'\n",
      " '气愤 ！ 家长 在 班级 群里 对 老师 破口大骂 ， 还 到 学校 殴打 老师 ， 只 因 …'\n",
      " '超市 购物 小票 千万别 乱 扔 ！ 有人 拿 着 你 的 小票 干 这种 丑事 … 细思极 恐'\n",
      " '痛心 ！ 21 岁 失联 女护士 确认 遇害 ！ 警方 ： 嫌疑人 为 其前 相亲 对象 ， 已 刑拘'\n",
      " '市政府 发布 征收 土地 公告 ， 涉及 这些 地方 … …' '一家 三口 自杀 令人 唏嘘 ， 背后 元凶 不知 害 了 多少 人 ！'\n",
      " '定 了 ！ 成都市委 全会 7 月 上旬 召开 ！' '姑娘 吃 火龙果 吃 出 两颗 蛋 ？ ！ 真相 竟然 是 …'\n",
      " '从 腹泻 到 死亡 ， 不到 12 小时 ！ 夏天 拉肚子 千万别 大意 ， 血淋淋 的 教训 ！'\n",
      " '高考 期间 珠三角 或 有 大到暴雨 ， 琼州海峡 今日 15 时 全线 停航 \\xa0 | \\xa0 新闻 早茶'\n",
      " '西安 高新 一中 与 榆林 高新 完全 中学 签订 合作 办学 协议'\n",
      " '中山市 石岐 中心 小学校长 刘道康 接受 纪律 审查 和 监察 调查'\n",
      " '连云港 乐天 玛特 超市 或 将 8 月 重新 开业 ！ 购物 卡能 不能 用 ， 商家 表态 了 ！'\n",
      " '没买 涉水 险 ？ 简单 三步 ， 保险公司 照样 赔钱 ！ 转给 有 需要 的 人'\n",
      " '进价 40 元 , 标价 3 万 6 ! 央视 曝光 了 , 赶快 看 !'\n",
      " '9 岁 儿子 是 我 的 吗 ？ 四次 亲子鉴定 的 结果 让 他 彻底 懵 了 ！'\n",
      " '新政 来 了 ！ 江门 人 买房 一定 要领 这 两份 资料 ， 不要 再 傻傻 不 知道 被 骗 了 ！'\n",
      " '有 味 ！ 陆鸣用 一口 纯正 汉腔 ， 唱出 了 一条 最 有名 的 汉口 老街'\n",
      " '湛江 人 ， 5 条 高铁 站 公交 接驳 专线 将 开通 ！ 有 经过 你家 吗 ?'\n",
      " '取景 于 玉林 ， 有 众多 玉林 群众演员 ， 玉林 首部 院线 电影 今日 开机 ！'\n",
      " '90 后 IT 男 被 准 丈母娘 拒绝 ： 家境 不 重要 ， 重要 的 是 … … 扎心 了 ！'\n",
      " '这 杭州 老爸 绝 了 ! 想 报名 把 女儿 送进 好 的 幼儿园 , 结果 把 自己 送 进 拘留所 ！'\n",
      " '快讯 ！ 个 税 起征点 拟调 至 每月 5000 元 ！' '一锤 接着 一锤 敲 ！ 融入 长江 经济带 ， 看 成都 如何 担当 作为'\n",
      " '真 适宜 ！ 无锡 蝉联 内地 宜居城市 第一名 ！'\n",
      " '家里 蚊子 到底 哪来 的 ？ 哪里 最 多 ？ 看 了 这条 微信 ， 家里 蚊子 少 一半 ！'\n",
      " '最新消息 ！ 梅州 要招 72 名 教师 ！ 附 岗位 表 ~'\n",
      " '@ 成都 党员干部     只要 敢 担当 ， 下个 表彰 的 就是 你 ！ 你 ！ 你 ！'\n",
      " '一颗颗 黑色 \" 石头 \" 从 她 眼睛 里 挑 了 出来 ! 杭州 美女 化妆 13 年 , 最 可怕 的 事情 发生 了 ...'\n",
      " '高级 白领 丈夫 突接 消息 ： 你 妻子 在 派出所 ！ 原来 她 一直 在 干 … …'\n",
      " '广州 三甲 医院 变局 ！ 主城区 十几家 搬迁 扩建 ， 哪个 在 你 家门口 ？'\n",
      " '好 嘢 益 街坊 ， 珠海 吃喝玩乐 指南 等 你 来 pick ！ ！'\n",
      " '“ 谁 规定 的 相亲 必须 浓妆艳抹 ？ ” 女白领 素颜去 相亲 ， 回来 就 被 拉 黑'\n",
      " '网传 潮安 区 一 牛肉店 出售 添加 防腐剂 甲醛 的 死 牛肉 ？ 潮安 区食 药监局 这么 回应 … …'\n",
      " '丈夫 去世 4 年 多 ， 女子 竟 说 毫不 知情 ！ 更 离奇 的 是 … …'\n",
      " '一天 60 人 被捕 ！ 青海 人 赶紧 通知 家人 朋友 ， 越快越好 ！'\n",
      " '夜读   |   他 身患 “ 不死 的 癌症 ” ， 坐轮椅 考上 清华 … 请 相信 奋斗 的 力量 ！'\n",
      " '杭州人 注意 了 , 女子 银行卡 瞬间 蒸发 5 万 , 只 因 4 年前 换 手机号 时 的 一个 疏忽 ... | 新闻 晚评'\n",
      " '李嘉诚 先生 辞任 汕大 名誉主席 ， 李泽楷 接棒 ！ 今年 诚哥 给 汕大 毕业生 寄语 … …'\n",
      " '最新 女生 交往 “ 潜规则 ” 曝光 ， 每 一条 都 强烈 赞同 ！'\n",
      " '手机 被 偷 十几天 后 意外 找回 ， 竟是 因为 小偷 老婆 爱自 拍'\n",
      " '千万别 喝 蜂蜜 了 ！ 我 是 认真 的 ， 再 忙 都 要 看 ！'\n",
      " '多年 湿疹 ， 一支 常见 口服药 抹 一抹 就 好 了 ！ 还 能治 换季 手起 疱疹 、 爆皮'\n",
      " '“ 我 就 啃 了 俩 苹果 … … ” 病人 一句 话 把 医生 搞 疯 ， 哈哈哈'\n",
      " '住 电梯 楼 的 人 请 停止 这个 动作 ， 赶快 告诉 家人 ！' '再见 ， 同学 们 ！ 再见 ， 沈 校长 ！'\n",
      " '儿童节 ， 请 为 这些 孩子 转发 ， 让 他们 回家 ！'\n",
      " '紧急通知 ！ 住 楼房 的 一定 要 看 ， 请 停止 这个 动作 ！ 赶快 通知 家人 ！'\n",
      " '海口 面向全国 招聘 249 名 教师 ！ 19 所市 直属 学校 （ 幼儿园 ） 等 你 来 ！'\n",
      " '一家 遇 车祸 父母 当场 死亡 ！ \\u200b 交警 对 孩子 这个 举动 ， 温暖 无数 人 …'\n",
      " '大快人心 ！ 梅县 打掉 一涉 恶 犯罪团伙 ， 抓 了 横行乡里 十多年 的 “ 村霸 ”'\n",
      " '刚刚 ， 习近平 向普京 颁授 首枚 “ 友谊 勋章 ” ！'\n",
      " '为 “ 疯狂 大 货车 ” 充当 “ 保护伞 ” ， 122 名 公职人员 被 查处'\n",
      " '国家 出手 调查 “ 阴阳 合同 ” ！ 崔永元 向 范冰冰 道歉 了 ？ ！'\n",
      " '杭州 这片 网红 荷塘 里 , 有人 竟 在 捞 \" 金子 \" ! 年入 30 万 ! 更让人 馋 的 是 ...'\n",
      " '姑娘 化妆 13 年 ， 眼睛 里 居然 长出 一颗颗 … … 眼科医生 告诉 你 ， 这种 妆 最好 少化 ！'\n",
      " '中国社科院 发布 ： 南通 跻身 中国 城市 宜居 竞争力 前五强 ！'\n",
      " '女子 乳房 里 取出 3 条活 虫 ， 医生 都 吓一跳 ！ 她 爱喝 的 这个 东西 你家 也 有 … …'\n",
      " '5 天内 ， 22000 斤 萝卜 被华师 和 广财 的 同学 们 “ 合伙 ” 吃掉 了 ！ 原因 很暖心 ！'\n",
      " '周先旺 武汉 履新 10 日 ， 只为 这 一件 事 … …'\n",
      " '东湖 来 了 一帮 牛 人 ！ 看 完 感觉 武汉 颜值 又 被 拉高 一大截'\n",
      " '紧急 ！ 绵阳 涪江 洪峰 或超 警戒水位 ！ 低洼地 带 群众 转移 ！ 北川 平武 江油 安州 三台 ， 断道 、 塌方 、 泥石流 …'\n",
      " '都 说 高考作文 难 ？ ！ 看看 武汉 这 两个 小学生 怎么 写 的 … …'\n",
      " '励志 ！ 40 人 高考 平均 630 + ， 半数 是 贫困生 ， 这个 班 的 学习 口诀 是 … …'\n",
      " '共享 汽车 明天 空降 江门 ！ 收费 标准 是 … … ( 内附 详细 用车 攻略 ）'\n",
      " '突发 ！ 贵池 境内 长江 岸边 发生 一起 溺水 事故 … 防 溺水 ， 请 一定 要 告诉 孩子 这些'\n",
      " '厉害 了 ！ 女生 大二 创业 ， 3 年成 千万富翁 ， 毕业 给 母校 捐款 百万 ！'\n",
      " '福州人 要 狂 嗨 了 ！ 全球 最 大规模 室内 海洋馆 8 月 开业 ！ 1000 多种 海洋 动物 ， 百米 海底隧道 … …'\n",
      " '2260 亿元 ！ 他们 在 武汉 下单 了' '高考 理综第 8 题 出错 ？ 广东 宣布 ： 该题 单选 A 或 B 均 得 6 分 ！'\n",
      " '中山 最牛学霸 宿舍 ！ 5 个 男生 有望 一起 上 清华 ！'\n",
      " '温州市 儿童医院 将 迁入 市 人民 医院 信河 院区 ， 温州 娒 看病 有 了 新去处'\n",
      " '【 视频 】 泪奔 ！ 临川 一中 师生 改编 《 成都 》 ， 千人 校园 合唱 迎 高考 ！'\n",
      " '《 神雕侠侣 》 女一号 是 河源 人 ！ 刚 和 “ 杨过 ” 回乡 认祖归宗 ！'\n",
      " '定 了 ！ 常益长 高铁 线路 站点 全 公布 ， 看看 经过 你家 没 ？'\n",
      " '湖北 高考 今起 填报 志愿 ， 看看 你 的 分 可以 报 哪 所 大学 ？ （ 附 报考 攻略 ）'\n",
      " '岳阳 考生 “ C 位 ” 出分 ！ 看看 别人 家 小孩 是 如何 考 出 理科 692 分 、 文科 682 分 ！'\n",
      " '厉害 了 ， 阳江 这个 “ 学霸班 ” ！ 两位 同学 欲 冲击 北大 ！'\n",
      " '奶奶 常 喂 孙子 吃 胎盘 ， 9 岁 就 变声 长胡子 ， 再也 长不高 了'\n",
      " '7 月 1 日起 ， 武汉 上调 住房 公积金 缴存 额度 ， 看看 你 的 涨 多少'\n",
      " '装修 装 一半 突然 停工 ！ 中山 又 一家 装修 公司 疑似 跑 路 ！'\n",
      " '30 多个 世界冠军 长江 边 走红 毯 ， 看看 你 都 认识 谁 ？'\n",
      " '西湖 醋 鱼 和 西湖 无关 ? 这块 神秘 的 外地 池塘 背后 , 竟是 一盘 大棋 ...'\n",
      " '为了 武汉 的 这件 大事 ， 跳水 冠军 郭晶晶 、 吴敏霞 … … 都 来 了 ！'\n",
      " '黑河 花车 巡游 燃爆 通江 路 ！ 没 看 过瘾 ， 明天 接着 看 ！'\n",
      " '我市 优秀 考生 出炉 ！   刘奥然 697 分 （ 理科 ） 王楚 626 分 （ 文科 ）'\n",
      " '梅州 高考 学霸 天团 亮相 ！ 高分 秘籍 大 公开 ！'\n",
      " '重磅 ！ 福州 四环 时代 真的 要来 了 ！ 这些 区域 迎来 大 机遇 ！ “ 世界 第二 ” 大桥 顺利 合龙 ！'\n",
      " '乌兰察布 市 荣获 “ 中国 最美 养生 休闲 旅游 城市 ” 称号']\n"
     ]
    }
   ],
   "source": [
    "import numpy as np\n",
    "words_ary = np.array(words)\n",
    "print(words_ary[k_data == 4])  # 可以把数字1改成其他数字看看效果"
   ]
  },
  {
   "cell_type": "markdown",
   "metadata": {},
   "source": [
    "# 情感分析"
   ]
  },
  {
   "cell_type": "code",
   "execution_count": 18,
   "metadata": {},
   "outputs": [],
   "source": [
    "from snownlp import SnowNLP"
   ]
  },
  {
   "cell_type": "code",
   "execution_count": 17,
   "metadata": {},
   "outputs": [
    {
     "data": {
      "text/plain": [
       "'致敬最美逆行者！达州感谢你们！'"
      ]
     },
     "execution_count": 17,
     "metadata": {},
     "output_type": "execute_result"
    }
   ],
   "source": [
    "title_list[0]"
   ]
  },
  {
   "cell_type": "code",
   "execution_count": 12,
   "metadata": {},
   "outputs": [
    {
     "data": {
      "text/plain": [
       "0.9866128788667892"
      ]
     },
     "execution_count": 12,
     "metadata": {},
     "output_type": "execute_result"
    }
   ],
   "source": [
    "s1 = SnowNLP(title_list[0])\n",
    "s1.sentiments"
   ]
  },
  {
   "cell_type": "code",
   "execution_count": 15,
   "metadata": {},
   "outputs": [
    {
     "data": {
      "text/plain": [
       "'通川区塔沱市场火灾扑救最新情况通报'"
      ]
     },
     "execution_count": 15,
     "metadata": {},
     "output_type": "execute_result"
    }
   ],
   "source": [
    "title_list[1]"
   ]
  },
  {
   "cell_type": "code",
   "execution_count": 16,
   "metadata": {},
   "outputs": [
    {
     "data": {
      "text/plain": [
       "0.04934650330941004"
      ]
     },
     "execution_count": 16,
     "metadata": {},
     "output_type": "execute_result"
    }
   ],
   "source": [
    "s2 = SnowNLP(title_list[1])\n",
    "s2.sentiments"
   ]
  },
  {
   "cell_type": "code",
   "execution_count": 23,
   "metadata": {},
   "outputs": [],
   "source": [
    "mylist = []\n",
    "for item in title_list:\n",
    "    mylist.append(SnowNLP(item).sentiments)"
   ]
  },
  {
   "cell_type": "code",
   "execution_count": 27,
   "metadata": {},
   "outputs": [
    {
     "data": {
      "text/html": [
       "<div>\n",
       "<style scoped>\n",
       "    .dataframe tbody tr th:only-of-type {\n",
       "        vertical-align: middle;\n",
       "    }\n",
       "\n",
       "    .dataframe tbody tr th {\n",
       "        vertical-align: top;\n",
       "    }\n",
       "\n",
       "    .dataframe thead th {\n",
       "        text-align: right;\n",
       "    }\n",
       "</style>\n",
       "<table border=\"1\" class=\"dataframe\">\n",
       "  <thead>\n",
       "    <tr style=\"text-align: right;\">\n",
       "      <th></th>\n",
       "      <th>sentiments</th>\n",
       "    </tr>\n",
       "  </thead>\n",
       "  <tbody>\n",
       "    <tr>\n",
       "      <th>0</th>\n",
       "      <td>0.986613</td>\n",
       "    </tr>\n",
       "    <tr>\n",
       "      <th>1</th>\n",
       "      <td>0.049347</td>\n",
       "    </tr>\n",
       "    <tr>\n",
       "      <th>2</th>\n",
       "      <td>0.986362</td>\n",
       "    </tr>\n",
       "    <tr>\n",
       "      <th>3</th>\n",
       "      <td>0.962844</td>\n",
       "    </tr>\n",
       "    <tr>\n",
       "      <th>4</th>\n",
       "      <td>0.999998</td>\n",
       "    </tr>\n",
       "    <tr>\n",
       "      <th>...</th>\n",
       "      <td>...</td>\n",
       "    </tr>\n",
       "    <tr>\n",
       "      <th>495</th>\n",
       "      <td>0.954061</td>\n",
       "    </tr>\n",
       "    <tr>\n",
       "      <th>496</th>\n",
       "      <td>0.991881</td>\n",
       "    </tr>\n",
       "    <tr>\n",
       "      <th>497</th>\n",
       "      <td>0.898945</td>\n",
       "    </tr>\n",
       "    <tr>\n",
       "      <th>498</th>\n",
       "      <td>0.999018</td>\n",
       "    </tr>\n",
       "    <tr>\n",
       "      <th>499</th>\n",
       "      <td>0.972422</td>\n",
       "    </tr>\n",
       "  </tbody>\n",
       "</table>\n",
       "<p>500 rows × 1 columns</p>\n",
       "</div>"
      ],
      "text/plain": [
       "     sentiments\n",
       "0      0.986613\n",
       "1      0.049347\n",
       "2      0.986362\n",
       "3      0.962844\n",
       "4      0.999998\n",
       "..          ...\n",
       "495    0.954061\n",
       "496    0.991881\n",
       "497    0.898945\n",
       "498    0.999018\n",
       "499    0.972422\n",
       "\n",
       "[500 rows x 1 columns]"
      ]
     },
     "execution_count": 27,
     "metadata": {},
     "output_type": "execute_result"
    }
   ],
   "source": [
    "df_sentiments = pd.DataFrame({\"sentiments\": mylist})\n",
    "df_sentiments "
   ]
  },
  {
   "cell_type": "code",
   "execution_count": 28,
   "metadata": {},
   "outputs": [
    {
     "data": {
      "text/html": [
       "<div>\n",
       "<style scoped>\n",
       "    .dataframe tbody tr th:only-of-type {\n",
       "        vertical-align: middle;\n",
       "    }\n",
       "\n",
       "    .dataframe tbody tr th {\n",
       "        vertical-align: top;\n",
       "    }\n",
       "\n",
       "    .dataframe thead th {\n",
       "        text-align: right;\n",
       "    }\n",
       "</style>\n",
       "<table border=\"1\" class=\"dataframe\">\n",
       "  <thead>\n",
       "    <tr style=\"text-align: right;\">\n",
       "      <th></th>\n",
       "      <th>sentiments</th>\n",
       "    </tr>\n",
       "  </thead>\n",
       "  <tbody>\n",
       "    <tr>\n",
       "      <th>count</th>\n",
       "      <td>500.000000</td>\n",
       "    </tr>\n",
       "    <tr>\n",
       "      <th>mean</th>\n",
       "      <td>0.629987</td>\n",
       "    </tr>\n",
       "    <tr>\n",
       "      <th>std</th>\n",
       "      <td>0.371410</td>\n",
       "    </tr>\n",
       "    <tr>\n",
       "      <th>min</th>\n",
       "      <td>0.000007</td>\n",
       "    </tr>\n",
       "    <tr>\n",
       "      <th>25%</th>\n",
       "      <td>0.226229</td>\n",
       "    </tr>\n",
       "    <tr>\n",
       "      <th>50%</th>\n",
       "      <td>0.794225</td>\n",
       "    </tr>\n",
       "    <tr>\n",
       "      <th>75%</th>\n",
       "      <td>0.981081</td>\n",
       "    </tr>\n",
       "    <tr>\n",
       "      <th>max</th>\n",
       "      <td>0.999998</td>\n",
       "    </tr>\n",
       "  </tbody>\n",
       "</table>\n",
       "</div>"
      ],
      "text/plain": [
       "       sentiments\n",
       "count  500.000000\n",
       "mean     0.629987\n",
       "std      0.371410\n",
       "min      0.000007\n",
       "25%      0.226229\n",
       "50%      0.794225\n",
       "75%      0.981081\n",
       "max      0.999998"
      ]
     },
     "execution_count": 28,
     "metadata": {},
     "output_type": "execute_result"
    }
   ],
   "source": [
    "df_sentiments.describe()"
   ]
  },
  {
   "cell_type": "code",
   "execution_count": 30,
   "metadata": {},
   "outputs": [
    {
     "data": {
      "text/plain": [
       "<matplotlib.axes._subplots.AxesSubplot at 0x264d4c3c4c8>"
      ]
     },
     "execution_count": 30,
     "metadata": {},
     "output_type": "execute_result"
    },
    {
     "data": {
      "image/png": "[encoded data removed]",
      "text/plain": [
       "<Figure size 432x288 with 1 Axes>"
      ]
     },
     "metadata": {
      "needs_background": "light"
     },
     "output_type": "display_data"
    }
   ],
   "source": [
    "sns.kdeplot(df_sentiments['sentiments'])"
   ]
  },
  {
   "cell_type": "code",
   "execution_count": 39,
   "metadata": {},
   "outputs": [
    {
     "data": {
      "text/html": [
       "<div>\n",
       "<style scoped>\n",
       "    .dataframe tbody tr th:only-of-type {\n",
       "        vertical-align: middle;\n",
       "    }\n",
       "\n",
       "    .dataframe tbody tr th {\n",
       "        vertical-align: top;\n",
       "    }\n",
       "\n",
       "    .dataframe thead th {\n",
       "        text-align: right;\n",
       "    }\n",
       "</style>\n",
       "<table border=\"1\" class=\"dataframe\">\n",
       "  <thead>\n",
       "    <tr style=\"text-align: right;\">\n",
       "      <th></th>\n",
       "      <th>标题</th>\n",
       "      <th>sentiments</th>\n",
       "    </tr>\n",
       "  </thead>\n",
       "  <tbody>\n",
       "    <tr>\n",
       "      <th>4</th>\n",
       "      <td>多图！江门暴雨中的动人瞬间，让人热泪盈眶！一起把大爱温情传递出去</td>\n",
       "      <td>0.999998</td>\n",
       "    </tr>\n",
       "    <tr>\n",
       "      <th>10</th>\n",
       "      <td>儿子摔了一跤，医生一针打下去却引发了一场大抢救！这位爸爸的自述值得所有家长看看！</td>\n",
       "      <td>0.999995</td>\n",
       "    </tr>\n",
       "    <tr>\n",
       "      <th>57</th>\n",
       "      <td>浙江高考作文题出炉！果然是“世纪”考生需要思考的题！妈宝娃真的写不出！</td>\n",
       "      <td>0.999994</td>\n",
       "    </tr>\n",
       "    <tr>\n",
       "      <th>458</th>\n",
       "      <td>风雨中，阳江高考考场外，等来的除了作文题目，还有这些暖心瞬间……</td>\n",
       "      <td>0.999990</td>\n",
       "    </tr>\n",
       "    <tr>\n",
       "      <th>478</th>\n",
       "      <td>【视频】泪奔！临川一中师生改编《成都》，千人校园合唱迎高考！</td>\n",
       "      <td>0.999985</td>\n",
       "    </tr>\n",
       "    <tr>\n",
       "      <th>20</th>\n",
       "      <td>重磅！新华社播发长篇通讯《习近平同志推动厦门经济特区建设发展的探索与实践》</td>\n",
       "      <td>0.999977</td>\n",
       "    </tr>\n",
       "    <tr>\n",
       "      <th>364</th>\n",
       "      <td>暴雨无情佛山有情！高考第二日，这一幕感动无数佛山人...</td>\n",
       "      <td>0.999972</td>\n",
       "    </tr>\n",
       "    <tr>\n",
       "      <th>92</th>\n",
       "      <td>曾遭班主任猥亵，19岁少女跳楼自杀，围观者却在起哄、直播、嘲笑……</td>\n",
       "      <td>0.999941</td>\n",
       "    </tr>\n",
       "    <tr>\n",
       "      <th>434</th>\n",
       "      <td>夜读 | 他身患“不死的癌症”，坐轮椅考上清华…请相信奋斗的力量！</td>\n",
       "      <td>0.999937</td>\n",
       "    </tr>\n",
       "    <tr>\n",
       "      <th>152</th>\n",
       "      <td>快讯！2018泉州高考文理科第一名揭晓！都来自晋江……</td>\n",
       "      <td>0.999906</td>\n",
       "    </tr>\n",
       "  </tbody>\n",
       "</table>\n",
       "</div>"
      ],
      "text/plain": [
       "                                           标题  sentiments\n",
       "4            多图！江门暴雨中的动人瞬间，让人热泪盈眶！一起把大爱温情传递出去    0.999998\n",
       "10   儿子摔了一跤，医生一针打下去却引发了一场大抢救！这位爸爸的自述值得所有家长看看！    0.999995\n",
       "57        浙江高考作文题出炉！果然是“世纪”考生需要思考的题！妈宝娃真的写不出！    0.999994\n",
       "458          风雨中，阳江高考考场外，等来的除了作文题目，还有这些暖心瞬间……    0.999990\n",
       "478            【视频】泪奔！临川一中师生改编《成都》，千人校园合唱迎高考！    0.999985\n",
       "20      重磅！新华社播发长篇通讯《习近平同志推动厦门经济特区建设发展的探索与实践》    0.999977\n",
       "364              暴雨无情佛山有情！高考第二日，这一幕感动无数佛山人...    0.999972\n",
       "92          曾遭班主任猥亵，19岁少女跳楼自杀，围观者却在起哄、直播、嘲笑……    0.999941\n",
       "434         夜读 | 他身患“不死的癌症”，坐轮椅考上清华…请相信奋斗的力量！    0.999937\n",
       "152               快讯！2018泉州高考文理科第一名揭晓！都来自晋江……    0.999906"
      ]
     },
     "execution_count": 39,
     "metadata": {},
     "output_type": "execute_result"
    }
   ],
   "source": [
    "df_new = pd.concat([df,df_sentiments], axis = 1)\n",
    "df_new.sort_values(\"sentiments\",ascending=False)[[\"标题\",\"sentiments\"]].head(10)"
   ]
  },
  {
   "cell_type": "code",
   "execution_count": 38,
   "metadata": {},
   "outputs": [
    {
     "data": {
      "text/html": [
       "<div>\n",
       "<style scoped>\n",
       "    .dataframe tbody tr th:only-of-type {\n",
       "        vertical-align: middle;\n",
       "    }\n",
       "\n",
       "    .dataframe tbody tr th {\n",
       "        vertical-align: top;\n",
       "    }\n",
       "\n",
       "    .dataframe thead th {\n",
       "        text-align: right;\n",
       "    }\n",
       "</style>\n",
       "<table border=\"1\" class=\"dataframe\">\n",
       "  <thead>\n",
       "    <tr style=\"text-align: right;\">\n",
       "      <th></th>\n",
       "      <th>标题</th>\n",
       "      <th>sentiments</th>\n",
       "    </tr>\n",
       "  </thead>\n",
       "  <tbody>\n",
       "    <tr>\n",
       "      <th>100</th>\n",
       "      <td>可怕！滴滴司机喝了几杯酒，钱没了车没了，尿检还呈阳性？！只因为…</td>\n",
       "      <td>0.000007</td>\n",
       "    </tr>\n",
       "    <tr>\n",
       "      <th>268</th>\n",
       "      <td>突发!\"千万别倒车!\"杭州街头一电瓶车被卷进半挂车,听到路人狂喊司机吓得从车上滚下来...</td>\n",
       "      <td>0.000038</td>\n",
       "    </tr>\n",
       "    <tr>\n",
       "      <th>47</th>\n",
       "      <td>115斤美女相亲被拒，怒减30多斤！结果4个月后出门都得带着尿不湿……</td>\n",
       "      <td>0.000091</td>\n",
       "    </tr>\n",
       "    <tr>\n",
       "      <th>110</th>\n",
       "      <td>花2万多请来特级月嫂，照料后，宝宝收到病危通知单……</td>\n",
       "      <td>0.000495</td>\n",
       "    </tr>\n",
       "    <tr>\n",
       "      <th>402</th>\n",
       "      <td>西安高新一中与榆林高新完全中学签订合作办学协议</td>\n",
       "      <td>0.000583</td>\n",
       "    </tr>\n",
       "    <tr>\n",
       "      <th>45</th>\n",
       "      <td>定了！非广州号牌7月1日起\"开四停四\"！这个神器能帮你算日期</td>\n",
       "      <td>0.000709</td>\n",
       "    </tr>\n",
       "    <tr>\n",
       "      <th>127</th>\n",
       "      <td>最担心的事情发生了：睡觉时蟑螂爬进耳朵，还生下后代！</td>\n",
       "      <td>0.000765</td>\n",
       "    </tr>\n",
       "    <tr>\n",
       "      <th>245</th>\n",
       "      <td>以为是感冒，治疗半月不见好，一查竟染上“懒汉病”！跟他常接触这些有关....</td>\n",
       "      <td>0.001599</td>\n",
       "    </tr>\n",
       "    <tr>\n",
       "      <th>58</th>\n",
       "      <td>紧急提醒！朋友圈这条消息千万别点，已经有人上当</td>\n",
       "      <td>0.001653</td>\n",
       "    </tr>\n",
       "    <tr>\n",
       "      <th>250</th>\n",
       "      <td>吓人!随手拍了下,浙江一婴儿几乎毁容!这种常见的虫子千万不能拍死!应该...</td>\n",
       "      <td>0.002409</td>\n",
       "    </tr>\n",
       "  </tbody>\n",
       "</table>\n",
       "</div>"
      ],
      "text/plain": [
       "                                                标题  sentiments\n",
       "100               可怕！滴滴司机喝了几杯酒，钱没了车没了，尿检还呈阳性？！只因为…    0.000007\n",
       "268  突发!\"千万别倒车!\"杭州街头一电瓶车被卷进半挂车,听到路人狂喊司机吓得从车上滚下来...    0.000038\n",
       "47             115斤美女相亲被拒，怒减30多斤！结果4个月后出门都得带着尿不湿……    0.000091\n",
       "110                     花2万多请来特级月嫂，照料后，宝宝收到病危通知单……    0.000495\n",
       "402                        西安高新一中与榆林高新完全中学签订合作办学协议    0.000583\n",
       "45                  定了！非广州号牌7月1日起\"开四停四\"！这个神器能帮你算日期    0.000709\n",
       "127                     最担心的事情发生了：睡觉时蟑螂爬进耳朵，还生下后代！    0.000765\n",
       "245         以为是感冒，治疗半月不见好，一查竟染上“懒汉病”！跟他常接触这些有关....    0.001599\n",
       "58                         紧急提醒！朋友圈这条消息千万别点，已经有人上当    0.001653\n",
       "250         吓人!随手拍了下,浙江一婴儿几乎毁容!这种常见的虫子千万不能拍死!应该...    0.002409"
      ]
     },
     "execution_count": 38,
     "metadata": {},
     "output_type": "execute_result"
    }
   ],
   "source": [
    "df_new.sort_values(\"sentiments\")[[\"标题\",\"sentiments\"]].head(10)"
   ]
  },
  {
   "cell_type": "code",
   "execution_count": 41,
   "metadata": {},
   "outputs": [
    {
     "data": {
      "text/plain": [
       "<matplotlib.axes._subplots.AxesSubplot at 0x264d55ee0c8>"
      ]
     },
     "execution_count": 41,
     "metadata": {},
     "output_type": "execute_result"
    },
    {
     "data": {
      "image/png": "[encoded data removed]",
      "text/plain": [
       "<Figure size 432x288 with 1 Axes>"
      ]
     },
     "metadata": {
      "needs_background": "light"
     },
     "output_type": "display_data"
    }
   ],
   "source": [
    "sns.regplot(x = \"sentiments\", y = \"点赞数\",data = df_new, fit_reg=False)"
   ]
  },
  {
   "cell_type": "code",
   "execution_count": 40,
   "metadata": {},
   "outputs": [
    {
     "data": {
      "text/html": [
       "<div>\n",
       "<style scoped>\n",
       "    .dataframe tbody tr th:only-of-type {\n",
       "        vertical-align: middle;\n",
       "    }\n",
       "\n",
       "    .dataframe tbody tr th {\n",
       "        vertical-align: top;\n",
       "    }\n",
       "\n",
       "    .dataframe thead th {\n",
       "        text-align: right;\n",
       "    }\n",
       "</style>\n",
       "<table border=\"1\" class=\"dataframe\">\n",
       "  <thead>\n",
       "    <tr style=\"text-align: right;\">\n",
       "      <th></th>\n",
       "      <th>点赞数</th>\n",
       "      <th>sentiments</th>\n",
       "    </tr>\n",
       "  </thead>\n",
       "  <tbody>\n",
       "    <tr>\n",
       "      <th>点赞数</th>\n",
       "      <td>1.000000</td>\n",
       "      <td>-0.019794</td>\n",
       "    </tr>\n",
       "    <tr>\n",
       "      <th>sentiments</th>\n",
       "      <td>-0.019794</td>\n",
       "      <td>1.000000</td>\n",
       "    </tr>\n",
       "  </tbody>\n",
       "</table>\n",
       "</div>"
      ],
      "text/plain": [
       "                 点赞数  sentiments\n",
       "点赞数         1.000000   -0.019794\n",
       "sentiments -0.019794    1.000000"
      ]
     },
     "execution_count": 40,
     "metadata": {},
     "output_type": "execute_result"
    }
   ],
   "source": [
    "df_new[[\"点赞数\",\"sentiments\"]].corr()"
   ]
  },
  {
   "cell_type": "code",
   "execution_count": 42,
   "metadata": {},
   "outputs": [],
   "source": [
    "def good_news(var):\n",
    "    if var >= 0.5:\n",
    "        return \"yes\"\n",
    "    else:\n",
    "        return \"no\""
   ]
  },
  {
   "cell_type": "code",
   "execution_count": 44,
   "metadata": {
    "collapsed": true,
    "jupyter": {
     "outputs_hidden": true
    }
   },
   "outputs": [
    {
     "data": {
      "text/html": [
       "<div>\n",
       "<style scoped>\n",
       "    .dataframe tbody tr th:only-of-type {\n",
       "        vertical-align: middle;\n",
       "    }\n",
       "\n",
       "    .dataframe tbody tr th {\n",
       "        vertical-align: top;\n",
       "    }\n",
       "\n",
       "    .dataframe thead th {\n",
       "        text-align: right;\n",
       "    }\n",
       "</style>\n",
       "<table border=\"1\" class=\"dataframe\">\n",
       "  <thead>\n",
       "    <tr style=\"text-align: right;\">\n",
       "      <th></th>\n",
       "      <th>城市</th>\n",
       "      <th>公众号</th>\n",
       "      <th>帐号名</th>\n",
       "      <th>标题</th>\n",
       "      <th>摘要</th>\n",
       "      <th>URL</th>\n",
       "      <th>发布时间</th>\n",
       "      <th>阅读数</th>\n",
       "      <th>点赞数</th>\n",
       "      <th>文章序号</th>\n",
       "      <th>是否原创</th>\n",
       "      <th>sentiments</th>\n",
       "      <th>good_news</th>\n",
       "    </tr>\n",
       "  </thead>\n",
       "  <tbody>\n",
       "    <tr>\n",
       "      <th>0</th>\n",
       "      <td>达州</td>\n",
       "      <td>达州日报</td>\n",
       "      <td>dzrbdzwb</td>\n",
       "      <td>致敬最美逆行者！达州感谢你们！</td>\n",
       "      <td>'致敬最美逆行者！达州感谢你们！</td>\n",
       "      <td>http://mp.weixin.qq.com/s?__biz=MzAwMTEyMjY4Mw...</td>\n",
       "      <td>2018-06-04 17:07:46</td>\n",
       "      <td>100001</td>\n",
       "      <td>3156</td>\n",
       "      <td>1</td>\n",
       "      <td>否</td>\n",
       "      <td>0.986613</td>\n",
       "      <td>yes</td>\n",
       "    </tr>\n",
       "    <tr>\n",
       "      <th>1</th>\n",
       "      <td>达州</td>\n",
       "      <td>达州日报</td>\n",
       "      <td>dzrbdzwb</td>\n",
       "      <td>通川区塔沱市场火灾扑救最新情况通报</td>\n",
       "      <td>'目前，高喷车、举高车、车载水炮等消防装备，已形成合围之势，阻止火势向毗邻建筑蔓延，将其控制...</td>\n",
       "      <td>http://mp.weixin.qq.com/s?__biz=MzAwMTEyMjY4Mw...</td>\n",
       "      <td>2018-06-03 16:26:55</td>\n",
       "      <td>100001</td>\n",
       "      <td>1874</td>\n",
       "      <td>1</td>\n",
       "      <td>否</td>\n",
       "      <td>0.049347</td>\n",
       "      <td>no</td>\n",
       "    </tr>\n",
       "    <tr>\n",
       "      <th>2</th>\n",
       "      <td>广州</td>\n",
       "      <td>广州日报</td>\n",
       "      <td>guangzhoudaily</td>\n",
       "      <td>汕头大学毕业礼太炫酷，李嘉诚第17次亲临致辞！他宣布了一个决定</td>\n",
       "      <td>'祝汕头大学越来越好</td>\n",
       "      <td>http://mp.weixin.qq.com/s?__biz=MjM5MjA0MDk2MA...</td>\n",
       "      <td>2018-06-29 10:29:10</td>\n",
       "      <td>100001</td>\n",
       "      <td>1385</td>\n",
       "      <td>1</td>\n",
       "      <td>否</td>\n",
       "      <td>0.986362</td>\n",
       "      <td>yes</td>\n",
       "    </tr>\n",
       "    <tr>\n",
       "      <th>3</th>\n",
       "      <td>青岛</td>\n",
       "      <td>青岛日报</td>\n",
       "      <td>qddaily</td>\n",
       "      <td>定了！明晚9点，上合灯光焰火秀震撼上演！（附超全峰会剧透）</td>\n",
       "      <td>'信息量很大！青岛人，转起来！</td>\n",
       "      <td>http://mp.weixin.qq.com/s?__biz=MjM5NTE1NDcwMw...</td>\n",
       "      <td>2018-06-08 14:47:51</td>\n",
       "      <td>100001</td>\n",
       "      <td>1255</td>\n",
       "      <td>1</td>\n",
       "      <td>否</td>\n",
       "      <td>0.962844</td>\n",
       "      <td>yes</td>\n",
       "    </tr>\n",
       "    <tr>\n",
       "      <th>4</th>\n",
       "      <td>江门</td>\n",
       "      <td>江门日报</td>\n",
       "      <td>jm_daily</td>\n",
       "      <td>多图！江门暴雨中的动人瞬间，让人热泪盈眶！一起把大爱温情传递出去</td>\n",
       "      <td>'100001+</td>\n",
       "      <td>http://mp.weixin.qq.com/s?__biz=MzA3NDM2NzkyMg...</td>\n",
       "      <td>2018-06-08 12:45:34</td>\n",
       "      <td>100001</td>\n",
       "      <td>1218</td>\n",
       "      <td>1</td>\n",
       "      <td>否</td>\n",
       "      <td>0.999998</td>\n",
       "      <td>yes</td>\n",
       "    </tr>\n",
       "    <tr>\n",
       "      <th>...</th>\n",
       "      <td>...</td>\n",
       "      <td>...</td>\n",
       "      <td>...</td>\n",
       "      <td>...</td>\n",
       "      <td>...</td>\n",
       "      <td>...</td>\n",
       "      <td>...</td>\n",
       "      <td>...</td>\n",
       "      <td>...</td>\n",
       "      <td>...</td>\n",
       "      <td>...</td>\n",
       "      <td>...</td>\n",
       "      <td>...</td>\n",
       "    </tr>\n",
       "    <tr>\n",
       "      <th>495</th>\n",
       "      <td>黑河</td>\n",
       "      <td>今日黑河</td>\n",
       "      <td>jrhh0456</td>\n",
       "      <td>黑河花车巡游燃爆通江路！没看过瘾，明天接着看！</td>\n",
       "      <td>'精彩提前看</td>\n",
       "      <td>http://mp.weixin.qq.com/s?__biz=MzAwMDM4MTEyOQ...</td>\n",
       "      <td>2018-06-27 16:38:32</td>\n",
       "      <td>30425</td>\n",
       "      <td>80</td>\n",
       "      <td>1</td>\n",
       "      <td>是</td>\n",
       "      <td>0.954061</td>\n",
       "      <td>yes</td>\n",
       "    </tr>\n",
       "    <tr>\n",
       "      <th>496</th>\n",
       "      <td>松原</td>\n",
       "      <td>松原日报</td>\n",
       "      <td>songyuandaily</td>\n",
       "      <td>我市优秀考生出炉！ 刘奥然697分（理科）王楚626分（文科）</td>\n",
       "      <td>'</td>\n",
       "      <td>http://mp.weixin.qq.com/s?__biz=MzA5MDQwMTE3MA...</td>\n",
       "      <td>2018-06-23 17:38:35</td>\n",
       "      <td>30369</td>\n",
       "      <td>71</td>\n",
       "      <td>1</td>\n",
       "      <td>是</td>\n",
       "      <td>0.991881</td>\n",
       "      <td>yes</td>\n",
       "    </tr>\n",
       "    <tr>\n",
       "      <th>497</th>\n",
       "      <td>梅州</td>\n",
       "      <td>梅州日报</td>\n",
       "      <td>mzrbweixin</td>\n",
       "      <td>梅州高考学霸天团亮相！高分秘籍大公开！</td>\n",
       "      <td>'围观！</td>\n",
       "      <td>http://mp.weixin.qq.com/s?__biz=MjM5MTAwMTMzOA...</td>\n",
       "      <td>2018-06-25 18:17:54</td>\n",
       "      <td>30339</td>\n",
       "      <td>76</td>\n",
       "      <td>2</td>\n",
       "      <td>是</td>\n",
       "      <td>0.898945</td>\n",
       "      <td>yes</td>\n",
       "    </tr>\n",
       "    <tr>\n",
       "      <th>498</th>\n",
       "      <td>福州</td>\n",
       "      <td>福州日报</td>\n",
       "      <td>fuzhouribao</td>\n",
       "      <td>重磅！福州四环时代真的要来了！这些区域迎来大机遇！“世界第二”大桥顺利合龙！</td>\n",
       "      <td>'啊~四环~你比三环多一环~</td>\n",
       "      <td>http://mp.weixin.qq.com/s?__biz=MzA3NzY1MjIwNA...</td>\n",
       "      <td>2018-06-11 20:30:21</td>\n",
       "      <td>30315</td>\n",
       "      <td>91</td>\n",
       "      <td>1</td>\n",
       "      <td>是</td>\n",
       "      <td>0.999018</td>\n",
       "      <td>yes</td>\n",
       "    </tr>\n",
       "    <tr>\n",
       "      <th>499</th>\n",
       "      <td>乌兰察布</td>\n",
       "      <td>乌兰察布日报</td>\n",
       "      <td>wlcbrbweixin</td>\n",
       "      <td>乌兰察布市荣获“中国最美养生休闲旅游城市”称号</td>\n",
       "      <td>'乌兰察布日报社新媒体中心 微信ID：wlcbrbweixin</td>\n",
       "      <td>http://mp.weixin.qq.com/s?__biz=MzA3MTU2MTUxNw...</td>\n",
       "      <td>2018-06-02 14:34:05</td>\n",
       "      <td>29803</td>\n",
       "      <td>160</td>\n",
       "      <td>1</td>\n",
       "      <td>是</td>\n",
       "      <td>0.972422</td>\n",
       "      <td>yes</td>\n",
       "    </tr>\n",
       "  </tbody>\n",
       "</table>\n",
       "<p>500 rows × 13 columns</p>\n",
       "</div>"
      ],
      "text/plain": [
       "       城市     公众号             帐号名                                      标题  \\\n",
       "0      达州    达州日报        dzrbdzwb                         致敬最美逆行者！达州感谢你们！   \n",
       "1      达州    达州日报        dzrbdzwb                       通川区塔沱市场火灾扑救最新情况通报   \n",
       "2      广州    广州日报  guangzhoudaily         汕头大学毕业礼太炫酷，李嘉诚第17次亲临致辞！他宣布了一个决定   \n",
       "3      青岛    青岛日报         qddaily           定了！明晚9点，上合灯光焰火秀震撼上演！（附超全峰会剧透）   \n",
       "4      江门    江门日报        jm_daily        多图！江门暴雨中的动人瞬间，让人热泪盈眶！一起把大爱温情传递出去   \n",
       "..    ...     ...             ...                                     ...   \n",
       "495    黑河    今日黑河        jrhh0456                 黑河花车巡游燃爆通江路！没看过瘾，明天接着看！   \n",
       "496    松原    松原日报   songyuandaily         我市优秀考生出炉！ 刘奥然697分（理科）王楚626分（文科）   \n",
       "497    梅州    梅州日报      mzrbweixin                     梅州高考学霸天团亮相！高分秘籍大公开！   \n",
       "498    福州    福州日报     fuzhouribao  重磅！福州四环时代真的要来了！这些区域迎来大机遇！“世界第二”大桥顺利合龙！   \n",
       "499  乌兰察布  乌兰察布日报    wlcbrbweixin                 乌兰察布市荣获“中国最美养生休闲旅游城市”称号   \n",
       "\n",
       "                                                    摘要  \\\n",
       "0                                     '致敬最美逆行者！达州感谢你们！   \n",
       "1    '目前，高喷车、举高车、车载水炮等消防装备，已形成合围之势，阻止火势向毗邻建筑蔓延，将其控制...   \n",
       "2                                           '祝汕头大学越来越好   \n",
       "3                                      '信息量很大！青岛人，转起来！   \n",
       "4                                             '100001+   \n",
       "..                                                 ...   \n",
       "495                                             '精彩提前看   \n",
       "496                                                  '   \n",
       "497                                               '围观！   \n",
       "498                                     '啊~四环~你比三环多一环~   \n",
       "499                    '乌兰察布日报社新媒体中心 微信ID：wlcbrbweixin   \n",
       "\n",
       "                                                   URL                 发布时间  \\\n",
       "0    http://mp.weixin.qq.com/s?__biz=MzAwMTEyMjY4Mw...  2018-06-04 17:07:46   \n",
       "1    http://mp.weixin.qq.com/s?__biz=MzAwMTEyMjY4Mw...  2018-06-03 16:26:55   \n",
       "2    http://mp.weixin.qq.com/s?__biz=MjM5MjA0MDk2MA...  2018-06-29 10:29:10   \n",
       "3    http://mp.weixin.qq.com/s?__biz=MjM5NTE1NDcwMw...  2018-06-08 14:47:51   \n",
       "4    http://mp.weixin.qq.com/s?__biz=MzA3NDM2NzkyMg...  2018-06-08 12:45:34   \n",
       "..                                                 ...                  ...   \n",
       "495  http://mp.weixin.qq.com/s?__biz=MzAwMDM4MTEyOQ...  2018-06-27 16:38:32   \n",
       "496  http://mp.weixin.qq.com/s?__biz=MzA5MDQwMTE3MA...  2018-06-23 17:38:35   \n",
       "497  http://mp.weixin.qq.com/s?__biz=MjM5MTAwMTMzOA...  2018-06-25 18:17:54   \n",
       "498  http://mp.weixin.qq.com/s?__biz=MzA3NzY1MjIwNA...  2018-06-11 20:30:21   \n",
       "499  http://mp.weixin.qq.com/s?__biz=MzA3MTU2MTUxNw...  2018-06-02 14:34:05   \n",
       "\n",
       "        阅读数   点赞数  文章序号 是否原创  sentiments good_news  \n",
       "0    100001  3156     1    否    0.986613       yes  \n",
       "1    100001  1874     1    否    0.049347        no  \n",
       "2    100001  1385     1    否    0.986362       yes  \n",
       "3    100001  1255     1    否    0.962844       yes  \n",
       "4    100001  1218     1    否    0.999998       yes  \n",
       "..      ...   ...   ...  ...         ...       ...  \n",
       "495   30425    80     1    是    0.954061       yes  \n",
       "496   30369    71     1    是    0.991881       yes  \n",
       "497   30339    76     2    是    0.898945       yes  \n",
       "498   30315    91     1    是    0.999018       yes  \n",
       "499   29803   160     1    是    0.972422       yes  \n",
       "\n",
       "[500 rows x 13 columns]"
      ]
     },
     "execution_count": 44,
     "metadata": {},
     "output_type": "execute_result"
    }
   ],
   "source": [
    "df_new[\"good_news\"] = df_new[\"sentiments\"].apply(good_news)\n",
    "df_new"
   ]
  },
  {
   "cell_type": "code",
   "execution_count": 46,
   "metadata": {},
   "outputs": [],
   "source": [
    "df_good_news = df_new[df_new.good_news == \"yes\"]\n",
    "df_bad_news = df_new[df_new.good_news == \"no\"]"
   ]
  },
  {
   "cell_type": "code",
   "execution_count": 47,
   "metadata": {},
   "outputs": [
    {
     "data": {
      "text/plain": [
       "<matplotlib.axes._subplots.AxesSubplot at 0x264d5723388>"
      ]
     },
     "execution_count": 47,
     "metadata": {},
     "output_type": "execute_result"
    },
    {
     "data": {
      "image/png": "[encoded data removed]",
      "text/plain": [
       "<Figure size 432x288 with 1 Axes>"
      ]
     },
     "metadata": {
      "needs_background": "light"
     },
     "output_type": "display_data"
    }
   ],
   "source": [
    "sns.regplot(x = \"sentiments\", y = \"点赞数\",data = df_good_news)"
   ]
  },
  {
   "cell_type": "code",
   "execution_count": 49,
   "metadata": {},
   "outputs": [
    {
     "data": {
      "text/html": [
       "<div>\n",
       "<style scoped>\n",
       "    .dataframe tbody tr th:only-of-type {\n",
       "        vertical-align: middle;\n",
       "    }\n",
       "\n",
       "    .dataframe tbody tr th {\n",
       "        vertical-align: top;\n",
       "    }\n",
       "\n",
       "    .dataframe thead th {\n",
       "        text-align: right;\n",
       "    }\n",
       "</style>\n",
       "<table border=\"1\" class=\"dataframe\">\n",
       "  <thead>\n",
       "    <tr style=\"text-align: right;\">\n",
       "      <th></th>\n",
       "      <th>点赞数</th>\n",
       "      <th>sentiments</th>\n",
       "    </tr>\n",
       "  </thead>\n",
       "  <tbody>\n",
       "    <tr>\n",
       "      <th>点赞数</th>\n",
       "      <td>1.000000</td>\n",
       "      <td>0.089371</td>\n",
       "    </tr>\n",
       "    <tr>\n",
       "      <th>sentiments</th>\n",
       "      <td>0.089371</td>\n",
       "      <td>1.000000</td>\n",
       "    </tr>\n",
       "  </tbody>\n",
       "</table>\n",
       "</div>"
      ],
      "text/plain": [
       "                 点赞数  sentiments\n",
       "点赞数         1.000000    0.089371\n",
       "sentiments  0.089371    1.000000"
      ]
     },
     "execution_count": 49,
     "metadata": {},
     "output_type": "execute_result"
    }
   ],
   "source": [
    "df_good_news[[\"点赞数\",\"sentiments\"]].corr()"
   ]
  },
  {
   "cell_type": "code",
   "execution_count": 48,
   "metadata": {},
   "outputs": [
    {
     "data": {
      "text/plain": [
       "<matplotlib.axes._subplots.AxesSubplot at 0x264d5794588>"
      ]
     },
     "execution_count": 48,
     "metadata": {},
     "output_type": "execute_result"
    },
    {
     "data": {
      "image/png": "[encoded data removed]",
      "text/plain": [
       "<Figure size 432x288 with 1 Axes>"
      ]
     },
     "metadata": {
      "needs_background": "light"
     },
     "output_type": "display_data"
    }
   ],
   "source": [
    "sns.regplot(x = \"sentiments\", y = \"点赞数\",data = df_bad_news)"
   ]
  },
  {
   "cell_type": "code",
   "execution_count": 50,
   "metadata": {},
   "outputs": [
    {
     "data": {
      "text/html": [
       "<div>\n",
       "<style scoped>\n",
       "    .dataframe tbody tr th:only-of-type {\n",
       "        vertical-align: middle;\n",
       "    }\n",
       "\n",
       "    .dataframe tbody tr th {\n",
       "        vertical-align: top;\n",
       "    }\n",
       "\n",
       "    .dataframe thead th {\n",
       "        text-align: right;\n",
       "    }\n",
       "</style>\n",
       "<table border=\"1\" class=\"dataframe\">\n",
       "  <thead>\n",
       "    <tr style=\"text-align: right;\">\n",
       "      <th></th>\n",
       "      <th>点赞数</th>\n",
       "      <th>sentiments</th>\n",
       "    </tr>\n",
       "  </thead>\n",
       "  <tbody>\n",
       "    <tr>\n",
       "      <th>点赞数</th>\n",
       "      <td>1.000000</td>\n",
       "      <td>-0.087174</td>\n",
       "    </tr>\n",
       "    <tr>\n",
       "      <th>sentiments</th>\n",
       "      <td>-0.087174</td>\n",
       "      <td>1.000000</td>\n",
       "    </tr>\n",
       "  </tbody>\n",
       "</table>\n",
       "</div>"
      ],
      "text/plain": [
       "                 点赞数  sentiments\n",
       "点赞数         1.000000   -0.087174\n",
       "sentiments -0.087174    1.000000"
      ]
     },
     "execution_count": 50,
     "metadata": {},
     "output_type": "execute_result"
    }
   ],
   "source": [
    "df_bad_news[[\"点赞数\",\"sentiments\"]].corr()"
   ]
  },
  {
   "cell_type": "markdown",
   "metadata": {},
   "source": [
    "# 主题建模"
   ]
  },
  {
   "cell_type": "code",
   "execution_count": 4,
   "metadata": {},
   "outputs": [],
   "source": [
    "import jieba\n",
    "from sklearn.feature_extraction.text import TfidfVectorizer, CountVectorizer"
   ]
  },
  {
   "cell_type": "code",
   "execution_count": 5,
   "metadata": {},
   "outputs": [],
   "source": [
    "def chinese_word_cut(mytext):\n",
    "    return \" \".join(jieba.cut(mytext))"
   ]
  },
  {
   "cell_type": "code",
   "execution_count": 6,
   "metadata": {},
   "outputs": [
    {
     "name": "stderr",
     "output_type": "stream",
     "text": [
      "Building prefix dict from the default dictionary ...\n",
      "Loading model from cache C:\\Users\\lin\\AppData\\Local\\Temp\\jieba.cache\n",
      "Loading model cost 0.784 seconds.\n",
      "Prefix dict has been built successfully.\n"
     ]
    }
   ],
   "source": [
    "df[\"content_cutted\"] = df[\"标题\"].apply(chinese_word_cut)"
   ]
  },
  {
   "cell_type": "code",
   "execution_count": 7,
   "metadata": {},
   "outputs": [
    {
     "data": {
      "text/plain": [
       "0                              致敬 最美 逆 行者 ！ 达州 感谢 你们 ！\n",
       "1                              通川区 塔沱 市场 火灾 扑救 最新 情况通报\n",
       "2       汕头大学 毕业 礼太炫酷 ， 李嘉诚 第 17 次 亲临 致辞 ！ 他 宣布 了 一个 决定\n",
       "3      定 了 ！ 明晚 9 点 ， 上合 灯光 焰火 秀 震撼 上演 ！ （ 附超全 峰会 剧透 ）\n",
       "4    多图 ！ 江门 暴雨 中 的 动人 瞬间 ， 让 人 热泪盈眶 ！ 一起 把 大爱 温情 传...\n",
       "5    国家 刚刚 公布 422 个 先进县 （ 市 、 区 ） 名单 ！ 咱省 有 10 个 地方...\n",
       "6           浙江 这种 馒头 出事 了 ! 几十名 摊主 被 抓 ! 杭州人 请 注意 甄别 …\n",
       "7     女子 在 银行 存 1100 万 ， 取钱 时 柜员 递 出 一张 纸 ， 写 着 公安局 地址\n",
       "8                   在 狂风暴雨 中 高考 ， 这些 镜头 温暖 了 每 一个 广州 人\n",
       "9    习近平 宣布 重大 决定 ！ 青岛 迎来 重磅 利好 ！ （ 附 习近平 上合 峰会 10 ...\n",
       "Name: content_cutted, dtype: object"
      ]
     },
     "execution_count": 7,
     "metadata": {},
     "output_type": "execute_result"
    }
   ],
   "source": [
    "df[\"content_cutted\"].head(10)"
   ]
  },
  {
   "cell_type": "code",
   "execution_count": 8,
   "metadata": {},
   "outputs": [],
   "source": [
    "n_features = 1000\n",
    "\n",
    "tf_vectorizer = CountVectorizer(strip_accents = 'unicode',\n",
    "                                max_features=n_features,\n",
    "                                stop_words='english',\n",
    "                                max_df = 0.5,\n",
    "                                min_df = 10)\n",
    "tf = tf_vectorizer.fit_transform(df.content_cutted)"
   ]
  },
  {
   "cell_type": "code",
   "execution_count": 9,
   "metadata": {},
   "outputs": [],
   "source": [
    "from sklearn.decomposition import LatentDirichletAllocation\n"
   ]
  },
  {
   "cell_type": "code",
   "execution_count": null,
   "metadata": {},
   "outputs": [],
   "source": [
    "n_components = 4\n",
    "lda = LatentDirichletAllocation(n_components = n_components, max_iter=50,\n",
    "                                learning_method='online',\n",
    "                                learning_offset=50.,\n",
    "                                random_state=0)"
   ]
  },
  {
   "cell_type": "code",
   "execution_count": 11,
   "metadata": {},
   "outputs": [
    {
     "data": {
      "text/plain": [
       "LatentDirichletAllocation(learning_method='online', learning_offset=50.0,\n",
       "                          max_iter=50, n_components=5, random_state=0)"
      ]
     },
     "execution_count": 11,
     "metadata": {},
     "output_type": "execute_result"
    }
   ],
   "source": [
    "lda.fit(tf)"
   ]
  },
  {
   "cell_type": "code",
   "execution_count": 12,
   "metadata": {},
   "outputs": [],
   "source": [
    "def print_top_words(model, feature_names, n_top_words):\n",
    "    for topic_idx, topic in enumerate(model.components_):\n",
    "        print(\"Topic #%d:\" % topic_idx)\n",
    "        print(\" \".join([feature_names[i]\n",
    "                        for i in topic.argsort()[:-n_top_words - 1:-1]]))\n",
    "    print()"
   ]
  },
  {
   "cell_type": "code",
   "execution_count": 13,
   "metadata": {},
   "outputs": [],
   "source": [
    "n_top_words = 20\n"
   ]
  },
  {
   "cell_type": "code",
   "execution_count": 14,
   "metadata": {},
   "outputs": [
    {
     "name": "stdout",
     "output_type": "stream",
     "text": [
      "Topic #0:\n",
      "高考 2018 出炉 分数线 理科 公布 文科 快讯 刚刚 广东 看看 发布 重磅 青海 注意 今年 这样 这些 他们 江门\n",
      "Topic #1:\n",
      "杭州 孩子 妈妈 家长 这样 他们 注意 崩溃 真相 女儿 看看 这种 医生 明天 一定 重磅 发现 广东 男子 快讯\n",
      "Topic #2:\n",
      "女子 湛江 高铁 江门 明天 这个 医生 今年 发现 真相 广东 暴雨 这样 他们 广州 千万别 这种 出炉 注意 看看\n",
      "Topic #3:\n",
      "青岛 今天 暴雨 上合 峰会 结果 千万别 发布 重磅 这种 女儿 明天 公布 这些 这样 这个 孩子 注意 真相 青海\n",
      "Topic #4:\n",
      "男子 这些 这个 一个 广州 新闻 发现 广东 一定 今年 青海 医生 崩溃 注意 真相 重磅 这样 千万别 暴雨 高考\n",
      "\n"
     ]
    }
   ],
   "source": [
    "tf_feature_names = tf_vectorizer.get_feature_names()\n",
    "print_top_words(lda, tf_feature_names, n_top_words)"
   ]
  },
  {
   "cell_type": "code",
   "execution_count": 15,
   "metadata": {},
   "outputs": [
    {
     "name": "stderr",
     "output_type": "stream",
     "text": [
      "E:\\installation\\Anaconda\\lib\\site-packages\\past\\types\\oldstr.py:5: DeprecationWarning: Using or importing the ABCs from 'collections' instead of from 'collections.abc' is deprecated, and in 3.8 it will stop working\n",
      "  from collections import Iterable\n"
     ]
    },
    {
     "data": {
      "text/html": [
       "\n",
       "<link rel=\"stylesheet\" type=\"text/css\" href=\"https://cdn.rawgit.com/bmabey/pyLDAvis/files/ldavis.v1.0.0.css\">\n",
       "\n",
       "\n",
       "<div id=\"ldavis_el1107222863199473367709876660\"></div>\n",
       "<script type=\"text/javascript\">\n",
       "\n",
       "var ldavis_el1107222863199473367709876660_data = {\"mdsDat\": {\"x\": [-0.3111824973250716, 0.08141413645893486, -0.13961550973335612, 0.17937422180839352, 0.19000964879109905], \"y\": [0.19835439289652457, -0.17935603821769633, -0.24677566108922933, 0.13229966239635904, 0.09547764401404228], \"topics\": [1, 2, 3, 4, 5], \"cluster\": [1, 1, 1, 1, 1], \"Freq\": [28.624290359258353, 19.390868401453865, 19.33718740023745, 19.2310784486294, 13.416575390420938]}, \"tinfo\": {\"Term\": [\"\\u9ad8\\u8003\", \"\\u676d\\u5dde\", \"\\u5973\\u5b50\", \"\\u9752\\u5c9b\", \"\\u6e5b\\u6c5f\", \"\\u7537\\u5b50\", \"2018\", \"\\u9ad8\\u94c1\", \"\\u8fd9\\u4e9b\", \"\\u6c5f\\u95e8\", \"\\u5b69\\u5b50\", \"\\u8fd9\\u4e2a\", \"\\u51fa\\u7089\", \"\\u4eca\\u5929\", \"\\u66b4\\u96e8\", \"\\u5988\\u5988\", \"\\u4e0a\\u5408\", \"\\u4e00\\u4e2a\", \"\\u5cf0\\u4f1a\", \"\\u5206\\u6570\\u7ebf\", \"\\u5bb6\\u957f\", \"\\u5e7f\\u5dde\", \"\\u7406\\u79d1\", \"\\u7ed3\\u679c\", \"\\u8fd9\\u6837\", \"\\u5343\\u4e07\\u522b\", \"\\u4ed6\\u4eec\", \"\\u6587\\u79d1\", \"\\u65b0\\u95fb\", \"\\u660e\\u5929\", \"\\u9ad8\\u8003\", \"2018\", \"\\u51fa\\u7089\", \"\\u5206\\u6570\\u7ebf\", \"\\u7406\\u79d1\", \"\\u6587\\u79d1\", \"\\u5feb\\u8baf\", \"\\u521a\\u521a\", \"\\u516c\\u5e03\", \"\\u770b\\u770b\", \"\\u5e7f\\u4e1c\", \"\\u53d1\\u5e03\", \"\\u9752\\u6d77\", \"\\u91cd\\u78c5\", \"\\u6ce8\\u610f\", \"\\u4eca\\u5e74\", \"\\u8fd9\\u6837\", \"\\u4ed6\\u4eec\", \"\\u65b0\\u95fb\", \"\\u4e00\\u5b9a\", \"\\u771f\\u76f8\", \"\\u5343\\u4e07\\u522b\", \"\\u7ed3\\u679c\", \"\\u5d29\\u6e83\", \"\\u5e7f\\u5dde\", \"\\u5bb6\\u957f\", \"\\u53d1\\u73b0\", \"\\u5973\\u513f\", \"\\u8fd9\\u79cd\", \"\\u6c5f\\u95e8\", \"\\u8fd9\\u4e9b\", \"\\u660e\\u5929\", \"\\u66b4\\u96e8\", \"\\u6e5b\\u6c5f\", \"\\u8fd9\\u4e2a\", \"\\u4eca\\u5929\", \"\\u4e00\\u4e2a\", \"\\u5b69\\u5b50\", \"\\u5988\\u5988\", \"\\u676d\\u5dde\", \"\\u5b69\\u5b50\", \"\\u5988\\u5988\", \"\\u5bb6\\u957f\", \"\\u4ed6\\u4eec\", \"\\u8fd9\\u6837\", \"\\u6ce8\\u610f\", \"\\u5d29\\u6e83\", \"\\u771f\\u76f8\", \"\\u770b\\u770b\", \"\\u5973\\u513f\", \"\\u8fd9\\u79cd\", \"\\u533b\\u751f\", \"\\u4e00\\u5b9a\", \"\\u660e\\u5929\", \"\\u91cd\\u78c5\", \"\\u53d1\\u73b0\", \"\\u65b0\\u95fb\", \"\\u9752\\u6d77\", \"\\u5343\\u4e07\\u522b\", \"\\u7ed3\\u679c\", \"\\u4eca\\u5e74\", \"\\u5e7f\\u5dde\", \"\\u521a\\u521a\", \"\\u5feb\\u8baf\", \"\\u53d1\\u5e03\", \"\\u5e7f\\u4e1c\", \"\\u5cf0\\u4f1a\", \"\\u6c5f\\u95e8\", \"\\u4e00\\u4e2a\", \"\\u66b4\\u96e8\", \"\\u7537\\u5b50\", \"\\u8fd9\\u4e9b\", \"\\u6e5b\\u6c5f\", \"\\u51fa\\u7089\", \"\\u8fd9\\u4e2a\", \"\\u5973\\u5b50\", \"\\u9752\\u5c9b\", \"\\u4eca\\u5929\", \"\\u4e0a\\u5408\", \"\\u66b4\\u96e8\", \"\\u5cf0\\u4f1a\", \"\\u7ed3\\u679c\", \"\\u5343\\u4e07\\u522b\", \"\\u53d1\\u5e03\", \"\\u91cd\\u78c5\", \"\\u8fd9\\u79cd\", \"\\u5973\\u513f\", \"\\u660e\\u5929\", \"\\u516c\\u5e03\", \"\\u8fd9\\u4e9b\", \"\\u8fd9\\u6837\", \"\\u9752\\u6d77\", \"\\u65b0\\u95fb\", \"\\u771f\\u76f8\", \"\\u4e00\\u5b9a\", \"\\u4ed6\\u4eec\", \"\\u770b\\u770b\", \"\\u5d29\\u6e83\", \"\\u4eca\\u5e74\", \"\\u5e7f\\u5dde\", \"\\u521a\\u521a\", \"\\u6ce8\\u610f\", \"\\u5bb6\\u957f\", \"\\u53d1\\u73b0\", \"\\u5feb\\u8baf\", \"\\u6c5f\\u95e8\", \"\\u8fd9\\u4e2a\", \"\\u5b69\\u5b50\", \"\\u5e7f\\u4e1c\", \"\\u7537\\u5b50\", \"\\u676d\\u5dde\", \"\\u9ad8\\u8003\", \"\\u9ad8\\u94c1\", \"\\u7537\\u5b50\", \"\\u4e00\\u4e2a\", \"\\u5e7f\\u5dde\", \"\\u65b0\\u95fb\", \"\\u8fd9\\u4e9b\", \"\\u8fd9\\u4e2a\", \"\\u53d1\\u73b0\", \"\\u4e00\\u5b9a\", \"\\u9752\\u6d77\", \"\\u4eca\\u5e74\", \"\\u5e7f\\u4e1c\", \"\\u533b\\u751f\", \"\\u5d29\\u6e83\", \"\\u771f\\u76f8\", \"\\u6ce8\\u610f\", \"\\u91cd\\u78c5\", \"\\u8fd9\\u6837\", \"\\u5343\\u4e07\\u522b\", \"\\u4ed6\\u4eec\", \"\\u7ed3\\u679c\", \"\\u770b\\u770b\", \"\\u66b4\\u96e8\", \"\\u521a\\u521a\", \"\\u5bb6\\u957f\", \"\\u5973\\u513f\", \"\\u5feb\\u8baf\", \"\\u8fd9\\u79cd\", \"\\u53d1\\u5e03\", \"\\u6c5f\\u95e8\", \"\\u5cf0\\u4f1a\", \"\\u9ad8\\u8003\", \"\\u5b69\\u5b50\", \"\\u676d\\u5dde\", \"\\u4eca\\u5929\", \"\\u5973\\u5b50\", \"\\u5973\\u5b50\", \"\\u6e5b\\u6c5f\", \"\\u9ad8\\u94c1\", \"\\u6c5f\\u95e8\", \"\\u660e\\u5929\", \"\\u4eca\\u5e74\", \"\\u533b\\u751f\", \"\\u771f\\u76f8\", \"\\u53d1\\u73b0\", \"\\u8fd9\\u4e2a\", \"\\u5e7f\\u4e1c\", \"\\u4ed6\\u4eec\", \"\\u65b0\\u95fb\", \"\\u9752\\u6d77\", \"\\u4e00\\u5b9a\", \"\\u8fd9\\u6837\", \"\\u5343\\u4e07\\u522b\", \"\\u770b\\u770b\", \"\\u7ed3\\u679c\", \"\\u5d29\\u6e83\", \"\\u5e7f\\u5dde\", \"\\u521a\\u521a\", \"\\u5bb6\\u957f\", \"\\u6ce8\\u610f\", \"\\u5973\\u513f\", \"\\u8fd9\\u79cd\", \"\\u5feb\\u8baf\", \"\\u53d1\\u5e03\", \"\\u91cd\\u78c5\", \"\\u5cf0\\u4f1a\", \"\\u66b4\\u96e8\", \"\\u4e00\\u4e2a\", \"\\u51fa\\u7089\", \"\\u5988\\u5988\", \"\\u4e0a\\u5408\", \"\\u4eca\\u5929\", \"\\u676d\\u5dde\", \"\\u9ad8\\u8003\", \"\\u9752\\u5c9b\"], \"Freq\": [61.0, 36.0, 24.0, 25.0, 20.0, 22.0, 30.0, 16.0, 23.0, 14.0, 17.0, 22.0, 23.0, 16.0, 16.0, 15.0, 14.0, 14.0, 13.0, 17.0, 11.0, 11.0, 16.0, 10.0, 11.0, 10.0, 10.0, 14.0, 9.0, 14.0, 60.349486635248915, 30.129164153817282, 22.356653482242276, 17.00278035795294, 15.47259196837484, 13.49137502279544, 11.348683475392432, 10.771299195117189, 14.140365498975607, 5.184200133130227, 5.2331915665794915, 4.00069290755366, 2.905486706794068, 3.2134413283219234, 1.225110084651014, 0.45977291205197307, 0.2312732758902512, 0.19971134451828373, 0.1903860117865733, 0.19013709786120597, 0.18977321184417117, 0.18967075624656438, 0.19056513970271338, 0.19062477108126644, 0.19110167793392777, 0.18971371934617812, 0.19166825523081762, 0.189837783882793, 0.18985859757376397, 0.19745436528525617, 0.20644658418687464, 0.19177937289390135, 0.19206822628120074, 0.19309365481899127, 0.1932367486424529, 0.19184434313897278, 0.19113206988222026, 0.19150902904192094, 0.19088245561486808, 36.01959809940775, 16.757154392313936, 14.46154420711714, 11.008251315617818, 9.489325602050126, 10.564171085552125, 8.379472373294325, 7.034104622414503, 5.583590509738918, 5.028058229860151, 5.086475224326935, 4.805662712049595, 4.617018274251802, 2.2202139837019157, 3.1592438884358782, 1.1198780446783065, 0.30519720112506116, 0.1868650243147015, 0.18593706499616813, 0.18705877660502443, 0.18659098140689875, 0.1861534115783188, 0.18625640229458404, 0.18591889592310487, 0.1900659579186278, 0.18631742184595818, 0.19569451240988497, 0.18567885617202903, 0.18619869716187515, 0.18696891726390483, 0.18915381960655228, 0.1918235854831782, 0.18755395328304023, 0.18694951542139165, 0.18673833888140712, 0.1866680341727314, 0.18655906875168343, 25.095150751646738, 15.322452590365097, 13.988999824371747, 15.294926384335596, 13.066805600729612, 10.087180309439843, 9.734860885239634, 8.804234930165325, 8.19003364515615, 6.935198900196662, 6.273376982120222, 4.91048392278799, 3.8878872664293076, 2.8171268186998084, 0.23216662813514055, 0.1936454623152344, 0.1921788465614172, 0.19546642688023988, 0.192131529446629, 0.19209335713827133, 0.19268164607502253, 0.1919098988291982, 0.19254620190317887, 0.1927691820641219, 0.1933000732551608, 0.1972171633920736, 0.1919425995989972, 0.19208080025693272, 0.19196726026072145, 0.19282850735502693, 0.21035588198078803, 0.1995986194998735, 0.19263929749794062, 0.1932039281387431, 0.19286788832413923, 0.19276532810938224, 0.19235197840257084, 21.93241868534718, 13.430047631647678, 10.669995739169872, 9.161604362147436, 20.226059611144084, 17.49214967402333, 8.744760303849933, 7.389052247152161, 6.503563723024649, 6.923621319843836, 7.451700674454467, 5.532423352554746, 3.255046778618932, 2.0125481821858857, 2.0475097557311073, 1.1135809167398207, 0.4010800788383163, 0.30157082888581926, 0.18347863712998339, 0.18246664669926843, 0.18148917645390839, 0.27149399058316875, 0.1827776155839854, 0.1831932304684291, 0.18252111435165452, 0.18145051978448581, 0.181335829643849, 0.1814326506941919, 0.18653411436708262, 0.1812723950361092, 0.23226388065539902, 0.18370826583638813, 0.18200181614735303, 0.18180038427412099, 0.18178770823285492, 24.02767691290337, 19.350742535116265, 15.455552194654395, 13.248005939614862, 6.4706495481350075, 3.520038543944218, 3.541446028738264, 2.374674208434547, 2.528040756230365, 4.705005689136906, 1.354927499857327, 0.23571200406387563, 0.22184600678718988, 0.22084776745947693, 0.22284355714928988, 0.25040681607476944, 0.22789264238102724, 0.22344596764313054, 0.22075544812607806, 0.2208944809501559, 0.22849153503327735, 0.22067653416893013, 0.22077228098889914, 0.2235707253272032, 0.220809410364638, 0.22705404008814792, 0.22084159551368726, 0.22087329785274692, 0.2225626120190244, 0.22156578004201086, 0.2526458152627664, 0.22236037925821572, 0.2243295456191855, 0.22232723335278323, 0.22183560181800202, 0.22166583229567363, 0.22303104998100085, 0.2223459089441751, 0.22218320274904757], \"Total\": [61.0, 36.0, 24.0, 25.0, 20.0, 22.0, 30.0, 16.0, 23.0, 14.0, 17.0, 22.0, 23.0, 16.0, 16.0, 15.0, 14.0, 14.0, 13.0, 17.0, 11.0, 11.0, 16.0, 10.0, 11.0, 10.0, 10.0, 14.0, 9.0, 14.0, 61.182673187058526, 30.90910899927238, 23.14131509939981, 17.7821483257588, 16.252216881946755, 14.271226039474678, 12.133008808869954, 11.553972314048371, 18.617007188831206, 10.80987515316244, 14.428153550799111, 13.393551208111882, 10.009480724589595, 13.859496546915226, 12.072880102395724, 11.282132389321525, 11.679097884490602, 10.30032094490054, 9.95288025159732, 10.214378415311202, 10.356052539083763, 10.64105388935807, 10.8675585253748, 10.892580551894055, 11.468614536495783, 11.793873146020323, 11.96174731669311, 11.953020515046243, 12.339110079552018, 14.011021623784103, 23.658214705997242, 14.913102382681599, 16.200288236069284, 20.103892271056445, 22.787416027956212, 16.10418406169088, 14.222584107779552, 17.552721989916225, 15.2485920387902, 36.808223391816114, 17.552721989916225, 15.2485920387902, 11.793873146020323, 10.30032094490054, 11.679097884490602, 12.072880102395724, 10.892580551894055, 10.356052539083763, 10.80987515316244, 11.953020515046243, 12.339110079552018, 14.073399019631012, 10.214378415311202, 14.913102382681599, 13.859496546915226, 11.96174731669311, 9.95288025159732, 10.009480724589595, 10.64105388935807, 10.8675585253748, 11.282132389321525, 11.468614536495783, 11.553972314048371, 12.133008808869954, 13.393551208111882, 14.428153550799111, 13.845360624445966, 14.011021623784103, 14.222584107779552, 16.200288236069284, 22.728116262255867, 23.658214705997242, 20.103892271056445, 23.14131509939981, 22.787416027956212, 24.778464039877054, 25.873994498547493, 16.10418406169088, 14.767063719931814, 16.200288236069284, 13.845360624445966, 10.8675585253748, 10.64105388935807, 13.393551208111882, 13.859496546915226, 12.339110079552018, 11.953020515046243, 14.913102382681599, 18.617007188831206, 23.658214705997242, 11.679097884490602, 10.009480724589595, 9.95288025159732, 10.356052539083763, 10.214378415311202, 10.30032094490054, 10.80987515316244, 10.892580551894055, 11.282132389321525, 11.468614536495783, 11.553972314048371, 12.072880102395724, 11.793873146020323, 11.96174731669311, 12.133008808869954, 14.011021623784103, 22.787416027956212, 17.552721989916225, 14.428153550799111, 22.728116262255867, 36.808223391816114, 61.182673187058526, 16.2048258819991, 22.728116262255867, 14.222584107779552, 11.468614536495783, 9.95288025159732, 23.658214705997242, 22.787416027956212, 11.96174731669311, 10.214378415311202, 10.009480724589595, 11.282132389321525, 14.428153550799111, 14.073399019631012, 10.892580551894055, 10.356052539083763, 12.072880102395724, 13.859496546915226, 11.679097884490602, 10.64105388935807, 10.30032094490054, 10.8675585253748, 10.80987515316244, 16.200288236069284, 11.553972314048371, 11.793873146020323, 11.953020515046243, 12.133008808869954, 12.339110079552018, 13.393551208111882, 14.011021623784103, 13.845360624445966, 61.182673187058526, 17.552721989916225, 36.808223391816114, 16.10418406169088, 24.778464039877054, 24.778464039877054, 20.103892271056445, 16.2048258819991, 14.011021623784103, 14.913102382681599, 11.282132389321525, 14.073399019631012, 10.356052539083763, 11.96174731669311, 22.787416027956212, 14.428153550799111, 10.30032094490054, 9.95288025159732, 10.009480724589595, 10.214378415311202, 11.679097884490602, 10.64105388935807, 10.80987515316244, 10.8675585253748, 10.892580551894055, 11.468614536495783, 11.553972314048371, 11.793873146020323, 12.072880102395724, 11.953020515046243, 12.339110079552018, 12.133008808869954, 13.393551208111882, 13.859496546915226, 13.845360624445966, 16.200288236069284, 14.222584107779552, 23.14131509939981, 15.2485920387902, 14.767063719931814, 16.10418406169088, 36.808223391816114, 61.182673187058526, 25.873994498547493], \"Category\": [\"Default\", \"Default\", \"Default\", \"Default\", \"Default\", \"Default\", \"Default\", \"Default\", \"Default\", \"Default\", \"Default\", \"Default\", \"Default\", \"Default\", \"Default\", \"Default\", \"Default\", \"Default\", \"Default\", \"Default\", \"Default\", \"Default\", \"Default\", \"Default\", \"Default\", \"Default\", \"Default\", \"Default\", \"Default\", \"Default\", \"Topic1\", \"Topic1\", \"Topic1\", \"Topic1\", \"Topic1\", \"Topic1\", \"Topic1\", \"Topic1\", \"Topic1\", \"Topic1\", \"Topic1\", \"Topic1\", \"Topic1\", \"Topic1\", \"Topic1\", \"Topic1\", \"Topic1\", \"Topic1\", \"Topic1\", \"Topic1\", \"Topic1\", \"Topic1\", \"Topic1\", \"Topic1\", \"Topic1\", \"Topic1\", \"Topic1\", \"Topic1\", \"Topic1\", \"Topic1\", \"Topic1\", \"Topic1\", \"Topic1\", \"Topic1\", \"Topic1\", \"Topic1\", \"Topic1\", \"Topic1\", \"Topic1\", \"Topic2\", \"Topic2\", \"Topic2\", \"Topic2\", \"Topic2\", \"Topic2\", \"Topic2\", \"Topic2\", \"Topic2\", \"Topic2\", \"Topic2\", \"Topic2\", \"Topic2\", \"Topic2\", \"Topic2\", \"Topic2\", \"Topic2\", \"Topic2\", \"Topic2\", \"Topic2\", \"Topic2\", \"Topic2\", \"Topic2\", \"Topic2\", \"Topic2\", \"Topic2\", \"Topic2\", \"Topic2\", \"Topic2\", \"Topic2\", \"Topic2\", \"Topic2\", \"Topic2\", \"Topic2\", \"Topic2\", \"Topic2\", \"Topic2\", \"Topic3\", \"Topic3\", \"Topic3\", \"Topic3\", \"Topic3\", \"Topic3\", \"Topic3\", \"Topic3\", \"Topic3\", \"Topic3\", \"Topic3\", \"Topic3\", \"Topic3\", \"Topic3\", \"Topic3\", \"Topic3\", \"Topic3\", \"Topic3\", \"Topic3\", \"Topic3\", \"Topic3\", \"Topic3\", \"Topic3\", \"Topic3\", \"Topic3\", \"Topic3\", \"Topic3\", \"Topic3\", \"Topic3\", \"Topic3\", \"Topic3\", \"Topic3\", \"Topic3\", \"Topic3\", \"Topic3\", \"Topic3\", \"Topic3\", \"Topic4\", \"Topic4\", \"Topic4\", \"Topic4\", \"Topic4\", \"Topic4\", \"Topic4\", \"Topic4\", \"Topic4\", \"Topic4\", \"Topic4\", \"Topic4\", \"Topic4\", \"Topic4\", \"Topic4\", \"Topic4\", \"Topic4\", \"Topic4\", \"Topic4\", \"Topic4\", \"Topic4\", \"Topic4\", \"Topic4\", \"Topic4\", \"Topic4\", \"Topic4\", \"Topic4\", \"Topic4\", \"Topic4\", \"Topic4\", \"Topic4\", \"Topic4\", \"Topic4\", \"Topic4\", \"Topic4\", \"Topic5\", \"Topic5\", \"Topic5\", \"Topic5\", \"Topic5\", \"Topic5\", \"Topic5\", \"Topic5\", \"Topic5\", \"Topic5\", \"Topic5\", \"Topic5\", \"Topic5\", \"Topic5\", \"Topic5\", \"Topic5\", \"Topic5\", \"Topic5\", \"Topic5\", \"Topic5\", \"Topic5\", \"Topic5\", \"Topic5\", \"Topic5\", \"Topic5\", \"Topic5\", \"Topic5\", \"Topic5\", \"Topic5\", \"Topic5\", \"Topic5\", \"Topic5\", \"Topic5\", \"Topic5\", \"Topic5\", \"Topic5\", \"Topic5\", \"Topic5\", \"Topic5\"], \"logprob\": [30.0, 29.0, 28.0, 27.0, 26.0, 25.0, 24.0, 23.0, 22.0, 21.0, 20.0, 19.0, 18.0, 17.0, 16.0, 15.0, 14.0, 13.0, 12.0, 11.0, 10.0, 9.0, 8.0, 7.0, 6.0, 5.0, 4.0, 3.0, 2.0, 1.0, -1.3082, -2.0029, -2.3013, -2.575, -2.6693, -2.8063, -2.9793, -3.0315, -2.7593, -3.7628, -3.7534, -4.0219, -4.3418, -4.241, -5.2053, -6.1854, -6.8725, -7.0193, -7.0671, -7.0684, -7.0703, -7.0708, -7.0661, -7.0658, -7.0633, -7.0706, -7.0604, -7.07, -7.0699, -7.0306, -6.9861, -7.0598, -7.0583, -7.053, -7.0522, -7.0595, -7.0632, -7.0612, -7.0645, -1.4349, -2.2001, -2.3474, -2.6203, -2.7688, -2.6615, -2.8931, -3.0682, -3.2991, -3.4039, -3.3923, -3.4491, -3.4892, -4.2213, -3.8686, -4.9057, -6.2057, -6.6963, -6.7013, -6.6953, -6.6978, -6.7001, -6.6996, -6.7014, -6.6793, -6.6992, -6.6501, -6.7027, -6.6999, -6.6957, -6.6841, -6.6701, -6.6926, -6.6958, -6.697, -6.6973, -6.6979, -1.7935, -2.2868, -2.3779, -2.2886, -2.4461, -2.7049, -2.7404, -2.8409, -2.9132, -3.0795, -3.1798, -3.4248, -3.6583, -3.9804, -6.4765, -6.6579, -6.6655, -6.6485, -6.6657, -6.6659, -6.6629, -6.6669, -6.6636, -6.6624, -6.6597, -6.6396, -6.6667, -6.666, -6.6666, -6.6621, -6.5751, -6.6276, -6.6631, -6.6602, -6.6619, -6.6624, -6.6646, -1.9227, -2.4132, -2.6432, -2.7956, -2.0037, -2.1489, -2.8422, -3.0107, -3.1383, -3.0757, -3.0022, -3.3, -3.8304, -4.3112, -4.294, -4.9031, -5.9242, -6.2094, -6.7063, -6.7118, -6.7172, -6.3145, -6.7101, -6.7079, -6.7115, -6.7174, -6.7181, -6.7175, -6.6898, -6.7184, -6.4705, -6.7051, -6.7144, -6.7155, -6.7156, -1.4714, -1.6879, -1.9126, -2.0668, -2.7833, -3.3921, -3.3861, -3.7858, -3.7232, -3.102, -4.3469, -6.0958, -6.1564, -6.1609, -6.1519, -6.0353, -6.1295, -6.1492, -6.1613, -6.1607, -6.1269, -6.1617, -6.1612, -6.1486, -6.1611, -6.1332, -6.1609, -6.1608, -6.1532, -6.1577, -6.0264, -6.1541, -6.1453, -6.1542, -6.1564, -6.1572, -6.1511, -6.1541, -6.1549], \"loglift\": [30.0, 29.0, 28.0, 27.0, 26.0, 25.0, 24.0, 23.0, 22.0, 21.0, 20.0, 19.0, 18.0, 17.0, 16.0, 15.0, 14.0, 13.0, 12.0, 11.0, 10.0, 9.0, 8.0, 7.0, 6.0, 5.0, 4.0, 3.0, 2.0, 1.0, 1.2372, 1.2254, 1.2164, 1.2061, 1.2018, 1.1947, 1.1841, 1.1808, 0.9759, 0.5161, 0.2368, 0.0426, 0.014, -0.2107, -1.037, -1.9493, -2.671, -2.6921, -2.7056, -2.7329, -2.7486, -2.7763, -2.7926, -2.7946, -2.8436, -2.8789, -2.8828, -2.8917, -2.9233, -3.0112, -3.4905, -3.1027, -3.184, -3.3946, -3.5191, -3.1792, -3.0587, -3.2671, -3.1297, 1.6187, 1.594, 1.5874, 1.5714, 1.5584, 1.54, 1.2752, 1.2031, 1.0226, 0.8749, 0.786, 0.6974, 0.5258, 0.1142, 0.0885, -0.8754, -2.0281, -2.3349, -2.3455, -2.4007, -2.4243, -2.464, -2.4799, -2.4891, -2.5159, -2.6347, -2.66, -2.6713, -2.6804, -2.6913, -2.8099, -3.1344, -3.197, -3.0375, -3.1793, -3.1643, -3.2486, 1.6126, 1.5934, 1.589, 1.5856, 1.5853, 1.5686, 1.5541, 1.2236, 1.1171, 1.067, 0.9985, 0.5323, 0.0769, -0.4849, -2.275, -2.3021, -2.3041, -2.3268, -2.3302, -2.3388, -2.384, -2.3957, -2.4275, -2.4427, -2.4474, -2.4713, -2.475, -2.4884, -2.5032, -2.6427, -3.042, -2.8335, -2.673, -3.1245, -3.6083, -4.117, -2.7906, 1.613, 1.5913, 1.5765, 1.5658, 1.4919, 1.3842, 1.3354, 1.3248, 1.2175, 1.1604, 0.9879, 0.715, 0.4408, 0.0105, -0.1257, -0.8727, -1.7228, -1.9148, -2.3792, -2.4383, -2.4384, -2.4402, -2.4979, -2.5162, -2.5332, -2.5541, -2.5715, -2.653, -2.6703, -2.6871, -3.9251, -2.911, -3.6608, -2.8353, -3.2662, 1.9779, 1.9705, 1.9613, 1.9527, 1.1737, 0.8439, 0.6289, 0.536, 0.4544, 0.4311, -0.3568, -1.7686, -1.795, -1.8051, -1.8164, -1.8338, -1.8349, -1.8704, -1.8878, -1.8895, -1.9072, -1.9494, -1.9695, -1.9803, -1.9828, -1.9867, -1.9976, -2.0963, -2.1228, -2.1263, -2.1521, -2.1496, -2.6276, -2.2194, -2.1895, -2.277, -3.0975, -3.6087, -2.7488]}, \"token.table\": {\"Topic\": [1, 4, 2, 4, 3, 3, 4, 5, 2, 1, 3, 1, 1, 1, 2, 4, 5, 3, 1, 3, 4, 5, 2, 3, 5, 2, 2, 2, 3, 2, 4, 1, 4, 5, 4, 1, 1, 4, 2, 3, 5, 3, 2, 5, 1, 2, 4, 5, 1, 4, 1, 2, 2, 4, 5, 3, 4, 5, 3, 4, 2, 2, 3, 1, 2, 3, 4, 3, 1, 4, 1, 5], \"Freq\": [0.9705876672377136, 0.9140392421999589, 0.1958024187748938, 0.6853084657121282, 0.9480557723268661, 0.9314349576817402, 0.620450085005691, 0.3545429057175377, 0.873759181693819, 0.7520005690495162, 0.21485730544271892, 0.9506806292340139, 0.9560149701020209, 0.952053518998414, 0.3552801986943943, 0.4263362384332732, 0.28422415895551545, 0.9397565414080671, 0.29865118950509384, 0.6719651763864611, 0.7523984382649623, 0.25079947942165415, 0.41830431008681795, 0.5019651721041816, 0.9685830389396115, 0.918117552386872, 0.9685107534755147, 0.9326876645024621, 0.9389426792572407, 0.6426392686885208, 0.2754168294379375, 0.3465446900322926, 0.48516256604520963, 0.06930893800645853, 0.9591393943004586, 0.9066176554622084, 0.9109238382211574, 0.9042608543949483, 0.20116538618308305, 0.3352756436384718, 0.4023307723661661, 0.9259094518209318, 0.9780423145335557, 0.9278409775581343, 0.08283027674577514, 0.6626422139662012, 0.1656605534915503, 0.9450906194595105, 0.9229510108656168, 0.9679640734914299, 0.4625400320684781, 0.4625400320684781, 0.5793713364581715, 0.1931237788193905, 0.1931237788193905, 0.9201698777743753, 0.7460257880552997, 0.21941934942802932, 0.12680584893159816, 0.8453723262106543, 0.9418535668416292, 0.4052156085620665, 0.5673018519868931, 0.2164580791116633, 0.07215269303722109, 0.5772215442977687, 0.07215269303722109, 0.9662211221929201, 0.29971584765932047, 0.6993369778717478, 0.9806698019970025, 0.9256501803368673], \"Term\": [\"2018\", \"\\u4e00\\u4e2a\", \"\\u4e00\\u5b9a\", \"\\u4e00\\u5b9a\", \"\\u4e0a\\u5408\", \"\\u4eca\\u5929\", \"\\u4eca\\u5e74\", \"\\u4eca\\u5e74\", \"\\u4ed6\\u4eec\", \"\\u516c\\u5e03\", \"\\u516c\\u5e03\", \"\\u51fa\\u7089\", \"\\u5206\\u6570\\u7ebf\", \"\\u521a\\u521a\", \"\\u533b\\u751f\", \"\\u533b\\u751f\", \"\\u533b\\u751f\", \"\\u5343\\u4e07\\u522b\", \"\\u53d1\\u5e03\", \"\\u53d1\\u5e03\", \"\\u53d1\\u73b0\", \"\\u53d1\\u73b0\", \"\\u5973\\u513f\", \"\\u5973\\u513f\", \"\\u5973\\u5b50\", \"\\u5988\\u5988\", \"\\u5b69\\u5b50\", \"\\u5bb6\\u957f\", \"\\u5cf0\\u4f1a\", \"\\u5d29\\u6e83\", \"\\u5d29\\u6e83\", \"\\u5e7f\\u4e1c\", \"\\u5e7f\\u4e1c\", \"\\u5e7f\\u4e1c\", \"\\u5e7f\\u5dde\", \"\\u5feb\\u8baf\", \"\\u6587\\u79d1\", \"\\u65b0\\u95fb\", \"\\u660e\\u5929\", \"\\u660e\\u5929\", \"\\u660e\\u5929\", \"\\u66b4\\u96e8\", \"\\u676d\\u5dde\", \"\\u6c5f\\u95e8\", \"\\u6ce8\\u610f\", \"\\u6ce8\\u610f\", \"\\u6ce8\\u610f\", \"\\u6e5b\\u6c5f\", \"\\u7406\\u79d1\", \"\\u7537\\u5b50\", \"\\u770b\\u770b\", \"\\u770b\\u770b\", \"\\u771f\\u76f8\", \"\\u771f\\u76f8\", \"\\u771f\\u76f8\", \"\\u7ed3\\u679c\", \"\\u8fd9\\u4e2a\", \"\\u8fd9\\u4e2a\", \"\\u8fd9\\u4e9b\", \"\\u8fd9\\u4e9b\", \"\\u8fd9\\u6837\", \"\\u8fd9\\u79cd\", \"\\u8fd9\\u79cd\", \"\\u91cd\\u78c5\", \"\\u91cd\\u78c5\", \"\\u91cd\\u78c5\", \"\\u91cd\\u78c5\", \"\\u9752\\u5c9b\", \"\\u9752\\u6d77\", \"\\u9752\\u6d77\", \"\\u9ad8\\u8003\", \"\\u9ad8\\u94c1\"]}, \"R\": 30, \"lambda.step\": 0.01, \"plot.opts\": {\"xlab\": \"PC1\", \"ylab\": \"PC2\"}, \"topic.order\": [1, 2, 4, 5, 3]};\n",
       "\n",
       "function LDAvis_load_lib(url, callback){\n",
       "  var s = document.createElement('script');\n",
       "  s.src = url;\n",
       "  s.async = true;\n",
       "  s.onreadystatechange = s.onload = callback;\n",
       "  s.onerror = function(){console.warn(\"failed to load library \" + url);};\n",
       "  document.getElementsByTagName(\"head\")[0].appendChild(s);\n",
       "}\n",
       "\n",
       "if(typeof(LDAvis) !== \"undefined\"){\n",
       "   // already loaded: just create the visualization\n",
       "   !function(LDAvis){\n",
       "       new LDAvis(\"#\" + \"ldavis_el1107222863199473367709876660\", ldavis_el1107222863199473367709876660_data);\n",
       "   }(LDAvis);\n",
       "}else if(typeof define === \"function\" && define.amd){\n",
       "   // require.js is available: use it to load d3/LDAvis\n",
       "   require.config({paths: {d3: \"https://cdnjs.cloudflare.com/ajax/libs/d3/3.5.5/d3.min\"}});\n",
       "   require([\"d3\"], function(d3){\n",
       "      window.d3 = d3;\n",
       "      LDAvis_load_lib(\"https://cdn.rawgit.com/bmabey/pyLDAvis/files/ldavis.v1.0.0.js\", function(){\n",
       "        new LDAvis(\"#\" + \"ldavis_el1107222863199473367709876660\", ldavis_el1107222863199473367709876660_data);\n",
       "      });\n",
       "    });\n",
       "}else{\n",
       "    // require.js not available: dynamically load d3 & LDAvis\n",
       "    LDAvis_load_lib(\"https://cdnjs.cloudflare.com/ajax/libs/d3/3.5.5/d3.min.js\", function(){\n",
       "         LDAvis_load_lib(\"https://cdn.rawgit.com/bmabey/pyLDAvis/files/ldavis.v1.0.0.js\", function(){\n",
       "                 new LDAvis(\"#\" + \"ldavis_el1107222863199473367709876660\", ldavis_el1107222863199473367709876660_data);\n",
       "            })\n",
       "         });\n",
       "}\n",
       "</script>"
      ],
      "text/plain": [
       "PreparedData(topic_coordinates=              x         y  topics  cluster       Freq\n",
       "topic                                                \n",
       "0     -0.311182  0.198354       1        1  28.624290\n",
       "1      0.081414 -0.179356       2        1  19.390868\n",
       "3     -0.139616 -0.246776       3        1  19.337187\n",
       "4      0.179374  0.132300       4        1  19.231078\n",
       "2      0.190010  0.095478       5        1  13.416575, topic_info=   Term       Freq      Total Category  logprob  loglift\n",
       "45   高考  61.000000  61.000000  Default  30.0000  30.0000\n",
       "29   杭州  36.000000  36.000000  Default  29.0000  29.0000\n",
       "16   女子  24.000000  24.000000  Default  28.0000  28.0000\n",
       "43   青岛  25.000000  25.000000  Default  27.0000  27.0000\n",
       "32   湛江  20.000000  20.000000  Default  26.0000  26.0000\n",
       "..  ...        ...        ...      ...      ...      ...\n",
       "3    上合   0.221836  14.767064   Topic5  -6.1564  -2.1895\n",
       "4    今天   0.221666  16.104184   Topic5  -6.1572  -2.2770\n",
       "29   杭州   0.223031  36.808223   Topic5  -6.1511  -3.0975\n",
       "45   高考   0.222346  61.182673   Topic5  -6.1541  -3.6087\n",
       "43   青岛   0.222183  25.873994   Topic5  -6.1549  -2.7488\n",
       "\n",
       "[217 rows x 6 columns], token_table=      Topic      Freq  Term\n",
       "term                       \n",
       "0         1  0.970588  2018\n",
       "1         4  0.914039    一个\n",
       "2         2  0.195802    一定\n",
       "2         4  0.685308    一定\n",
       "3         3  0.948056    上合\n",
       "...     ...       ...   ...\n",
       "43        3  0.966221    青岛\n",
       "44        1  0.299716    青海\n",
       "44        4  0.699337    青海\n",
       "45        1  0.980670    高考\n",
       "46        5  0.925650    高铁\n",
       "\n",
       "[72 rows x 3 columns], R=30, lambda_step=0.01, plot_opts={'xlab': 'PC1', 'ylab': 'PC2'}, topic_order=[1, 2, 4, 5, 3])"
      ]
     },
     "execution_count": 15,
     "metadata": {},
     "output_type": "execute_result"
    }
   ],
   "source": [
    "import pyLDAvis\n",
    "from  pyLDAvis import sklearn\n",
    "pyLDAvis.enable_notebook()\n",
    "pyLDAvis.sklearn.prepare(lda, tf, tf_vectorizer)"
   ]
  },
  {
   "cell_type": "code",
   "execution_count": null,
   "metadata": {},
   "outputs": [
    {
     "name": "stdout",
     "output_type": "stream",
     "text": [
      "\n",
      "Note: if you're in the IPython notebook, pyLDAvis.show() is not the best command\n",
      "      to use. Consider using pyLDAvis.display(), or pyLDAvis.enable_notebook().\n",
      "      See more information at http://pyLDAvis.github.io/quickstart.html .\n",
      "\n",
      "You must interrupt the kernel to end this command\n",
      "\n",
      "Serving to http://127.0.0.1:8894/    [Ctrl-C to exit]\n"
     ]
    },
    {
     "name": "stderr",
     "output_type": "stream",
     "text": [
      "127.0.0.1 - - [05/Nov/2020 20:09:14] \"GET / HTTP/1.1\" 200 -\n",
      "127.0.0.1 - - [05/Nov/2020 20:09:14] \"GET /LDAvis.css HTTP/1.1\" 200 -\n",
      "127.0.0.1 - - [05/Nov/2020 20:09:15] \"GET /d3.js HTTP/1.1\" 200 -\n",
      "127.0.0.1 - - [05/Nov/2020 20:09:15] \"GET /LDAvis.js HTTP/1.1\" 200 -\n"
     ]
    }
   ],
   "source": [
    "data = pyLDAvis.sklearn.prepare(lda, tf, tf_vectorizer)\n",
    "pyLDAvis.show(data)"
   ]
  },
  {
   "cell_type": "markdown",
   "metadata": {},
   "source": [
    "# Reference\n",
    "- [如何用Python从海量文本抽取主题？](https://medium.com/@wshuyi/%E5%A6%82%E4%BD%95%E7%94%A8python%E4%BB%8E%E6%B5%B7%E9%87%8F%E6%96%87%E6%9C%AC%E6%8A%BD%E5%8F%96%E4%B8%BB%E9%A2%98-a802e8608d39)\n",
    "\n",
    "- [如何用Python做情感分析？](https://medium.com/@wshuyi/%E5%A6%82%E4%BD%95%E7%94%A8python%E5%81%9A%E6%83%85%E6%84%9F%E5%88%86%E6%9E%90-9df4d49acaa3)"
   ]
  }
 ],
 "metadata": {
  "kernelspec": {
   "display_name": "Python 3",
   "language": "python",
   "name": "python3"
  },
  "language_info": {
   "codemirror_mode": {
    "name": "ipython",
    "version": 3
   },
   "file_extension": ".py",
   "mimetype": "text/x-python",
   "name": "python",
   "nbconvert_exporter": "python",
   "pygments_lexer": "ipython3",
   "version": "3.7.4"
  }
 },
 "nbformat": 4,
 "nbformat_minor": 4
}
