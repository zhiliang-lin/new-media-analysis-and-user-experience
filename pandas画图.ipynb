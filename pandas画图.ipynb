{
 "cells": [
  {
   "cell_type": "code",
   "execution_count": 6,
   "metadata": {},
   "outputs": [],
   "source": [
    "%matplotlib inline\n",
    "\n",
    "from matplotlib import pyplot as plt\n",
    "import pandas as pd\n",
    "import numpy as np\n",
    "\n",
    "# 图片显示中文无乱码\n",
    "plt.rcParams['font.sans-serif']=['SimHei']\n",
    "plt.rcParams['axes.unicode_minus']=False"
   ]
  },
  {
   "cell_type": "code",
   "execution_count": 17,
   "metadata": {},
   "outputs": [],
   "source": [
    "df = pd.read_excel(\"D:\\\\teaching\\\\New Media Analysis and User Experience\\\\survey\\\\inm.xlsx\")"
   ]
  },
  {
   "cell_type": "code",
   "execution_count": 36,
   "metadata": {},
   "outputs": [
    {
     "name": "stdout",
     "output_type": "stream",
     "text": [
      "0 method\n",
      "1 l_code\n",
      "2 l_design\n",
      "3 l_operation\n",
      "4 l_production\n",
      "5 l_copywriter\n",
      "6 l_market\n",
      "7 l_other\n",
      "8 l_non\n",
      "9 maj_work\n",
      "10 maj_dir\n",
      "11 cap_code\n",
      "12 cap_design\n",
      "13 cap_operation\n",
      "14 cap_production\n",
      "15 cap_copywriter\n",
      "16 cap_market\n",
      "17 ranking\n",
      "18 effort_read\n",
      "19 effort_info\n",
      "20 effort_res\n",
      "21 effort_project\n",
      "22 effort_overall\n",
      "23 sati_code\n",
      "24 sati_design\n",
      "25 sati_operation\n",
      "26 sati_production\n",
      "27 sati_copywriter\n",
      "28 sati_market\n",
      "29 sati_other\n",
      "30 impr_code\n",
      "31 impr_design\n",
      "32 impr_operation\n",
      "33 impr_production\n",
      "34 impr_copywriter\n",
      "35 impr_market\n",
      "36 impr_other\n",
      "37 sati_overall\n",
      "38 grade\n",
      "39 gender\n",
      "40 spending\n",
      "41 high_school_major\n",
      "42 location\n",
      "43 hukou\n"
     ]
    }
   ],
   "source": [
    "for i in range(len(df.columns)):\n",
    "    print(i,df.columns[i])"
   ]
  },
  {
   "cell_type": "code",
   "execution_count": 37,
   "metadata": {},
   "outputs": [],
   "source": [
    "def gender(series):\n",
    "    if series == 1:\n",
    "        return '男性'\n",
    "    else:\n",
    "        return '女性'\n",
    "\n",
    "def hukou(series):\n",
    "    if series == 1:\n",
    "        return '城镇'\n",
    "    else:\n",
    "        return '非城镇'\n",
    "\n",
    "def location (series):\n",
    "    if series == 1:\n",
    "        return \"非广东地区\"\n",
    "    elif series == 2:\n",
    "        return \"珠三角地区\"\n",
    "    elif series == 3:\n",
    "        return \"粤东\"\n",
    "    elif series == 4:\n",
    "        return \"粤西\"\n",
    "    else:\n",
    "        return \"粤北\"\n",
    "\n",
    "def like(series):\n",
    "    if series == 1:\n",
    "        return '喜欢'\n",
    "    else:\n",
    "        return '不喜欢'\n",
    "\n",
    "def impr(series):\n",
    "    if series == 1:\n",
    "        return '有提升空间'\n",
    "    else:\n",
    "        return '挺好的'\n"
   ]
  },
  {
   "cell_type": "code",
   "execution_count": 9,
   "metadata": {},
   "outputs": [],
   "source": [
    "df.gender = df.gender.apply(gender).astype('category')\n",
    "# df.gender.value_counts()\n",
    "\n",
    "df.hukou = df.hukou.apply(hukou).astype('category')\n",
    "# df.hukou.value_counts()\n",
    "\n",
    "df.location = df.location.apply(location).astype('category')\n",
    "# df.location.value_counts()"
   ]
  },
  {
   "cell_type": "code",
   "execution_count": 18,
   "metadata": {},
   "outputs": [
    {
     "data": {
      "text/html": [
       "<div>\n",
       "<style scoped>\n",
       "    .dataframe tbody tr th:only-of-type {\n",
       "        vertical-align: middle;\n",
       "    }\n",
       "\n",
       "    .dataframe tbody tr th {\n",
       "        vertical-align: top;\n",
       "    }\n",
       "\n",
       "    .dataframe thead th {\n",
       "        text-align: right;\n",
       "    }\n",
       "</style>\n",
       "<table border=\"1\" class=\"dataframe\">\n",
       "  <thead>\n",
       "    <tr style=\"text-align: right;\">\n",
       "      <th></th>\n",
       "      <th>method</th>\n",
       "      <th>l_code</th>\n",
       "      <th>l_design</th>\n",
       "      <th>l_operation</th>\n",
       "      <th>l_production</th>\n",
       "      <th>l_copywriter</th>\n",
       "      <th>l_market</th>\n",
       "      <th>l_other</th>\n",
       "      <th>l_non</th>\n",
       "      <th>maj_work</th>\n",
       "      <th>...</th>\n",
       "      <th>impr_copywriter</th>\n",
       "      <th>impr_market</th>\n",
       "      <th>impr_other</th>\n",
       "      <th>sati_overall</th>\n",
       "      <th>grade</th>\n",
       "      <th>gender</th>\n",
       "      <th>spending</th>\n",
       "      <th>high_school_major</th>\n",
       "      <th>location</th>\n",
       "      <th>hukou</th>\n",
       "    </tr>\n",
       "  </thead>\n",
       "  <tbody>\n",
       "    <tr>\n",
       "      <th>0</th>\n",
       "      <td>1</td>\n",
       "      <td>0</td>\n",
       "      <td>1</td>\n",
       "      <td>1</td>\n",
       "      <td>1</td>\n",
       "      <td>1</td>\n",
       "      <td>0</td>\n",
       "      <td>0</td>\n",
       "      <td>0</td>\n",
       "      <td>4</td>\n",
       "      <td>...</td>\n",
       "      <td>1</td>\n",
       "      <td>1</td>\n",
       "      <td>0</td>\n",
       "      <td>5</td>\n",
       "      <td>3</td>\n",
       "      <td>2</td>\n",
       "      <td>4</td>\n",
       "      <td>2</td>\n",
       "      <td>4</td>\n",
       "      <td>1</td>\n",
       "    </tr>\n",
       "  </tbody>\n",
       "</table>\n",
       "<p>1 rows × 44 columns</p>\n",
       "</div>"
      ],
      "text/plain": [
       "   method  l_code  l_design  l_operation  l_production  l_copywriter  \\\n",
       "0       1       0         1            1             1             1   \n",
       "\n",
       "   l_market  l_other  l_non  maj_work  ...  impr_copywriter  impr_market  \\\n",
       "0         0        0      0         4  ...                1            1   \n",
       "\n",
       "   impr_other  sati_overall  grade  gender  spending  high_school_major  \\\n",
       "0           0             5      3       2         4                  2   \n",
       "\n",
       "   location  hukou  \n",
       "0         4      1  \n",
       "\n",
       "[1 rows x 44 columns]"
      ]
     },
     "execution_count": 18,
     "metadata": {},
     "output_type": "execute_result"
    }
   ],
   "source": [
    "df.head(1)"
   ]
  },
  {
   "cell_type": "code",
   "execution_count": 26,
   "metadata": {},
   "outputs": [
    {
     "data": {
      "text/plain": [
       "0     0\n",
       "1     1\n",
       "2     0\n",
       "3     0\n",
       "4     0\n",
       "     ..\n",
       "75    1\n",
       "76    0\n",
       "77    1\n",
       "78    0\n",
       "79    0\n",
       "Name: l_code, Length: 80, dtype: int64"
      ]
     },
     "execution_count": 26,
     "metadata": {},
     "output_type": "execute_result"
    }
   ],
   "source": [
    "df.iloc[:,1]"
   ]
  },
  {
   "cell_type": "code",
   "execution_count": 27,
   "metadata": {},
   "outputs": [],
   "source": [
    "for i in range(1,9):\n",
    "    df.iloc[:,i] = df.iloc[:,i].apply(like).astype('category')"
   ]
  },
  {
   "cell_type": "code",
   "execution_count": 28,
   "metadata": {},
   "outputs": [
    {
     "data": {
      "text/html": [
       "<div>\n",
       "<style scoped>\n",
       "    .dataframe tbody tr th:only-of-type {\n",
       "        vertical-align: middle;\n",
       "    }\n",
       "\n",
       "    .dataframe tbody tr th {\n",
       "        vertical-align: top;\n",
       "    }\n",
       "\n",
       "    .dataframe thead th {\n",
       "        text-align: right;\n",
       "    }\n",
       "</style>\n",
       "<table border=\"1\" class=\"dataframe\">\n",
       "  <thead>\n",
       "    <tr style=\"text-align: right;\">\n",
       "      <th></th>\n",
       "      <th>l_code</th>\n",
       "      <th>l_design</th>\n",
       "      <th>l_operation</th>\n",
       "      <th>l_production</th>\n",
       "      <th>l_copywriter</th>\n",
       "      <th>l_market</th>\n",
       "      <th>l_other</th>\n",
       "      <th>l_non</th>\n",
       "    </tr>\n",
       "  </thead>\n",
       "  <tbody>\n",
       "    <tr>\n",
       "      <th>0</th>\n",
       "      <td>不喜欢</td>\n",
       "      <td>喜欢</td>\n",
       "      <td>喜欢</td>\n",
       "      <td>喜欢</td>\n",
       "      <td>喜欢</td>\n",
       "      <td>不喜欢</td>\n",
       "      <td>不喜欢</td>\n",
       "      <td>不喜欢</td>\n",
       "    </tr>\n",
       "    <tr>\n",
       "      <th>1</th>\n",
       "      <td>喜欢</td>\n",
       "      <td>不喜欢</td>\n",
       "      <td>喜欢</td>\n",
       "      <td>喜欢</td>\n",
       "      <td>不喜欢</td>\n",
       "      <td>不喜欢</td>\n",
       "      <td>不喜欢</td>\n",
       "      <td>不喜欢</td>\n",
       "    </tr>\n",
       "    <tr>\n",
       "      <th>2</th>\n",
       "      <td>不喜欢</td>\n",
       "      <td>喜欢</td>\n",
       "      <td>喜欢</td>\n",
       "      <td>喜欢</td>\n",
       "      <td>喜欢</td>\n",
       "      <td>不喜欢</td>\n",
       "      <td>不喜欢</td>\n",
       "      <td>不喜欢</td>\n",
       "    </tr>\n",
       "    <tr>\n",
       "      <th>3</th>\n",
       "      <td>不喜欢</td>\n",
       "      <td>不喜欢</td>\n",
       "      <td>喜欢</td>\n",
       "      <td>喜欢</td>\n",
       "      <td>喜欢</td>\n",
       "      <td>不喜欢</td>\n",
       "      <td>不喜欢</td>\n",
       "      <td>不喜欢</td>\n",
       "    </tr>\n",
       "    <tr>\n",
       "      <th>4</th>\n",
       "      <td>不喜欢</td>\n",
       "      <td>喜欢</td>\n",
       "      <td>不喜欢</td>\n",
       "      <td>不喜欢</td>\n",
       "      <td>不喜欢</td>\n",
       "      <td>不喜欢</td>\n",
       "      <td>不喜欢</td>\n",
       "      <td>不喜欢</td>\n",
       "    </tr>\n",
       "    <tr>\n",
       "      <th>...</th>\n",
       "      <td>...</td>\n",
       "      <td>...</td>\n",
       "      <td>...</td>\n",
       "      <td>...</td>\n",
       "      <td>...</td>\n",
       "      <td>...</td>\n",
       "      <td>...</td>\n",
       "      <td>...</td>\n",
       "    </tr>\n",
       "    <tr>\n",
       "      <th>75</th>\n",
       "      <td>喜欢</td>\n",
       "      <td>不喜欢</td>\n",
       "      <td>不喜欢</td>\n",
       "      <td>喜欢</td>\n",
       "      <td>不喜欢</td>\n",
       "      <td>不喜欢</td>\n",
       "      <td>不喜欢</td>\n",
       "      <td>不喜欢</td>\n",
       "    </tr>\n",
       "    <tr>\n",
       "      <th>76</th>\n",
       "      <td>不喜欢</td>\n",
       "      <td>不喜欢</td>\n",
       "      <td>喜欢</td>\n",
       "      <td>喜欢</td>\n",
       "      <td>不喜欢</td>\n",
       "      <td>不喜欢</td>\n",
       "      <td>不喜欢</td>\n",
       "      <td>不喜欢</td>\n",
       "    </tr>\n",
       "    <tr>\n",
       "      <th>77</th>\n",
       "      <td>喜欢</td>\n",
       "      <td>喜欢</td>\n",
       "      <td>喜欢</td>\n",
       "      <td>喜欢</td>\n",
       "      <td>不喜欢</td>\n",
       "      <td>不喜欢</td>\n",
       "      <td>不喜欢</td>\n",
       "      <td>不喜欢</td>\n",
       "    </tr>\n",
       "    <tr>\n",
       "      <th>78</th>\n",
       "      <td>不喜欢</td>\n",
       "      <td>喜欢</td>\n",
       "      <td>喜欢</td>\n",
       "      <td>喜欢</td>\n",
       "      <td>喜欢</td>\n",
       "      <td>喜欢</td>\n",
       "      <td>不喜欢</td>\n",
       "      <td>不喜欢</td>\n",
       "    </tr>\n",
       "    <tr>\n",
       "      <th>79</th>\n",
       "      <td>不喜欢</td>\n",
       "      <td>喜欢</td>\n",
       "      <td>喜欢</td>\n",
       "      <td>喜欢</td>\n",
       "      <td>喜欢</td>\n",
       "      <td>喜欢</td>\n",
       "      <td>不喜欢</td>\n",
       "      <td>不喜欢</td>\n",
       "    </tr>\n",
       "  </tbody>\n",
       "</table>\n",
       "<p>80 rows × 8 columns</p>\n",
       "</div>"
      ],
      "text/plain": [
       "   l_code l_design l_operation l_production l_copywriter l_market l_other  \\\n",
       "0     不喜欢       喜欢          喜欢           喜欢           喜欢      不喜欢     不喜欢   \n",
       "1      喜欢      不喜欢          喜欢           喜欢          不喜欢      不喜欢     不喜欢   \n",
       "2     不喜欢       喜欢          喜欢           喜欢           喜欢      不喜欢     不喜欢   \n",
       "3     不喜欢      不喜欢          喜欢           喜欢           喜欢      不喜欢     不喜欢   \n",
       "4     不喜欢       喜欢         不喜欢          不喜欢          不喜欢      不喜欢     不喜欢   \n",
       "..    ...      ...         ...          ...          ...      ...     ...   \n",
       "75     喜欢      不喜欢         不喜欢           喜欢          不喜欢      不喜欢     不喜欢   \n",
       "76    不喜欢      不喜欢          喜欢           喜欢          不喜欢      不喜欢     不喜欢   \n",
       "77     喜欢       喜欢          喜欢           喜欢          不喜欢      不喜欢     不喜欢   \n",
       "78    不喜欢       喜欢          喜欢           喜欢           喜欢       喜欢     不喜欢   \n",
       "79    不喜欢       喜欢          喜欢           喜欢           喜欢       喜欢     不喜欢   \n",
       "\n",
       "   l_non  \n",
       "0    不喜欢  \n",
       "1    不喜欢  \n",
       "2    不喜欢  \n",
       "3    不喜欢  \n",
       "4    不喜欢  \n",
       "..   ...  \n",
       "75   不喜欢  \n",
       "76   不喜欢  \n",
       "77   不喜欢  \n",
       "78   不喜欢  \n",
       "79   不喜欢  \n",
       "\n",
       "[80 rows x 8 columns]"
      ]
     },
     "execution_count": 28,
     "metadata": {},
     "output_type": "execute_result"
    }
   ],
   "source": [
    "df.filter(regex = \"^l_.*\")"
   ]
  },
  {
   "cell_type": "code",
   "execution_count": 29,
   "metadata": {},
   "outputs": [
    {
     "data": {
      "text/html": [
       "<div>\n",
       "<style scoped>\n",
       "    .dataframe tbody tr th:only-of-type {\n",
       "        vertical-align: middle;\n",
       "    }\n",
       "\n",
       "    .dataframe tbody tr th {\n",
       "        vertical-align: top;\n",
       "    }\n",
       "\n",
       "    .dataframe thead th {\n",
       "        text-align: right;\n",
       "    }\n",
       "</style>\n",
       "<table border=\"1\" class=\"dataframe\">\n",
       "  <thead>\n",
       "    <tr style=\"text-align: right;\">\n",
       "      <th></th>\n",
       "      <th>method</th>\n",
       "      <th>l_code</th>\n",
       "      <th>l_design</th>\n",
       "      <th>l_operation</th>\n",
       "      <th>l_production</th>\n",
       "      <th>l_copywriter</th>\n",
       "      <th>l_market</th>\n",
       "      <th>l_other</th>\n",
       "      <th>l_non</th>\n",
       "      <th>maj_work</th>\n",
       "      <th>...</th>\n",
       "      <th>impr_copywriter</th>\n",
       "      <th>impr_market</th>\n",
       "      <th>impr_other</th>\n",
       "      <th>sati_overall</th>\n",
       "      <th>grade</th>\n",
       "      <th>gender</th>\n",
       "      <th>spending</th>\n",
       "      <th>high_school_major</th>\n",
       "      <th>location</th>\n",
       "      <th>hukou</th>\n",
       "    </tr>\n",
       "  </thead>\n",
       "  <tbody>\n",
       "    <tr>\n",
       "      <th>0</th>\n",
       "      <td>1</td>\n",
       "      <td>不喜欢</td>\n",
       "      <td>喜欢</td>\n",
       "      <td>喜欢</td>\n",
       "      <td>喜欢</td>\n",
       "      <td>喜欢</td>\n",
       "      <td>不喜欢</td>\n",
       "      <td>不喜欢</td>\n",
       "      <td>不喜欢</td>\n",
       "      <td>4</td>\n",
       "      <td>...</td>\n",
       "      <td>1</td>\n",
       "      <td>1</td>\n",
       "      <td>0</td>\n",
       "      <td>5</td>\n",
       "      <td>3</td>\n",
       "      <td>2</td>\n",
       "      <td>4</td>\n",
       "      <td>2</td>\n",
       "      <td>4</td>\n",
       "      <td>1</td>\n",
       "    </tr>\n",
       "  </tbody>\n",
       "</table>\n",
       "<p>1 rows × 44 columns</p>\n",
       "</div>"
      ],
      "text/plain": [
       "   method l_code l_design l_operation l_production l_copywriter l_market  \\\n",
       "0       1    不喜欢       喜欢          喜欢           喜欢           喜欢      不喜欢   \n",
       "\n",
       "  l_other l_non  maj_work  ...  impr_copywriter  impr_market  impr_other  \\\n",
       "0     不喜欢   不喜欢         4  ...                1            1           0   \n",
       "\n",
       "   sati_overall  grade  gender  spending  high_school_major  location  hukou  \n",
       "0             5      3       2         4                  2         4      1  \n",
       "\n",
       "[1 rows x 44 columns]"
      ]
     },
     "execution_count": 29,
     "metadata": {},
     "output_type": "execute_result"
    }
   ],
   "source": [
    "df.head(1)"
   ]
  },
  {
   "cell_type": "code",
   "execution_count": 38,
   "metadata": {},
   "outputs": [],
   "source": [
    "for i in range(30,37):\n",
    "    df.iloc[:,i] = df.iloc[:,i].apply(impr).astype('category')"
   ]
  },
  {
   "cell_type": "code",
   "execution_count": 39,
   "metadata": {},
   "outputs": [
    {
     "data": {
      "text/html": [
       "<div>\n",
       "<style scoped>\n",
       "    .dataframe tbody tr th:only-of-type {\n",
       "        vertical-align: middle;\n",
       "    }\n",
       "\n",
       "    .dataframe tbody tr th {\n",
       "        vertical-align: top;\n",
       "    }\n",
       "\n",
       "    .dataframe thead th {\n",
       "        text-align: right;\n",
       "    }\n",
       "</style>\n",
       "<table border=\"1\" class=\"dataframe\">\n",
       "  <thead>\n",
       "    <tr style=\"text-align: right;\">\n",
       "      <th></th>\n",
       "      <th>impr_code</th>\n",
       "      <th>impr_design</th>\n",
       "      <th>impr_operation</th>\n",
       "      <th>impr_production</th>\n",
       "      <th>impr_copywriter</th>\n",
       "      <th>impr_market</th>\n",
       "      <th>impr_other</th>\n",
       "    </tr>\n",
       "  </thead>\n",
       "  <tbody>\n",
       "    <tr>\n",
       "      <th>0</th>\n",
       "      <td>挺好的</td>\n",
       "      <td>有提升空间</td>\n",
       "      <td>有提升空间</td>\n",
       "      <td>有提升空间</td>\n",
       "      <td>有提升空间</td>\n",
       "      <td>有提升空间</td>\n",
       "      <td>挺好的</td>\n",
       "    </tr>\n",
       "    <tr>\n",
       "      <th>1</th>\n",
       "      <td>有提升空间</td>\n",
       "      <td>有提升空间</td>\n",
       "      <td>挺好的</td>\n",
       "      <td>挺好的</td>\n",
       "      <td>有提升空间</td>\n",
       "      <td>有提升空间</td>\n",
       "      <td>挺好的</td>\n",
       "    </tr>\n",
       "    <tr>\n",
       "      <th>2</th>\n",
       "      <td>挺好的</td>\n",
       "      <td>有提升空间</td>\n",
       "      <td>有提升空间</td>\n",
       "      <td>有提升空间</td>\n",
       "      <td>有提升空间</td>\n",
       "      <td>挺好的</td>\n",
       "      <td>挺好的</td>\n",
       "    </tr>\n",
       "    <tr>\n",
       "      <th>3</th>\n",
       "      <td>挺好的</td>\n",
       "      <td>挺好的</td>\n",
       "      <td>有提升空间</td>\n",
       "      <td>有提升空间</td>\n",
       "      <td>有提升空间</td>\n",
       "      <td>挺好的</td>\n",
       "      <td>挺好的</td>\n",
       "    </tr>\n",
       "    <tr>\n",
       "      <th>4</th>\n",
       "      <td>挺好的</td>\n",
       "      <td>有提升空间</td>\n",
       "      <td>挺好的</td>\n",
       "      <td>挺好的</td>\n",
       "      <td>有提升空间</td>\n",
       "      <td>挺好的</td>\n",
       "      <td>挺好的</td>\n",
       "    </tr>\n",
       "    <tr>\n",
       "      <th>...</th>\n",
       "      <td>...</td>\n",
       "      <td>...</td>\n",
       "      <td>...</td>\n",
       "      <td>...</td>\n",
       "      <td>...</td>\n",
       "      <td>...</td>\n",
       "      <td>...</td>\n",
       "    </tr>\n",
       "    <tr>\n",
       "      <th>75</th>\n",
       "      <td>有提升空间</td>\n",
       "      <td>挺好的</td>\n",
       "      <td>挺好的</td>\n",
       "      <td>有提升空间</td>\n",
       "      <td>挺好的</td>\n",
       "      <td>有提升空间</td>\n",
       "      <td>挺好的</td>\n",
       "    </tr>\n",
       "    <tr>\n",
       "      <th>76</th>\n",
       "      <td>挺好的</td>\n",
       "      <td>有提升空间</td>\n",
       "      <td>有提升空间</td>\n",
       "      <td>挺好的</td>\n",
       "      <td>挺好的</td>\n",
       "      <td>有提升空间</td>\n",
       "      <td>挺好的</td>\n",
       "    </tr>\n",
       "    <tr>\n",
       "      <th>77</th>\n",
       "      <td>有提升空间</td>\n",
       "      <td>挺好的</td>\n",
       "      <td>有提升空间</td>\n",
       "      <td>有提升空间</td>\n",
       "      <td>挺好的</td>\n",
       "      <td>有提升空间</td>\n",
       "      <td>挺好的</td>\n",
       "    </tr>\n",
       "    <tr>\n",
       "      <th>78</th>\n",
       "      <td>挺好的</td>\n",
       "      <td>有提升空间</td>\n",
       "      <td>挺好的</td>\n",
       "      <td>挺好的</td>\n",
       "      <td>挺好的</td>\n",
       "      <td>有提升空间</td>\n",
       "      <td>挺好的</td>\n",
       "    </tr>\n",
       "    <tr>\n",
       "      <th>79</th>\n",
       "      <td>有提升空间</td>\n",
       "      <td>挺好的</td>\n",
       "      <td>有提升空间</td>\n",
       "      <td>有提升空间</td>\n",
       "      <td>挺好的</td>\n",
       "      <td>有提升空间</td>\n",
       "      <td>挺好的</td>\n",
       "    </tr>\n",
       "  </tbody>\n",
       "</table>\n",
       "<p>80 rows × 7 columns</p>\n",
       "</div>"
      ],
      "text/plain": [
       "   impr_code impr_design impr_operation impr_production impr_copywriter  \\\n",
       "0        挺好的       有提升空间          有提升空间           有提升空间           有提升空间   \n",
       "1      有提升空间       有提升空间            挺好的             挺好的           有提升空间   \n",
       "2        挺好的       有提升空间          有提升空间           有提升空间           有提升空间   \n",
       "3        挺好的         挺好的          有提升空间           有提升空间           有提升空间   \n",
       "4        挺好的       有提升空间            挺好的             挺好的           有提升空间   \n",
       "..       ...         ...            ...             ...             ...   \n",
       "75     有提升空间         挺好的            挺好的           有提升空间             挺好的   \n",
       "76       挺好的       有提升空间          有提升空间             挺好的             挺好的   \n",
       "77     有提升空间         挺好的          有提升空间           有提升空间             挺好的   \n",
       "78       挺好的       有提升空间            挺好的             挺好的             挺好的   \n",
       "79     有提升空间         挺好的          有提升空间           有提升空间             挺好的   \n",
       "\n",
       "   impr_market impr_other  \n",
       "0        有提升空间        挺好的  \n",
       "1        有提升空间        挺好的  \n",
       "2          挺好的        挺好的  \n",
       "3          挺好的        挺好的  \n",
       "4          挺好的        挺好的  \n",
       "..         ...        ...  \n",
       "75       有提升空间        挺好的  \n",
       "76       有提升空间        挺好的  \n",
       "77       有提升空间        挺好的  \n",
       "78       有提升空间        挺好的  \n",
       "79       有提升空间        挺好的  \n",
       "\n",
       "[80 rows x 7 columns]"
      ]
     },
     "execution_count": 39,
     "metadata": {},
     "output_type": "execute_result"
    }
   ],
   "source": [
    "df.filter(regex = \"^impr_.*\")"
   ]
  },
  {
   "cell_type": "code",
   "execution_count": 6,
   "metadata": {},
   "outputs": [
    {
     "data": {
      "text/plain": [
       "0     女性\n",
       "1     女性\n",
       "2     女性\n",
       "3     女性\n",
       "4     女性\n",
       "      ..\n",
       "75    男性\n",
       "76    女性\n",
       "77    女性\n",
       "78    女性\n",
       "79    男性\n",
       "Name: gender, Length: 80, dtype: category\n",
       "Categories (2, object): ['女性', '男性']"
      ]
     },
     "execution_count": 6,
     "metadata": {},
     "output_type": "execute_result"
    }
   ],
   "source": [
    "df.gender"
   ]
  },
  {
   "cell_type": "markdown",
   "metadata": {},
   "source": [
    "# 直方图"
   ]
  },
  {
   "cell_type": "code",
   "execution_count": 7,
   "metadata": {},
   "outputs": [
    {
     "data": {
      "text/plain": [
       "<matplotlib.axes._subplots.AxesSubplot at 0x2517617b3c8>"
      ]
     },
     "execution_count": 7,
     "metadata": {},
     "output_type": "execute_result"
    },
    {
     "data": {
      "image/png": "[encoded data removed]",
      "text/plain": [
       "<Figure size 432x288 with 1 Axes>"
      ]
     },
     "metadata": {
      "needs_background": "light"
     },
     "output_type": "display_data"
    }
   ],
   "source": [
    "df.effort_overall.plot.hist()"
   ]
  },
  {
   "cell_type": "markdown",
   "metadata": {},
   "source": [
    "# 饼图"
   ]
  },
  {
   "cell_type": "code",
   "execution_count": 8,
   "metadata": {},
   "outputs": [
    {
     "data": {
      "text/plain": [
       "女性    64\n",
       "男性    16\n",
       "Name: gender, dtype: int64"
      ]
     },
     "execution_count": 8,
     "metadata": {},
     "output_type": "execute_result"
    }
   ],
   "source": [
    "tb_gender = df.gender.value_counts()\n",
    "tb_gender"
   ]
  },
  {
   "cell_type": "code",
   "execution_count": 9,
   "metadata": {},
   "outputs": [
    {
     "data": {
      "text/plain": [
       "<matplotlib.axes._subplots.AxesSubplot at 0x2517652dcc8>"
      ]
     },
     "execution_count": 9,
     "metadata": {},
     "output_type": "execute_result"
    },
    {
     "data": {
      "image/png": "[encoded data removed]",
      "text/plain": [
       "<Figure size 432x288 with 1 Axes>"
      ]
     },
     "metadata": {},
     "output_type": "display_data"
    }
   ],
   "source": [
    "tb_gender.plot.pie()"
   ]
  },
  {
   "cell_type": "code",
   "execution_count": 10,
   "metadata": {},
   "outputs": [
    {
     "data": {
      "text/plain": [
       "珠三角地区    40\n",
       "粤东       17\n",
       "粤西       10\n",
       "非广东地区     7\n",
       "粤北        6\n",
       "Name: location, dtype: int64"
      ]
     },
     "execution_count": 10,
     "metadata": {},
     "output_type": "execute_result"
    }
   ],
   "source": [
    "tb_location = df[\"location\"].value_counts()\n",
    "tb_location"
   ]
  },
  {
   "cell_type": "code",
   "execution_count": 11,
   "metadata": {},
   "outputs": [
    {
     "data": {
      "text/plain": [
       "<matplotlib.axes._subplots.AxesSubplot at 0x25176622588>"
      ]
     },
     "execution_count": 11,
     "metadata": {},
     "output_type": "execute_result"
    },
    {
     "data": {
      "image/png": "[encoded data removed]",
      "text/plain": [
       "<Figure size 432x288 with 1 Axes>"
      ]
     },
     "metadata": {},
     "output_type": "display_data"
    }
   ],
   "source": [
    "tb_location.plot.pie()"
   ]
  },
  {
   "cell_type": "markdown",
   "metadata": {},
   "source": [
    "# 可视化散点图"
   ]
  },
  {
   "cell_type": "code",
   "execution_count": 12,
   "metadata": {},
   "outputs": [],
   "source": [
    "from pandas.plotting import scatter_matrix"
   ]
  },
  {
   "cell_type": "code",
   "execution_count": 13,
   "metadata": {},
   "outputs": [
    {
     "data": {
      "text/plain": [
       "array([[<matplotlib.axes._subplots.AxesSubplot object at 0x0000025176647848>,\n",
       "        <matplotlib.axes._subplots.AxesSubplot object at 0x000002517666F888>,\n",
       "        <matplotlib.axes._subplots.AxesSubplot object at 0x00000251766A9608>,\n",
       "        <matplotlib.axes._subplots.AxesSubplot object at 0x00000251766E1748>,\n",
       "        <matplotlib.axes._subplots.AxesSubplot object at 0x0000025176719848>],\n",
       "       [<matplotlib.axes._subplots.AxesSubplot object at 0x0000025176752948>,\n",
       "        <matplotlib.axes._subplots.AxesSubplot object at 0x000002517678BA08>,\n",
       "        <matplotlib.axes._subplots.AxesSubplot object at 0x00000251767C8208>,\n",
       "        <matplotlib.axes._subplots.AxesSubplot object at 0x00000251767CDD88>,\n",
       "        <matplotlib.axes._subplots.AxesSubplot object at 0x0000025176805F48>],\n",
       "       [<matplotlib.axes._subplots.AxesSubplot object at 0x000002517686DE48>,\n",
       "        <matplotlib.axes._subplots.AxesSubplot object at 0x00000251768A5F08>,\n",
       "        <matplotlib.axes._subplots.AxesSubplot object at 0x00000251768E1088>,\n",
       "        <matplotlib.axes._subplots.AxesSubplot object at 0x000002517691C188>,\n",
       "        <matplotlib.axes._subplots.AxesSubplot object at 0x0000025176955288>],\n",
       "       [<matplotlib.axes._subplots.AxesSubplot object at 0x000002517698D3C8>,\n",
       "        <matplotlib.axes._subplots.AxesSubplot object at 0x00000251769C6448>,\n",
       "        <matplotlib.axes._subplots.AxesSubplot object at 0x00000251769FF548>,\n",
       "        <matplotlib.axes._subplots.AxesSubplot object at 0x0000025176A38688>,\n",
       "        <matplotlib.axes._subplots.AxesSubplot object at 0x0000025176A6F7C8>],\n",
       "       [<matplotlib.axes._subplots.AxesSubplot object at 0x0000025176AA88C8>,\n",
       "        <matplotlib.axes._subplots.AxesSubplot object at 0x0000025176AE1948>,\n",
       "        <matplotlib.axes._subplots.AxesSubplot object at 0x0000025176B18A88>,\n",
       "        <matplotlib.axes._subplots.AxesSubplot object at 0x0000025176B52B88>,\n",
       "        <matplotlib.axes._subplots.AxesSubplot object at 0x0000025176B89C88>]],\n",
       "      dtype=object)"
      ]
     },
     "execution_count": 13,
     "metadata": {},
     "output_type": "execute_result"
    },
    {
     "data": {
      "image/png": "[encoded data removed]",
      "text/plain": [
       "<Figure size 432x288 with 25 Axes>"
      ]
     },
     "metadata": {
      "needs_background": "light"
     },
     "output_type": "display_data"
    }
   ],
   "source": [
    "pd.plotting.scatter_matrix(df.filter(regex=\"effort_*\"), alpha=0.2)"
   ]
  },
  {
   "cell_type": "markdown",
   "metadata": {},
   "source": [
    "# 均值比较"
   ]
  },
  {
   "cell_type": "code",
   "execution_count": 47,
   "metadata": {},
   "outputs": [
    {
     "data": {
      "text/html": [
       "<div>\n",
       "<style scoped>\n",
       "    .dataframe tbody tr th:only-of-type {\n",
       "        vertical-align: middle;\n",
       "    }\n",
       "\n",
       "    .dataframe tbody tr th {\n",
       "        vertical-align: top;\n",
       "    }\n",
       "\n",
       "    .dataframe thead th {\n",
       "        text-align: right;\n",
       "    }\n",
       "</style>\n",
       "<table border=\"1\" class=\"dataframe\">\n",
       "  <thead>\n",
       "    <tr style=\"text-align: right;\">\n",
       "      <th></th>\n",
       "      <th>hukou</th>\n",
       "      <th>ranking</th>\n",
       "    </tr>\n",
       "  </thead>\n",
       "  <tbody>\n",
       "    <tr>\n",
       "      <th>0</th>\n",
       "      <td>城镇</td>\n",
       "      <td>3</td>\n",
       "    </tr>\n",
       "    <tr>\n",
       "      <th>1</th>\n",
       "      <td>非城镇</td>\n",
       "      <td>2</td>\n",
       "    </tr>\n",
       "    <tr>\n",
       "      <th>2</th>\n",
       "      <td>城镇</td>\n",
       "      <td>4</td>\n",
       "    </tr>\n",
       "    <tr>\n",
       "      <th>3</th>\n",
       "      <td>城镇</td>\n",
       "      <td>3</td>\n",
       "    </tr>\n",
       "    <tr>\n",
       "      <th>4</th>\n",
       "      <td>城镇</td>\n",
       "      <td>4</td>\n",
       "    </tr>\n",
       "    <tr>\n",
       "      <th>...</th>\n",
       "      <td>...</td>\n",
       "      <td>...</td>\n",
       "    </tr>\n",
       "    <tr>\n",
       "      <th>75</th>\n",
       "      <td>城镇</td>\n",
       "      <td>4</td>\n",
       "    </tr>\n",
       "    <tr>\n",
       "      <th>76</th>\n",
       "      <td>非城镇</td>\n",
       "      <td>1</td>\n",
       "    </tr>\n",
       "    <tr>\n",
       "      <th>77</th>\n",
       "      <td>城镇</td>\n",
       "      <td>3</td>\n",
       "    </tr>\n",
       "    <tr>\n",
       "      <th>78</th>\n",
       "      <td>城镇</td>\n",
       "      <td>4</td>\n",
       "    </tr>\n",
       "    <tr>\n",
       "      <th>79</th>\n",
       "      <td>非城镇</td>\n",
       "      <td>3</td>\n",
       "    </tr>\n",
       "  </tbody>\n",
       "</table>\n",
       "<p>80 rows × 2 columns</p>\n",
       "</div>"
      ],
      "text/plain": [
       "   hukou  ranking\n",
       "0     城镇        3\n",
       "1    非城镇        2\n",
       "2     城镇        4\n",
       "3     城镇        3\n",
       "4     城镇        4\n",
       "..   ...      ...\n",
       "75    城镇        4\n",
       "76   非城镇        1\n",
       "77    城镇        3\n",
       "78    城镇        4\n",
       "79   非城镇        3\n",
       "\n",
       "[80 rows x 2 columns]"
      ]
     },
     "execution_count": 47,
     "metadata": {},
     "output_type": "execute_result"
    }
   ],
   "source": [
    "df_hukou_ranking = df[[\"hukou\",\"ranking\"]]\n",
    "df_hukou_ranking"
   ]
  },
  {
   "cell_type": "code",
   "execution_count": 48,
   "metadata": {},
   "outputs": [
    {
     "data": {
      "text/html": [
       "<div>\n",
       "<style scoped>\n",
       "    .dataframe tbody tr th:only-of-type {\n",
       "        vertical-align: middle;\n",
       "    }\n",
       "\n",
       "    .dataframe tbody tr th {\n",
       "        vertical-align: top;\n",
       "    }\n",
       "\n",
       "    .dataframe thead tr th {\n",
       "        text-align: left;\n",
       "    }\n",
       "</style>\n",
       "<table border=\"1\" class=\"dataframe\">\n",
       "  <thead>\n",
       "    <tr>\n",
       "      <th></th>\n",
       "      <th colspan=\"2\" halign=\"left\">ranking</th>\n",
       "    </tr>\n",
       "    <tr>\n",
       "      <th>hukou</th>\n",
       "      <th>城镇</th>\n",
       "      <th>非城镇</th>\n",
       "    </tr>\n",
       "  </thead>\n",
       "  <tbody>\n",
       "    <tr>\n",
       "      <th>0</th>\n",
       "      <td>3.0</td>\n",
       "      <td>NaN</td>\n",
       "    </tr>\n",
       "    <tr>\n",
       "      <th>1</th>\n",
       "      <td>NaN</td>\n",
       "      <td>2.0</td>\n",
       "    </tr>\n",
       "    <tr>\n",
       "      <th>2</th>\n",
       "      <td>4.0</td>\n",
       "      <td>NaN</td>\n",
       "    </tr>\n",
       "    <tr>\n",
       "      <th>3</th>\n",
       "      <td>3.0</td>\n",
       "      <td>NaN</td>\n",
       "    </tr>\n",
       "    <tr>\n",
       "      <th>4</th>\n",
       "      <td>4.0</td>\n",
       "      <td>NaN</td>\n",
       "    </tr>\n",
       "    <tr>\n",
       "      <th>...</th>\n",
       "      <td>...</td>\n",
       "      <td>...</td>\n",
       "    </tr>\n",
       "    <tr>\n",
       "      <th>75</th>\n",
       "      <td>4.0</td>\n",
       "      <td>NaN</td>\n",
       "    </tr>\n",
       "    <tr>\n",
       "      <th>76</th>\n",
       "      <td>NaN</td>\n",
       "      <td>1.0</td>\n",
       "    </tr>\n",
       "    <tr>\n",
       "      <th>77</th>\n",
       "      <td>3.0</td>\n",
       "      <td>NaN</td>\n",
       "    </tr>\n",
       "    <tr>\n",
       "      <th>78</th>\n",
       "      <td>4.0</td>\n",
       "      <td>NaN</td>\n",
       "    </tr>\n",
       "    <tr>\n",
       "      <th>79</th>\n",
       "      <td>NaN</td>\n",
       "      <td>3.0</td>\n",
       "    </tr>\n",
       "  </tbody>\n",
       "</table>\n",
       "<p>80 rows × 2 columns</p>\n",
       "</div>"
      ],
      "text/plain": [
       "      ranking     \n",
       "hukou      城镇  非城镇\n",
       "0         3.0  NaN\n",
       "1         NaN  2.0\n",
       "2         4.0  NaN\n",
       "3         3.0  NaN\n",
       "4         4.0  NaN\n",
       "..        ...  ...\n",
       "75        4.0  NaN\n",
       "76        NaN  1.0\n",
       "77        3.0  NaN\n",
       "78        4.0  NaN\n",
       "79        NaN  3.0\n",
       "\n",
       "[80 rows x 2 columns]"
      ]
     },
     "execution_count": 48,
     "metadata": {},
     "output_type": "execute_result"
    }
   ],
   "source": [
    "df_hukou_ranking = df_hukou_ranking.pivot(columns='hukou')\n",
    "\n",
    "df_hukou_ranking"
   ]
  },
  {
   "cell_type": "code",
   "execution_count": 40,
   "metadata": {},
   "outputs": [
    {
     "data": {
      "text/plain": [
       "<matplotlib.axes._subplots.AxesSubplot at 0x2517da75fc8>"
      ]
     },
     "execution_count": 40,
     "metadata": {},
     "output_type": "execute_result"
    },
    {
     "data": {
      "image/png": "[encoded data removed]",
      "text/plain": [
       "<Figure size 432x288 with 1 Axes>"
      ]
     },
     "metadata": {
      "needs_background": "light"
     },
     "output_type": "display_data"
    }
   ],
   "source": [
    "df_hukou_ranking.plot.box()"
   ]
  },
  {
   "cell_type": "code",
   "execution_count": 50,
   "metadata": {},
   "outputs": [
    {
     "data": {
      "text/html": [
       "<div>\n",
       "<style scoped>\n",
       "    .dataframe tbody tr th:only-of-type {\n",
       "        vertical-align: middle;\n",
       "    }\n",
       "\n",
       "    .dataframe tbody tr th {\n",
       "        vertical-align: top;\n",
       "    }\n",
       "\n",
       "    .dataframe thead th {\n",
       "        text-align: right;\n",
       "    }\n",
       "</style>\n",
       "<table border=\"1\" class=\"dataframe\">\n",
       "  <thead>\n",
       "    <tr style=\"text-align: right;\">\n",
       "      <th></th>\n",
       "      <th>location</th>\n",
       "      <th>sati_overall</th>\n",
       "    </tr>\n",
       "  </thead>\n",
       "  <tbody>\n",
       "    <tr>\n",
       "      <th>0</th>\n",
       "      <td>粤西</td>\n",
       "      <td>5</td>\n",
       "    </tr>\n",
       "    <tr>\n",
       "      <th>1</th>\n",
       "      <td>珠三角地区</td>\n",
       "      <td>4</td>\n",
       "    </tr>\n",
       "    <tr>\n",
       "      <th>2</th>\n",
       "      <td>珠三角地区</td>\n",
       "      <td>4</td>\n",
       "    </tr>\n",
       "    <tr>\n",
       "      <th>3</th>\n",
       "      <td>珠三角地区</td>\n",
       "      <td>4</td>\n",
       "    </tr>\n",
       "    <tr>\n",
       "      <th>4</th>\n",
       "      <td>粤西</td>\n",
       "      <td>1</td>\n",
       "    </tr>\n",
       "    <tr>\n",
       "      <th>...</th>\n",
       "      <td>...</td>\n",
       "      <td>...</td>\n",
       "    </tr>\n",
       "    <tr>\n",
       "      <th>75</th>\n",
       "      <td>珠三角地区</td>\n",
       "      <td>4</td>\n",
       "    </tr>\n",
       "    <tr>\n",
       "      <th>76</th>\n",
       "      <td>粤北</td>\n",
       "      <td>2</td>\n",
       "    </tr>\n",
       "    <tr>\n",
       "      <th>77</th>\n",
       "      <td>珠三角地区</td>\n",
       "      <td>3</td>\n",
       "    </tr>\n",
       "    <tr>\n",
       "      <th>78</th>\n",
       "      <td>珠三角地区</td>\n",
       "      <td>4</td>\n",
       "    </tr>\n",
       "    <tr>\n",
       "      <th>79</th>\n",
       "      <td>非广东地区</td>\n",
       "      <td>3</td>\n",
       "    </tr>\n",
       "  </tbody>\n",
       "</table>\n",
       "<p>80 rows × 2 columns</p>\n",
       "</div>"
      ],
      "text/plain": [
       "   location  sati_overall\n",
       "0        粤西             5\n",
       "1     珠三角地区             4\n",
       "2     珠三角地区             4\n",
       "3     珠三角地区             4\n",
       "4        粤西             1\n",
       "..      ...           ...\n",
       "75    珠三角地区             4\n",
       "76       粤北             2\n",
       "77    珠三角地区             3\n",
       "78    珠三角地区             4\n",
       "79    非广东地区             3\n",
       "\n",
       "[80 rows x 2 columns]"
      ]
     },
     "execution_count": 50,
     "metadata": {},
     "output_type": "execute_result"
    }
   ],
   "source": [
    "df_location_sati_overall = df[[\"location\",\"sati_overall\"]]\n",
    "df_location_sati_overall"
   ]
  },
  {
   "cell_type": "code",
   "execution_count": 51,
   "metadata": {},
   "outputs": [
    {
     "data": {
      "text/html": [
       "<div>\n",
       "<style scoped>\n",
       "    .dataframe tbody tr th:only-of-type {\n",
       "        vertical-align: middle;\n",
       "    }\n",
       "\n",
       "    .dataframe tbody tr th {\n",
       "        vertical-align: top;\n",
       "    }\n",
       "\n",
       "    .dataframe thead tr th {\n",
       "        text-align: left;\n",
       "    }\n",
       "</style>\n",
       "<table border=\"1\" class=\"dataframe\">\n",
       "  <thead>\n",
       "    <tr>\n",
       "      <th></th>\n",
       "      <th colspan=\"5\" halign=\"left\">sati_overall</th>\n",
       "    </tr>\n",
       "    <tr>\n",
       "      <th>location</th>\n",
       "      <th>珠三角地区</th>\n",
       "      <th>粤东</th>\n",
       "      <th>粤北</th>\n",
       "      <th>粤西</th>\n",
       "      <th>非广东地区</th>\n",
       "    </tr>\n",
       "  </thead>\n",
       "  <tbody>\n",
       "    <tr>\n",
       "      <th>0</th>\n",
       "      <td>NaN</td>\n",
       "      <td>NaN</td>\n",
       "      <td>NaN</td>\n",
       "      <td>5.0</td>\n",
       "      <td>NaN</td>\n",
       "    </tr>\n",
       "    <tr>\n",
       "      <th>1</th>\n",
       "      <td>4.0</td>\n",
       "      <td>NaN</td>\n",
       "      <td>NaN</td>\n",
       "      <td>NaN</td>\n",
       "      <td>NaN</td>\n",
       "    </tr>\n",
       "    <tr>\n",
       "      <th>2</th>\n",
       "      <td>4.0</td>\n",
       "      <td>NaN</td>\n",
       "      <td>NaN</td>\n",
       "      <td>NaN</td>\n",
       "      <td>NaN</td>\n",
       "    </tr>\n",
       "    <tr>\n",
       "      <th>3</th>\n",
       "      <td>4.0</td>\n",
       "      <td>NaN</td>\n",
       "      <td>NaN</td>\n",
       "      <td>NaN</td>\n",
       "      <td>NaN</td>\n",
       "    </tr>\n",
       "    <tr>\n",
       "      <th>4</th>\n",
       "      <td>NaN</td>\n",
       "      <td>NaN</td>\n",
       "      <td>NaN</td>\n",
       "      <td>1.0</td>\n",
       "      <td>NaN</td>\n",
       "    </tr>\n",
       "    <tr>\n",
       "      <th>...</th>\n",
       "      <td>...</td>\n",
       "      <td>...</td>\n",
       "      <td>...</td>\n",
       "      <td>...</td>\n",
       "      <td>...</td>\n",
       "    </tr>\n",
       "    <tr>\n",
       "      <th>75</th>\n",
       "      <td>4.0</td>\n",
       "      <td>NaN</td>\n",
       "      <td>NaN</td>\n",
       "      <td>NaN</td>\n",
       "      <td>NaN</td>\n",
       "    </tr>\n",
       "    <tr>\n",
       "      <th>76</th>\n",
       "      <td>NaN</td>\n",
       "      <td>NaN</td>\n",
       "      <td>2.0</td>\n",
       "      <td>NaN</td>\n",
       "      <td>NaN</td>\n",
       "    </tr>\n",
       "    <tr>\n",
       "      <th>77</th>\n",
       "      <td>3.0</td>\n",
       "      <td>NaN</td>\n",
       "      <td>NaN</td>\n",
       "      <td>NaN</td>\n",
       "      <td>NaN</td>\n",
       "    </tr>\n",
       "    <tr>\n",
       "      <th>78</th>\n",
       "      <td>4.0</td>\n",
       "      <td>NaN</td>\n",
       "      <td>NaN</td>\n",
       "      <td>NaN</td>\n",
       "      <td>NaN</td>\n",
       "    </tr>\n",
       "    <tr>\n",
       "      <th>79</th>\n",
       "      <td>NaN</td>\n",
       "      <td>NaN</td>\n",
       "      <td>NaN</td>\n",
       "      <td>NaN</td>\n",
       "      <td>3.0</td>\n",
       "    </tr>\n",
       "  </tbody>\n",
       "</table>\n",
       "<p>80 rows × 5 columns</p>\n",
       "</div>"
      ],
      "text/plain": [
       "         sati_overall                    \n",
       "location        珠三角地区  粤东   粤北   粤西 非广东地区\n",
       "0                 NaN NaN  NaN  5.0   NaN\n",
       "1                 4.0 NaN  NaN  NaN   NaN\n",
       "2                 4.0 NaN  NaN  NaN   NaN\n",
       "3                 4.0 NaN  NaN  NaN   NaN\n",
       "4                 NaN NaN  NaN  1.0   NaN\n",
       "..                ...  ..  ...  ...   ...\n",
       "75                4.0 NaN  NaN  NaN   NaN\n",
       "76                NaN NaN  2.0  NaN   NaN\n",
       "77                3.0 NaN  NaN  NaN   NaN\n",
       "78                4.0 NaN  NaN  NaN   NaN\n",
       "79                NaN NaN  NaN  NaN   3.0\n",
       "\n",
       "[80 rows x 5 columns]"
      ]
     },
     "execution_count": 51,
     "metadata": {},
     "output_type": "execute_result"
    }
   ],
   "source": [
    "df_location_sati_overall = df_location_sati_overall.pivot(columns='location')\n",
    "\n",
    "df_location_sati_overall"
   ]
  },
  {
   "cell_type": "code",
   "execution_count": 52,
   "metadata": {},
   "outputs": [
    {
     "data": {
      "text/plain": [
       "<matplotlib.axes._subplots.AxesSubplot at 0x2517b7420c8>"
      ]
     },
     "execution_count": 52,
     "metadata": {},
     "output_type": "execute_result"
    },
    {
     "data": {
      "image/png": "[encoded data removed]",
      "text/plain": [
       "<Figure size 432x288 with 1 Axes>"
      ]
     },
     "metadata": {
      "needs_background": "light"
     },
     "output_type": "display_data"
    }
   ],
   "source": [
    "df_location_sati_overall.plot.box()"
   ]
  },
  {
   "cell_type": "markdown",
   "metadata": {},
   "source": [
    "# 堆叠图value_counts"
   ]
  },
  {
   "cell_type": "code",
   "execution_count": 21,
   "metadata": {},
   "outputs": [],
   "source": [
    "crosstab = pd.crosstab(df.gender,df.l_code)\n",
    "crosstab.columns = [\"不喜欢编程类课程\",\"喜欢编程类课程\"]"
   ]
  },
  {
   "cell_type": "code",
   "execution_count": 22,
   "metadata": {},
   "outputs": [
    {
     "data": {
      "text/html": [
       "<div>\n",
       "<style scoped>\n",
       "    .dataframe tbody tr th:only-of-type {\n",
       "        vertical-align: middle;\n",
       "    }\n",
       "\n",
       "    .dataframe tbody tr th {\n",
       "        vertical-align: top;\n",
       "    }\n",
       "\n",
       "    .dataframe thead th {\n",
       "        text-align: right;\n",
       "    }\n",
       "</style>\n",
       "<table border=\"1\" class=\"dataframe\">\n",
       "  <thead>\n",
       "    <tr style=\"text-align: right;\">\n",
       "      <th></th>\n",
       "      <th>不喜欢编程类课程</th>\n",
       "      <th>喜欢编程类课程</th>\n",
       "    </tr>\n",
       "    <tr>\n",
       "      <th>gender</th>\n",
       "      <th></th>\n",
       "      <th></th>\n",
       "    </tr>\n",
       "  </thead>\n",
       "  <tbody>\n",
       "    <tr>\n",
       "      <th>女性</th>\n",
       "      <td>56</td>\n",
       "      <td>8</td>\n",
       "    </tr>\n",
       "    <tr>\n",
       "      <th>男性</th>\n",
       "      <td>11</td>\n",
       "      <td>5</td>\n",
       "    </tr>\n",
       "  </tbody>\n",
       "</table>\n",
       "</div>"
      ],
      "text/plain": [
       "        不喜欢编程类课程  喜欢编程类课程\n",
       "gender                   \n",
       "女性            56        8\n",
       "男性            11        5"
      ]
     },
     "execution_count": 22,
     "metadata": {},
     "output_type": "execute_result"
    }
   ],
   "source": [
    "crosstab"
   ]
  },
  {
   "cell_type": "code",
   "execution_count": 23,
   "metadata": {},
   "outputs": [
    {
     "data": {
      "text/plain": [
       "<matplotlib.axes._subplots.AxesSubplot at 0x25179f73488>"
      ]
     },
     "execution_count": 23,
     "metadata": {},
     "output_type": "execute_result"
    },
    {
     "data": {
      "image/png": "[encoded data removed]",
      "text/plain": [
       "<Figure size 432x288 with 1 Axes>"
      ]
     },
     "metadata": {
      "needs_background": "light"
     },
     "output_type": "display_data"
    }
   ],
   "source": [
    "crosstab.plot.bar()"
   ]
  },
  {
   "cell_type": "code",
   "execution_count": 24,
   "metadata": {},
   "outputs": [
    {
     "data": {
      "text/plain": [
       "<matplotlib.axes._subplots.AxesSubplot at 0x2517a043908>"
      ]
     },
     "execution_count": 24,
     "metadata": {},
     "output_type": "execute_result"
    },
    {
     "data": {
      "image/png": "[encoded data removed]",
      "text/plain": [
       "<Figure size 432x288 with 1 Axes>"
      ]
     },
     "metadata": {
      "needs_background": "light"
     },
     "output_type": "display_data"
    }
   ],
   "source": [
    "crosstab.plot.bar(stacked=True)"
   ]
  }
 ],
 "metadata": {
  "kernelspec": {
   "display_name": "Python 3",
   "language": "python",
   "name": "python3"
  },
  "language_info": {
   "codemirror_mode": {
    "name": "ipython",
    "version": 3
   },
   "file_extension": ".py",
   "mimetype": "text/x-python",
   "name": "python",
   "nbconvert_exporter": "python",
   "pygments_lexer": "ipython3",
   "version": "3.7.4"
  }
 },
 "nbformat": 4,
 "nbformat_minor": 4
}
