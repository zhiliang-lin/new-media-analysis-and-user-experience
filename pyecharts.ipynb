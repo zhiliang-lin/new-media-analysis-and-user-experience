{
 "cells": [
  {
   "cell_type": "code",
   "execution_count": 1,
   "metadata": {},
   "outputs": [],
   "source": [
    "import pyecharts\n",
    "import pandas as pd\n",
    "# 使用pyecharts自带的config来申明一下使用pyecharts的运行环境\n",
    "from pyecharts.globals import CurrentConfig, NotebookType\n",
    "CurrentConfig.NOTEBOOK_TYPE = NotebookType.JUPYTER_LAB\n",
    "\n",
    "\n",
    "import pyecharts.options as opts"
   ]
  },
  {
   "cell_type": "code",
   "execution_count": 6,
   "metadata": {},
   "outputs": [],
   "source": [
    "df = pd.read_excel(\"D:\\\\teaching\\\\New Media Analysis and User Experience\\\\survey\\\\inm.xlsx\")"
   ]
  },
  {
   "cell_type": "markdown",
   "metadata": {},
   "source": [
    "# 数据清洗"
   ]
  },
  {
   "cell_type": "code",
   "execution_count": 7,
   "metadata": {},
   "outputs": [],
   "source": [
    "def gender(series):\n",
    "    if series == 1:\n",
    "        return '男性'\n",
    "    else:\n",
    "        return '女性'\n",
    "\n",
    "def hukou(series):\n",
    "    if series == 1:\n",
    "        return '城镇'\n",
    "    else:\n",
    "        return '非城镇'\n",
    "\n",
    "def location (series):\n",
    "    if series == 1:\n",
    "        return \"非广东地区\"\n",
    "    elif series == 2:\n",
    "        return \"珠三角地区\"\n",
    "    elif series == 3:\n",
    "        return \"粤东\"\n",
    "    elif series == 4:\n",
    "        return \"粤西\"\n",
    "    else:\n",
    "        return \"粤北\"\n",
    "\n",
    "def like(series):\n",
    "    if series == 1:\n",
    "        return '喜欢'\n",
    "    else:\n",
    "        return '不喜欢'\n",
    "\n",
    "def impr(series):\n",
    "    if series == 1:\n",
    "        return '有提升空间'\n",
    "    else:\n",
    "        return '挺好的'\n"
   ]
  },
  {
   "cell_type": "code",
   "execution_count": 8,
   "metadata": {},
   "outputs": [],
   "source": [
    "df.gender = df.gender.apply(gender).astype('category')\n",
    "# df.gender.value_counts()\n",
    "\n",
    "df.hukou = df.hukou.apply(hukou).astype('category')\n",
    "# df.hukou.value_counts()\n",
    "\n",
    "df.location = df.location.apply(location).astype('category')\n",
    "# df.location.value_counts()"
   ]
  },
  {
   "cell_type": "code",
   "execution_count": 9,
   "metadata": {},
   "outputs": [],
   "source": [
    "# df.filter(regex = \"^l_.*\")"
   ]
  },
  {
   "cell_type": "markdown",
   "metadata": {},
   "source": [
    "# 直方图"
   ]
  },
  {
   "cell_type": "code",
   "execution_count": 10,
   "metadata": {},
   "outputs": [
    {
     "data": {
      "text/html": [
       "<div>\n",
       "<style scoped>\n",
       "    .dataframe tbody tr th:only-of-type {\n",
       "        vertical-align: middle;\n",
       "    }\n",
       "\n",
       "    .dataframe tbody tr th {\n",
       "        vertical-align: top;\n",
       "    }\n",
       "\n",
       "    .dataframe thead th {\n",
       "        text-align: right;\n",
       "    }\n",
       "</style>\n",
       "<table border=\"1\" class=\"dataframe\">\n",
       "  <thead>\n",
       "    <tr style=\"text-align: right;\">\n",
       "      <th></th>\n",
       "      <th>unique_values</th>\n",
       "      <th>counts</th>\n",
       "    </tr>\n",
       "  </thead>\n",
       "  <tbody>\n",
       "    <tr>\n",
       "      <th>4</th>\n",
       "      <td>1</td>\n",
       "      <td>1</td>\n",
       "    </tr>\n",
       "    <tr>\n",
       "      <th>2</th>\n",
       "      <td>2</td>\n",
       "      <td>10</td>\n",
       "    </tr>\n",
       "    <tr>\n",
       "      <th>0</th>\n",
       "      <td>3</td>\n",
       "      <td>44</td>\n",
       "    </tr>\n",
       "    <tr>\n",
       "      <th>1</th>\n",
       "      <td>4</td>\n",
       "      <td>24</td>\n",
       "    </tr>\n",
       "    <tr>\n",
       "      <th>3</th>\n",
       "      <td>5</td>\n",
       "      <td>1</td>\n",
       "    </tr>\n",
       "  </tbody>\n",
       "</table>\n",
       "</div>"
      ],
      "text/plain": [
       "   unique_values  counts\n",
       "4              1       1\n",
       "2              2      10\n",
       "0              3      44\n",
       "1              4      24\n",
       "3              5       1"
      ]
     },
     "execution_count": 10,
     "metadata": {},
     "output_type": "execute_result"
    }
   ],
   "source": [
    "tb_eff = df.effort_overall.value_counts().rename_axis('unique_values').reset_index(name='counts').sort_values(\"unique_values\")\n",
    "tb_eff"
   ]
  },
  {
   "cell_type": "code",
   "execution_count": 11,
   "metadata": {},
   "outputs": [
    {
     "data": {
      "text/plain": [
       "'D:\\\\teaching\\\\New Media Analysis and User Experience\\\\survey\\\\直方图.html'"
      ]
     },
     "execution_count": 11,
     "metadata": {},
     "output_type": "execute_result"
    }
   ],
   "source": [
    "from pyecharts.charts import Bar\n",
    "\n",
    "bar = Bar()\n",
    "bar.add_xaxis(list(tb_eff.unique_values))\n",
    "bar.add_yaxis(\"effort_overall\", list(tb_eff.counts))\n",
    "# render 会生成本地 HTML 文件，默认会在当前目录生成 render.html 文件\n",
    "# 也可以传入路径参数，如 bar.render(\"mycharts.html\")\n",
    "# bar.load_javascript()\n",
    "# bar.render_notebook()\n",
    "bar.render(\"直方图.html\")"
   ]
  },
  {
   "cell_type": "markdown",
   "metadata": {},
   "source": [
    "# 饼状图"
   ]
  },
  {
   "cell_type": "markdown",
   "metadata": {},
   "source": [
    "## 性别比例"
   ]
  },
  {
   "cell_type": "code",
   "execution_count": 12,
   "metadata": {},
   "outputs": [
    {
     "data": {
      "text/html": [
       "<div>\n",
       "<style scoped>\n",
       "    .dataframe tbody tr th:only-of-type {\n",
       "        vertical-align: middle;\n",
       "    }\n",
       "\n",
       "    .dataframe tbody tr th {\n",
       "        vertical-align: top;\n",
       "    }\n",
       "\n",
       "    .dataframe thead th {\n",
       "        text-align: right;\n",
       "    }\n",
       "</style>\n",
       "<table border=\"1\" class=\"dataframe\">\n",
       "  <thead>\n",
       "    <tr style=\"text-align: right;\">\n",
       "      <th></th>\n",
       "      <th>gender</th>\n",
       "      <th>counts</th>\n",
       "    </tr>\n",
       "  </thead>\n",
       "  <tbody>\n",
       "    <tr>\n",
       "      <th>0</th>\n",
       "      <td>女性</td>\n",
       "      <td>64</td>\n",
       "    </tr>\n",
       "    <tr>\n",
       "      <th>1</th>\n",
       "      <td>男性</td>\n",
       "      <td>16</td>\n",
       "    </tr>\n",
       "  </tbody>\n",
       "</table>\n",
       "</div>"
      ],
      "text/plain": [
       "  gender  counts\n",
       "0     女性      64\n",
       "1     男性      16"
      ]
     },
     "execution_count": 12,
     "metadata": {},
     "output_type": "execute_result"
    }
   ],
   "source": [
    "tb_gender = df.gender.value_counts().rename_axis('gender').reset_index(name='counts')\n",
    "\n",
    "tb_gender\n"
   ]
  },
  {
   "cell_type": "code",
   "execution_count": 14,
   "metadata": {},
   "outputs": [
    {
     "data": {
      "text/plain": [
       "'D:\\\\teaching\\\\New Media Analysis and User Experience\\\\survey\\\\饼图.html'"
      ]
     },
     "execution_count": 14,
     "metadata": {},
     "output_type": "execute_result"
    }
   ],
   "source": [
    "import pyecharts.options as opts\n",
    "from pyecharts.charts import Pie\n",
    "\n",
    "\"\"\"\n",
    "Gallery 使用 pyecharts 1.1.0\n",
    "参考地址: https://echarts.baidu.com/examples/editor.html?c=pie-doughnut\n",
    "\n",
    "目前无法实现的功能:\n",
    "\n",
    "1、迷之颜色映射的问题\n",
    "\"\"\"\n",
    "\n",
    "x_data = tb_gender.gender.to_list()\n",
    "y_data = tb_gender.counts.to_list()\n",
    "data_pair = [list(z) for z in zip(x_data, y_data)]\n",
    "data_pair.sort(key=lambda x: x[1])\n",
    "\n",
    "(\n",
    "    Pie(init_opts=opts.InitOpts(width=\"1600px\", height=\"800px\", bg_color=\"#2c343c\"))\n",
    "    .add(\n",
    "        series_name=\"男女比例\",\n",
    "        data_pair=data_pair,\n",
    "        rosetype=\"radius\",\n",
    "        radius=\"55%\",\n",
    "        center=[\"50%\", \"50%\"],\n",
    "        label_opts=opts.LabelOpts(is_show=False, position=\"center\"),\n",
    "    )\n",
    "    .set_global_opts(\n",
    "        title_opts=opts.TitleOpts(\n",
    "            title=\"网新学子性别比例饼状图\",\n",
    "            pos_left=\"center\",\n",
    "            pos_top=\"20\",\n",
    "            title_textstyle_opts=opts.TextStyleOpts(color=\"#fff\"),\n",
    "        ),\n",
    "        legend_opts=opts.LegendOpts(is_show=False),\n",
    "    )\n",
    "    .set_series_opts(\n",
    "        tooltip_opts=opts.TooltipOpts(\n",
    "            trigger=\"item\", formatter=\"{a} <br/>{b}: {c} ({d}%)\"\n",
    "        ),\n",
    "        label_opts=opts.LabelOpts(color=\"rgba(255, 255, 255, 0.3)\"),\n",
    "    )\n",
    "#     .render_notebook()\n",
    "      .render(\"饼图.html\")\n",
    ")\n"
   ]
  },
  {
   "cell_type": "markdown",
   "metadata": {},
   "source": [
    "## 生源地"
   ]
  },
  {
   "cell_type": "code",
   "execution_count": 17,
   "metadata": {},
   "outputs": [
    {
     "data": {
      "text/html": [
       "<div>\n",
       "<style scoped>\n",
       "    .dataframe tbody tr th:only-of-type {\n",
       "        vertical-align: middle;\n",
       "    }\n",
       "\n",
       "    .dataframe tbody tr th {\n",
       "        vertical-align: top;\n",
       "    }\n",
       "\n",
       "    .dataframe thead th {\n",
       "        text-align: right;\n",
       "    }\n",
       "</style>\n",
       "<table border=\"1\" class=\"dataframe\">\n",
       "  <thead>\n",
       "    <tr style=\"text-align: right;\">\n",
       "      <th></th>\n",
       "      <th>location</th>\n",
       "      <th>counts</th>\n",
       "    </tr>\n",
       "  </thead>\n",
       "  <tbody>\n",
       "    <tr>\n",
       "      <th>0</th>\n",
       "      <td>珠三角地区</td>\n",
       "      <td>40</td>\n",
       "    </tr>\n",
       "    <tr>\n",
       "      <th>1</th>\n",
       "      <td>粤东</td>\n",
       "      <td>17</td>\n",
       "    </tr>\n",
       "    <tr>\n",
       "      <th>2</th>\n",
       "      <td>粤西</td>\n",
       "      <td>10</td>\n",
       "    </tr>\n",
       "    <tr>\n",
       "      <th>3</th>\n",
       "      <td>非广东地区</td>\n",
       "      <td>7</td>\n",
       "    </tr>\n",
       "    <tr>\n",
       "      <th>4</th>\n",
       "      <td>粤北</td>\n",
       "      <td>6</td>\n",
       "    </tr>\n",
       "  </tbody>\n",
       "</table>\n",
       "</div>"
      ],
      "text/plain": [
       "  location  counts\n",
       "0    珠三角地区      40\n",
       "1       粤东      17\n",
       "2       粤西      10\n",
       "3    非广东地区       7\n",
       "4       粤北       6"
      ]
     },
     "execution_count": 17,
     "metadata": {},
     "output_type": "execute_result"
    }
   ],
   "source": [
    "tb_location = df.location.value_counts().rename_axis('location').reset_index(name='counts')\n",
    "tb_location"
   ]
  },
  {
   "cell_type": "code",
   "execution_count": 18,
   "metadata": {},
   "outputs": [
    {
     "data": {
      "text/plain": [
       "'D:\\\\teaching\\\\New Media Analysis and User Experience\\\\survey\\\\饼图-生源地.html'"
      ]
     },
     "execution_count": 18,
     "metadata": {},
     "output_type": "execute_result"
    }
   ],
   "source": [
    "import pyecharts.options as opts\n",
    "from pyecharts.charts import Pie\n",
    "\n",
    "\"\"\"\n",
    "Gallery 使用 pyecharts 1.1.0\n",
    "参考地址: https://echarts.baidu.com/examples/editor.html?c=pie-doughnut\n",
    "\n",
    "目前无法实现的功能:\n",
    "\n",
    "1、饼状图中间的图例名称暂时无法显示\n",
    "\"\"\"\n",
    "\n",
    "x_data = tb_location.location.to_list()\n",
    "y_data = tb_location.counts.to_list()\n",
    "\n",
    "(\n",
    "    Pie(init_opts=opts.InitOpts(width=\"1600px\", height=\"1000px\"))\n",
    "    .add(\n",
    "        series_name=\"生源地\",\n",
    "        data_pair=[list(z) for z in zip(x_data, y_data)],\n",
    "        radius=[\"50%\", \"70%\"],\n",
    "        label_opts=opts.LabelOpts(is_show=False, position=\"center\"),\n",
    "    )\n",
    "    .set_global_opts(legend_opts=opts.LegendOpts(pos_left=\"legft\", orient=\"vertical\"))\n",
    "    .set_series_opts(\n",
    "        tooltip_opts=opts.TooltipOpts(\n",
    "            trigger=\"item\", formatter=\"{a} <br/>{b}: {c} ({d}%)\"\n",
    "        ),\n",
    "        # label_opts=opts.LabelOpts(formatter=\"{b}: {c}\")\n",
    "    )\n",
    "#     .render_notebook()\n",
    "      .render(\"饼图-生源地.html\")\n",
    ")\n"
   ]
  },
  {
   "cell_type": "markdown",
   "metadata": {},
   "source": [
    "# 箱型图"
   ]
  },
  {
   "cell_type": "code",
   "execution_count": 19,
   "metadata": {},
   "outputs": [],
   "source": [
    "city_ranking = df[df.hukou == \"城镇\"].ranking.to_list()\n",
    "rural_ranking = df[df.hukou == \"非城镇\"].ranking.to_list()"
   ]
  },
  {
   "cell_type": "code",
   "execution_count": 20,
   "metadata": {},
   "outputs": [
    {
     "data": {
      "text/plain": [
       "<pyecharts.charts.basic_charts.boxplot.Boxplot at 0x179bf367b08>"
      ]
     },
     "execution_count": 20,
     "metadata": {},
     "output_type": "execute_result"
    }
   ],
   "source": [
    "from pyecharts import options as opts\n",
    "from pyecharts.charts import Boxplot\n",
    "\n",
    "v1 = [city_ranking,rural_ranking]\n",
    "\n",
    "c = Boxplot()\n",
    "c.add_xaxis([\"城镇\", \"非城镇\"])\n",
    "c.add_yaxis(\"户口\",c.prepare_data(v1))\n",
    "c.set_global_opts(title_opts=opts.TitleOpts(title=\"户口与学业成绩的箱型图\"))\n"
   ]
  },
  {
   "cell_type": "code",
   "execution_count": 21,
   "metadata": {},
   "outputs": [
    {
     "data": {
      "text/plain": [
       "'D:\\\\teaching\\\\New Media Analysis and User Experience\\\\survey\\\\箱型图.html'"
      ]
     },
     "execution_count": 21,
     "metadata": {},
     "output_type": "execute_result"
    }
   ],
   "source": [
    "# c.render_notebook()\n",
    "c.render(\"箱型图.html\")"
   ]
  },
  {
   "cell_type": "markdown",
   "metadata": {},
   "source": [
    "## 生源地与专业满意度"
   ]
  },
  {
   "cell_type": "code",
   "execution_count": 22,
   "metadata": {},
   "outputs": [],
   "source": [
    "fei_sati = df[df.location == \"非广东地区\"].sati_overall.to_list()\n",
    "pearl_sati = df[df.location == \"珠三角地区\"].sati_overall.to_list()\n",
    "north_sati = df[df.location == \"粤北\"].sati_overall.to_list()\n",
    "west_sati = df[df.location == \"粤西\"].sati_overall.to_list()\n",
    "east_sati = df[df.location == \"粤东\"].sati_overall.to_list()"
   ]
  },
  {
   "cell_type": "code",
   "execution_count": 23,
   "metadata": {},
   "outputs": [
    {
     "data": {
      "text/plain": [
       "<pyecharts.charts.basic_charts.boxplot.Boxplot at 0x179bf388988>"
      ]
     },
     "execution_count": 23,
     "metadata": {},
     "output_type": "execute_result"
    }
   ],
   "source": [
    "v2 = [fei_sati,pearl_sati,north_sati,west_sati,east_sati]\n",
    "\n",
    "c = Boxplot()\n",
    "c.add_xaxis([\"非广东地区 \",\"珠三角地区 \",\"粤东 \",\"粤西 \",\"粤北\"])\n",
    "c.add_yaxis(\"生源地\",c.prepare_data(v2))\n",
    "c.set_global_opts(title_opts=opts.TitleOpts(title=\"生源地与专业满意度的箱型图\"))"
   ]
  },
  {
   "cell_type": "code",
   "execution_count": 24,
   "metadata": {},
   "outputs": [
    {
     "data": {
      "text/plain": [
       "'D:\\\\teaching\\\\New Media Analysis and User Experience\\\\survey\\\\箱型图-生源地与专业满意度.html'"
      ]
     },
     "execution_count": 24,
     "metadata": {},
     "output_type": "execute_result"
    }
   ],
   "source": [
    "# c.render_notebook()\n",
    "c.render(\"箱型图-生源地与专业满意度.html\")"
   ]
  },
  {
   "cell_type": "markdown",
   "metadata": {},
   "source": [
    "# 雷达图"
   ]
  },
  {
   "cell_type": "code",
   "execution_count": 26,
   "metadata": {},
   "outputs": [
    {
     "data": {
      "text/plain": [
       "[2.0, 3.3, 3.3125, 3.2875, 3.3, 3.1]"
      ]
     },
     "execution_count": 26,
     "metadata": {},
     "output_type": "execute_result"
    }
   ],
   "source": [
    "cap_mean = df.filter(regex = \"cap_*\").mean().to_list()\n",
    "cap_mean"
   ]
  },
  {
   "cell_type": "code",
   "execution_count": 27,
   "metadata": {},
   "outputs": [
    {
     "data": {
      "text/plain": [
       "'D:\\\\teaching\\\\New Media Analysis and User Experience\\\\survey\\\\雷达图.html'"
      ]
     },
     "execution_count": 27,
     "metadata": {},
     "output_type": "execute_result"
    }
   ],
   "source": [
    "import pyecharts.options as opts\n",
    "from pyecharts.charts import Radar\n",
    "\n",
    "\"\"\"\n",
    "Gallery 使用 pyecharts 1.1.0\n",
    "参考地址: https://echarts.baidu.com/examples/editor.html?c=radar\n",
    "\n",
    "目前无法实现的功能:\n",
    "\n",
    "1、雷达图周围的图例的 textStyle 暂时无法设置背景颜色\n",
    "\"\"\"\n",
    "v1 = [cap_mean]\n",
    "\n",
    "(\n",
    "    Radar(init_opts=opts.InitOpts(width=\"1280px\", height=\"720px\", bg_color=\"#CCCCCC\"))\n",
    "    .add_schema(\n",
    "        schema=[\n",
    "            opts.RadarIndicatorItem(name=\"编程能力\", max_=5),\n",
    "            opts.RadarIndicatorItem(name=\"设计能力\", max_=5),\n",
    "            opts.RadarIndicatorItem(name=\"运营能力\", max_=5),\n",
    "            opts.RadarIndicatorItem(name=\"产品能力\", max_=5),\n",
    "            opts.RadarIndicatorItem(name=\"文案能力\", max_=5),\n",
    "            opts.RadarIndicatorItem(name=\"营销能力\", max_=5),\n",
    "        ],\n",
    "        splitarea_opt=opts.SplitAreaOpts(\n",
    "            is_show=True, areastyle_opts=opts.AreaStyleOpts(opacity=1)\n",
    "        ),\n",
    "        textstyle_opts=opts.TextStyleOpts(color=\"#fff\"),\n",
    "    )\n",
    "    .add(\n",
    "        series_name=\"专业能力\",\n",
    "        data=v1,\n",
    "        linestyle_opts=opts.LineStyleOpts(color=\"#CD0000\"),\n",
    "    )\n",
    "    .set_series_opts(label_opts=opts.LabelOpts(is_show=False))\n",
    "    .set_global_opts(\n",
    "        title_opts=opts.TitleOpts(title=\"网新学子专业能力雷达图\"), legend_opts=opts.LegendOpts()\n",
    "    )\n",
    "#     .render_notebook()\n",
    "      .render(\"雷达图.html\")\n",
    ")"
   ]
  },
  {
   "cell_type": "markdown",
   "metadata": {},
   "source": [
    "# 堆叠直方图"
   ]
  },
  {
   "cell_type": "code",
   "execution_count": 28,
   "metadata": {},
   "outputs": [
    {
     "data": {
      "text/html": [
       "<div>\n",
       "<style scoped>\n",
       "    .dataframe tbody tr th:only-of-type {\n",
       "        vertical-align: middle;\n",
       "    }\n",
       "\n",
       "    .dataframe tbody tr th {\n",
       "        vertical-align: top;\n",
       "    }\n",
       "\n",
       "    .dataframe thead th {\n",
       "        text-align: right;\n",
       "    }\n",
       "</style>\n",
       "<table border=\"1\" class=\"dataframe\">\n",
       "  <thead>\n",
       "    <tr style=\"text-align: right;\">\n",
       "      <th>l_code</th>\n",
       "      <th>0</th>\n",
       "      <th>1</th>\n",
       "    </tr>\n",
       "    <tr>\n",
       "      <th>gender</th>\n",
       "      <th></th>\n",
       "      <th></th>\n",
       "    </tr>\n",
       "  </thead>\n",
       "  <tbody>\n",
       "    <tr>\n",
       "      <th>女性</th>\n",
       "      <td>56</td>\n",
       "      <td>8</td>\n",
       "    </tr>\n",
       "    <tr>\n",
       "      <th>男性</th>\n",
       "      <td>11</td>\n",
       "      <td>5</td>\n",
       "    </tr>\n",
       "  </tbody>\n",
       "</table>\n",
       "</div>"
      ],
      "text/plain": [
       "l_code   0  1\n",
       "gender       \n",
       "女性      56  8\n",
       "男性      11  5"
      ]
     },
     "execution_count": 28,
     "metadata": {},
     "output_type": "execute_result"
    }
   ],
   "source": [
    "crosstab = pd.crosstab(df.gender,df.l_code)\n",
    "crosstab"
   ]
  },
  {
   "cell_type": "code",
   "execution_count": 29,
   "metadata": {},
   "outputs": [],
   "source": [
    "female = crosstab.iloc[0,:].to_list()\n",
    "male = crosstab.iloc[1,:].to_list()"
   ]
  },
  {
   "cell_type": "code",
   "execution_count": 30,
   "metadata": {},
   "outputs": [],
   "source": [
    "from pyecharts import options as opts\n",
    "from pyecharts.charts import Bar\n",
    "from pyecharts.faker import Faker\n",
    "\n",
    "c = (\n",
    "    Bar()\n",
    "    .add_xaxis([\"不喜欢编程类课程\",\"喜欢编程类课程\"])\n",
    "    .add_yaxis(\"女生\", female, stack=\"stack1\")\n",
    "    .add_yaxis(\"男生\", male, stack=\"stack1\")\n",
    "    .set_series_opts(label_opts=opts.LabelOpts(is_show=False))\n",
    "    .set_global_opts(title_opts=opts.TitleOpts(title=\"性别与喜不喜欢编程类课程的关系的堆叠图\"))\n",
    ")"
   ]
  },
  {
   "cell_type": "code",
   "execution_count": 31,
   "metadata": {},
   "outputs": [
    {
     "data": {
      "text/plain": [
       "'D:\\\\teaching\\\\New Media Analysis and User Experience\\\\survey\\\\堆叠图.html'"
      ]
     },
     "execution_count": 31,
     "metadata": {},
     "output_type": "execute_result"
    }
   ],
   "source": [
    "# c.render_notebook()\n",
    "c.render(\"堆叠图.html\")"
   ]
  }
 ],
 "metadata": {
  "kernelspec": {
   "display_name": "Python 3",
   "language": "python",
   "name": "python3"
  },
  "language_info": {
   "codemirror_mode": {
    "name": "ipython",
    "version": 3
   },
   "file_extension": ".py",
   "mimetype": "text/x-python",
   "name": "python",
   "nbconvert_exporter": "python",
   "pygments_lexer": "ipython3",
   "version": "3.7.4"
  }
 },
 "nbformat": 4,
 "nbformat_minor": 4
}
